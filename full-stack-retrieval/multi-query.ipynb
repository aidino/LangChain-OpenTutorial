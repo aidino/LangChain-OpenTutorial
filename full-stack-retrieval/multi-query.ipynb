{
 "cells": [
  {
   "cell_type": "markdown",
   "metadata": {},
   "source": [
    "# Multi-Query Code"
   ]
  },
  {
   "cell_type": "markdown",
   "metadata": {},
   "source": [
    "Multi-Query là một phương pháp nâng cao của giai đoạn Query Transformation (Biến đổi truy vấn) trong retrieval (truy xuất thông tin).\n",
    "\n",
    "Trong retrieval truyền thống, bạn thường cung cấp 1 câu hỏi hoặc query (truy vấn) cho database (cơ sở dữ liệu) của mình và sử dụng một similarity measure (đo lường độ tương đồng), bạn sẽ nhận lại 4-5 documents (tài liệu).\n",
    "\n",
    "Tuy nhiên, phương pháp multi-query (đa truy vấn) sẽ tạo ra nhiều queries (truy vấn) (đúng như tên gọi) và sau đó sử dụng từng query (truy vấn) để lấy các docs (tài liệu) tương tự.\n",
    "\n",
    "Mục tiêu là các docs (tài liệu) được trả về đại diện cho một context (ngữ cảnh) toàn diện hơn để LLM (mô hình ngôn ngữ lớn) của bạn làm việc.\n",
    "\n",
    "![](https://retrieval-tutorials.vercel.app/assets/images/MultiQuery-44880700b3e328b054c4c1f93dcf7e49.gif)\n",
    "\n",
    "### Tại sao điều này hữu ích?\n",
    "\n",
    "Thông thường, các nhà phát triển sẽ sử dụng Multi-Query vì hai lý do chính: Tăng cường một query (truy vấn) không tối ưu và Mở rộng tập kết quả.\n",
    "\n",
    "Tăng cường một query (truy vấn) không tối ưu\n",
    "\n",
    "Người dùng không phải lúc nào cũng đưa ra các queries (truy vấn) tốt nhất, chúng ta không thể trách họ được - Họ chỉ đang cố gắng sử dụng sản phẩm của bạn, chứ không phải xây dựng một query (truy vấn) hoàn hảo.\n",
    "\n",
    "Để giúp giải quyết vấn đề này, chúng ta chuyển sang phương pháp multi-query (đa truy vấn) để giúp chúng ta lấp đầy bất kỳ khoảng trống nào trong query (truy vấn) của người dùng.\n",
    "\n",
    "Mở rộng tập kết quả\n",
    "\n",
    "Với nhiều queries (truy vấn), bạn có khả năng nhận được nhiều kết quả hơn từ database (cơ sở dữ liệu) của mình. Mục tiêu của multi-query (đa truy vấn) là có một tập kết quả mở rộng, có thể trả lời các câu hỏi tốt hơn so với các docs (tài liệu) từ một query (truy vấn) duy nhất.\n",
    "\n",
    "Các kết quả này sẽ được deduplicated (loại bỏ trùng lặp - trong trường hợp cùng một document (tài liệu) được trả về nhiều lần) và sau đó được sử dụng làm context (ngữ cảnh) trong prompt (lời nhắc) cuối cùng của bạn.\n"
   ]
  },
  {
   "cell_type": "code",
   "execution_count": 4,
   "metadata": {},
   "outputs": [
    {
     "data": {
      "text/plain": [
       "True"
      ]
     },
     "execution_count": 4,
     "metadata": {},
     "output_type": "execute_result"
    }
   ],
   "source": [
    "from dotenv import load_dotenv\n",
    "import os\n",
    "\n",
    "load_dotenv(dotenv_path='.env')"
   ]
  },
  {
   "cell_type": "code",
   "execution_count": 5,
   "metadata": {},
   "outputs": [
    {
     "name": "stdout",
     "output_type": "stream",
     "text": [
      "Processing data/vneid.pdf...\n",
      "[                                        ] (0/13[                                        ] (  1/13[                                        ] (  2/13[                                        ] (  3/136[=                                       ] (  4/1[=                                       ] (  5/1[=                                       ] (  6/13[==                                      ] (  7/13[==                                      ] (  8/13[==                                      ] (  9/13[==                                      ] ( 10/136[===                                     ] ( 11/1[===                                     ] ( 12/1[===                                     ] ( 13/13[====                                    ] ( 14/13[====                                    ] ( 15/13[====                                    ] ( 16/136[=====                                   ] ( 17/136[=====                                   ] ( 18/1[=====                                   ] ( 19/136[=====                                   ] ( 20/13[======                                  ] ( 21/13[======                                  ] ( 22/13[======                                  ] ( 23/136[=======                                 ] ( 24/1[=======                                 ] ( 25/136[=======                                 ] ( 26/1[=======                                 ] ( 27/13[========                                ] ( 28/13[========                                ] ( 29/13[========                                ] ( 30/136[=========                               ] ( 31/1[=========                               ] ( 32/1[=========                               ] ( 33/13[==========                              ] ( 34/13[==========                              ] ( 35/13[==========                              ] ( 36/13[==========                              ] ( 37/136[===========                             ] ( 38/1[===========                             ] ( 39/1[===========                             ] ( 40/13[============                            ] ( 41/13[============                            ] ( 42/13[============                            ] ( 43/13[============                            ] ( 44/136[=============                           ] ( 45/1[=============                           ] ( 46/136[=============                           ] ( 47/13[==============                          ] ( 48/13[==============                          ] ( 49/13[==============                          ] ( 50/136[===============                         ] ( 51/1[===============                         ] ( 52/1[===============                         ] ( 53/136[===============                         ] ( 54/13[================                        ] ( 55/13[================                        ] ( 56/13[================                        ] ( 57/136[=================                       ] ( 58/136[=================                       ] ( 59/1[=================                       ] ( 60/1[=================                       ] ( 61/13[==================                      ] ( 62/13[==================                      ] ( 63/13[==================                      ] ( 64/136[===================                     ] ( 65/1[===================                     ] ( 66/1[===================                     ] ( 67/13[====================                    ] ( 68/13[====================                    ] ( 69/13[====================                    ] ( 70/13[====================                    ] ( 71/136[=====================                   ] ( 72/1[=====================                   ] ( 73/1[=====================                   ] ( 74/13[======================                  ] ( 75/13[======================                  ] ( 76/13[======================                  ] ( 77/13[======================                  ] ( 78/136[=======================                 ] ( 79/1[=======================                 ] ( 80/1[=======================                 ] ( 81/13[========================                ] ( 82/13[========================                ] ( 83/13[========================                ] ( 84/136[=========================               ] ( 85/136[=========================               ] ( 86/1[=========================               ] ( 87/1[=========================               ] ( 88/13[==========================              ] ( 89/13[==========================              ] ( 90/13[==========================              ] ( 91/136[===========================             ] ( 92/136[===========================             ] ( 93/1[===========================             ] ( 94/1[===========================             ] ( 95/13[============================            ] ( 96/13[============================            ] ( 97/13[============================            ] ( 98/136[=============================           ] ( 99/136[=============================           ] (100/1[=============================           ] (101/13[==============================          ] (102/13[==============================          ] (103/13[==============================          ] (104/13[==============================          ] (105/136[===============================         ] (106/1[===============================         ] (107/136[===============================         ] (108/13[================================        ] (109/13[================================        ] (110/13[================================        ] (111/13[================================        ] (112/136[=================================       ] (113/1[=================================       ] (114/1[=================================       ] (115/13[==================================      ] (116/13[==================================      ] (117/13[==================================      ] (118/136[===================================     ] (119/1[===================================     ] (120/1[===================================     ] (121/1[===================================     ] (122/13[====================================    ] (123/13[====================================    ] (124/13[====================================    ] (125/136[=====================================   ] (126/1[=====================================   ] (127/1[=====================================   ] (128/1[=====================================   ] (129/13[======================================  ] (130/13[======================================  ] (131/13[======================================  ] (132/136[======================================= ] (133/1[======================================= ] (134/1[======================================= ] (135/13[========================================] (136/136]\n"
     ]
    }
   ],
   "source": [
    "import re\n",
    "import pymupdf4llm\n",
    "\n",
    "md_text = pymupdf4llm.to_markdown(\n",
    "    doc='data/vneid.pdf', \n",
    "    write_images=True,\n",
    "    embed_images=False,\n",
    "    image_path=\"data/md_img\",)\n",
    "\n",
    "\n",
    "def preprocess_markdown(markdown_text):\n",
    "    # Thay thế các dòng '# Hình ...' thành văn bản không phải tiêu đề\n",
    "    processed_text = re.sub(r'^# (Hình .+)$', r'\\1', markdown_text, flags=re.MULTILINE)\n",
    "    processed_text = processed_text.replace('\\t', ' ')\n",
    "    return processed_text\n",
    "\n",
    "cleaned_markdown = preprocess_markdown(md_text)"
   ]
  },
  {
   "cell_type": "code",
   "execution_count": 6,
   "metadata": {},
   "outputs": [
    {
     "data": {
      "text/plain": [
       "80209"
      ]
     },
     "execution_count": 6,
     "metadata": {},
     "output_type": "execute_result"
    }
   ],
   "source": [
    "import pathlib\n",
    "pathlib.Path(\"data/vneid.md\").write_bytes(cleaned_markdown.encode())"
   ]
  },
  {
   "cell_type": "code",
   "execution_count": 7,
   "metadata": {},
   "outputs": [],
   "source": [
    "from langchain_ollama.embeddings import OllamaEmbeddings\n",
    "from langchain.text_splitter import RecursiveCharacterTextSplitter\n",
    "from langchain.vectorstores import  FAISS\n",
    "from langchain_community.document_loaders import UnstructuredMarkdownLoader\n",
    "\n",
    "loader = UnstructuredMarkdownLoader(\n",
    "    \"data/vneid.md\",\n",
    "    mode=\"elements\",\n",
    "    strategy=\"fast\",\n",
    ")\n",
    "\n",
    "documents = loader.load()\n",
    "\n",
    "sentence_text_splitter = RecursiveCharacterTextSplitter(\n",
    "    chunk_size=1500,\n",
    "    chunk_overlap=200,\n",
    "    separators=[\"\\n\\n\", \"\\n\", \" \"]\n",
    ")\n",
    "\n",
    "split_sentences = sentence_text_splitter.split_documents(documents)\n",
    "embeddings = OllamaEmbeddings(model='bge-m3:latest')\n",
    "vectordb = FAISS.from_documents(split_sentences, embeddings)"
   ]
  },
  {
   "cell_type": "code",
   "execution_count": 8,
   "metadata": {},
   "outputs": [],
   "source": [
    "# Setp multi query\n",
    "from langchain_ollama import ChatOllama\n",
    "from langchain.retrievers.multi_query import MultiQueryRetriever\n",
    "from langchain.prompts import PromptTemplate\n",
    "import logging\n",
    "\n",
    "logging.basicConfig()\n",
    "logging.getLogger(\"langchain.retrievers.multi_query\").setLevel(logging.INFO)"
   ]
  },
  {
   "cell_type": "code",
   "execution_count": 12,
   "metadata": {},
   "outputs": [],
   "source": [
    "question = 'Cách đăng ký vneid mức O'\n",
    "llm = ChatOllama(model='gemma3:4b', temperature=0)\n",
    "\n",
    "retriever_from_llm = MultiQueryRetriever.from_llm(\n",
    "    retriever=vectordb.as_retriever(),\n",
    "    llm=llm\n",
    ")"
   ]
  },
  {
   "cell_type": "markdown",
   "metadata": {},
   "source": [
    "Sau đó, khi chúng ta thực sự yêu cầu các tài liệu liên quan, chúng ta sẽ thấy nhiều câu hỏi khác được tạo ra từ câu hỏi gốc của chúng ta."
   ]
  },
  {
   "cell_type": "code",
   "execution_count": 13,
   "metadata": {},
   "outputs": [
    {
     "name": "stderr",
     "output_type": "stream",
     "text": [
      "INFO:langchain.retrievers.multi_query:Generated queries: ['How do I register for VNeID Level O?', 'What are the steps involved in registering for VNeID Tier 0?', 'I want to sign up for VNeID at the basic level – how do I do that?']\n"
     ]
    },
    {
     "data": {
      "text/plain": [
       "[Document(id='803d968f-c309-4f84-a27e-b8a9d015695b', metadata={'source': 'data/vneid.md', 'category_depth': 0, 'languages': ['vie'], 'file_directory': 'data', 'filename': 'vneid.md', 'filetype': 'text/markdown', 'last_modified': '2025-03-31T13:53:22', 'category': 'Title', 'element_id': '7108b7d7271cb4632f9d0abaedf0414e'}, page_content='dụng VNeID'),\n",
       " Document(id='465b83d2-db5c-43a6-b03a-878f3f435fed', metadata={'source': 'data/vneid.md', 'category_depth': 0, 'languages': ['vie'], 'file_directory': 'data', 'filename': 'vneid.md', 'filetype': 'text/markdown', 'last_modified': '2025-03-31T13:53:22', 'category': 'Title', 'element_id': '5c876da1e5a02c52c35a2118839cbada'}, page_content='dụng VNeID'),\n",
       " Document(id='a1490aa2-c5bf-4572-81e6-a5dd259829c5', metadata={'source': 'data/vneid.md', 'category_depth': 0, 'languages': ['vie'], 'file_directory': 'data', 'filename': 'vneid.md', 'filetype': 'text/markdown', 'last_modified': '2025-03-31T13:53:22', 'category': 'Title', 'element_id': '010e56336afccad7e2b4bc4e34096c1b'}, page_content='thiệu ứng dụng VNeID'),\n",
       " Document(id='ed0c44ee-0d52-4a8b-bfe9-9c7217b891b0', metadata={'source': 'data/vneid.md', 'category_depth': 1, 'languages': ['vie'], 'file_directory': 'data', 'filename': 'vneid.md', 'filetype': 'text/markdown', 'last_modified': '2025-03-31T13:53:22', 'parent_id': '3a21ad7166c420fa2b7f6831af56fc24', 'category': 'ListItem', 'element_id': '78caba91818471baaafef0ff1d0b1561'}, page_content='Bước 1: NSD ấn nút “Đăng nhập” trên giao diện giới thiệu ứng dụng VNeID. Hệ thống hiển thị màn hình Đăng nhập ứng dụng'),\n",
       " Document(id='a0c61cc5-6a99-46f4-8587-e2d93729dbf3', metadata={'source': 'data/vneid.md', 'languages': ['vie'], 'file_directory': 'data', 'filename': 'vneid.md', 'filetype': 'text/markdown', 'last_modified': '2025-03-31T13:53:22', 'parent_id': 'bc4fa285fb22237ba744d907389db520', 'category': 'UncategorizedText', 'element_id': '690fab79b33b8a46bedefe6d4d3f211f'}, page_content='Đăng ký mức 0')]"
      ]
     },
     "execution_count": 13,
     "metadata": {},
     "output_type": "execute_result"
    }
   ],
   "source": [
    "unique_docs = retriever_from_llm.invoke(question)\n",
    "unique_docs"
   ]
  },
  {
   "cell_type": "code",
   "execution_count": 14,
   "metadata": {},
   "outputs": [
    {
     "data": {
      "text/plain": [
       "'Bước 1: NSD ấn nút “Đăng nhập” trên giao diện giới thiệu ứng dụng VNeID. Hệ thống hiển thị màn hình Đăng nhập ứng dụng'"
      ]
     },
     "execution_count": 14,
     "metadata": {},
     "output_type": "execute_result"
    }
   ],
   "source": [
    "unique_docs[3].page_content"
   ]
  },
  {
   "cell_type": "markdown",
   "metadata": {},
   "source": [
    "# Chỉnh sửa Prompt để tạo thêm Queries \n",
    "\n",
    "Nếu bạn muốn chỉnh sửa prompt template (mẫu lời nhắc) đang được MultiQuery Retriever sử dụng, bạn có thể làm điều đó khi bạn tạo nó lần đầu tiên. Xem prompt (lời nhắc) gốc đang được sử dụng ở đây.\n"
   ]
  },
  {
   "cell_type": "code",
   "execution_count": 15,
   "metadata": {},
   "outputs": [],
   "source": [
    "prompt_template = \"\"\"You are an AI language model assistant.\n",
    "\n",
    "Your task is to generate 3 different versions of the given user question in Vietnamese to retrieve relevant documents from a vector database.\n",
    "\n",
    "By generating multiple perspectives on the user question, your goal is to help the user overcome some of the limitations  of distance-based similarity search.\n",
    "\n",
    "Provide these alternative questions separated by newlines.\n",
    "\n",
    "Original question: {question}\"\"\"\n",
    "PROMPT = PromptTemplate(\n",
    "    template=prompt_template, input_variables=[\"question\"]\n",
    ")\n",
    "\n",
    "retriever_from_llm = MultiQueryRetriever.from_llm(\n",
    "    retriever=vectordb.as_retriever(), llm=llm, prompt=PROMPT\n",
    ")"
   ]
  },
  {
   "cell_type": "code",
   "execution_count": 16,
   "metadata": {},
   "outputs": [
    {
     "name": "stderr",
     "output_type": "stream",
     "text": [
      "INFO:langchain.retrievers.multi_query:Generated queries: ['1. Hướng dẫn đăng ký tài khoản VNeID cấp độ cơ bản.', '2. Quy trình đăng ký VNeID mức tối thiểu.', '3. Chi tiết về việc đăng ký VNeID cấp O – yêu cầu và thủ tục.']\n"
     ]
    }
   ],
   "source": [
    "unique_docs = retriever_from_llm.invoke(question)"
   ]
  },
  {
   "cell_type": "code",
   "execution_count": 17,
   "metadata": {},
   "outputs": [
    {
     "data": {
      "text/plain": [
       "[Document(id='ddf14239-ffa6-4b5b-bc4b-a25c7379b353', metadata={'source': 'data/vneid.md', 'languages': ['vie'], 'file_directory': 'data', 'filename': 'vneid.md', 'filetype': 'text/markdown', 'last_modified': '2025-03-31T13:53:22', 'parent_id': '472ac5ec2c06e78521e66518241e9052', 'category': 'UncategorizedText', 'element_id': '4b55048c9ee4c15e0ea7dd34b21fcdd7'}, page_content='Bước 1: NSD có thể kích hoạt bằng các cách chọn kích hoạt tài khoản trên Trang giới thiệu ứng dụng VNeID'),\n",
       " Document(id='af6d08f8-38e8-4309-9960-3ec57d7b0c8f', metadata={'source': 'data/vneid.md', 'category_depth': 1, 'languages': ['vie'], 'file_directory': 'data', 'filename': 'vneid.md', 'filetype': 'text/markdown', 'last_modified': '2025-03-31T13:53:22', 'parent_id': 'd0328e758a8f268624f3bba7a0e044ec', 'category': 'ListItem', 'element_id': 'd99a96a66e22174d26c1fb4b162fe280'}, page_content='Bước 1: NSD đăng nhập vào ứng dụng VNeID trên thiết bị di động.'),\n",
       " Document(id='ed0c44ee-0d52-4a8b-bfe9-9c7217b891b0', metadata={'source': 'data/vneid.md', 'category_depth': 1, 'languages': ['vie'], 'file_directory': 'data', 'filename': 'vneid.md', 'filetype': 'text/markdown', 'last_modified': '2025-03-31T13:53:22', 'parent_id': '3a21ad7166c420fa2b7f6831af56fc24', 'category': 'ListItem', 'element_id': '78caba91818471baaafef0ff1d0b1561'}, page_content='Bước 1: NSD ấn nút “Đăng nhập” trên giao diện giới thiệu ứng dụng VNeID. Hệ thống hiển thị màn hình Đăng nhập ứng dụng'),\n",
       " Document(id='0f49ca6f-7146-46b9-9bdd-01ab491960cf', metadata={'source': 'data/vneid.md', 'category_depth': 1, 'languages': ['vie'], 'file_directory': 'data', 'filename': 'vneid.md', 'filetype': 'text/markdown', 'last_modified': '2025-03-31T13:53:22', 'parent_id': 'f4e53653b5c7e9d80271b91711fc346b', 'category': 'ListItem', 'element_id': 'c7d438e7887d46af8e5f1d5f4e3b64f6'}, page_content='Bước 1: NSD ấn nút “Đăng nhập” trên giao diện giới thiệu ứng dụng VNeID. Hệ thống hiển thị màn hình Đăng nhập ứng dụng'),\n",
       " Document(id='05dc438b-bdbd-4b6a-b9a2-b9a0bd559bf9', metadata={'source': 'data/vneid.md', 'category_depth': 1, 'languages': ['vie'], 'file_directory': 'data', 'filename': 'vneid.md', 'filetype': 'text/markdown', 'last_modified': '2025-03-31T13:53:22', 'parent_id': '70bb56a97478e5341f51f48f36daa0b8', 'category': 'ListItem', 'element_id': 'ab4fb3d61283b5d170ff506633bd1a96'}, page_content='Bước 1: NSD đăng nhập vào ứng dụng VNeID trên thiết bị di động'),\n",
       " Document(id='3b9c6263-ab1a-46b1-9f66-9fb2183a993a', metadata={'source': 'data/vneid.md', 'category_depth': 1, 'languages': ['vie'], 'file_directory': 'data', 'filename': 'vneid.md', 'filetype': 'text/markdown', 'last_modified': '2025-03-31T13:53:22', 'parent_id': 'a4414237d38fd755494cd3a4d8e5359f', 'category': 'ListItem', 'element_id': 'e09c57fc6c83feec9c10a302e7f465ae'}, page_content='Bước 2: Tại mục Tìm kiếm NSD gõ “VNeID”'),\n",
       " Document(id='091f3f61-4885-4008-a6f1-704f110565f8', metadata={'source': 'data/vneid.md', 'languages': ['vie'], 'file_directory': 'data', 'filename': 'vneid.md', 'filetype': 'text/markdown', 'last_modified': '2025-03-31T13:53:22', 'parent_id': '472ac5ec2c06e78521e66518241e9052', 'category': 'UncategorizedText', 'element_id': '285e6225f4bf5005943001b507d32307'}, page_content='Hình 2.6-1 Trang giới thiệu ứng dụng VNeID'),\n",
       " Document(id='2ba90743-8be2-4061-9253-4d3c9cf2861c', metadata={'source': 'data/vneid.md', 'category_depth': 1, 'languages': ['vie'], 'file_directory': 'data', 'filename': 'vneid.md', 'filetype': 'text/markdown', 'last_modified': '2025-03-31T13:53:22', 'parent_id': 'a4414237d38fd755494cd3a4d8e5359f', 'category': 'ListItem', 'element_id': '0dfcaaaba188a7b87ca7300aa39b0be5'}, page_content='Bước 3: NSD nhấn “Nhận” để tải ứng dụng VNeID về thiết bị di động'),\n",
       " Document(id='af13f91f-948c-493e-bf4e-88bade9045ff', metadata={'source': 'data/vneid.md', 'languages': ['vie'], 'file_directory': 'data', 'filename': 'vneid.md', 'filetype': 'text/markdown', 'last_modified': '2025-03-31T13:53:22', 'parent_id': '0a1e019c700aff2b1dff755d71ec0b08', 'category': 'UncategorizedText', 'element_id': 'bca9de61f9093ec5d205b7852912e097'}, page_content='Bước 3: NSD chọn “Mở” để mở ứng dụng định danh điện tử - VNeID vừa tải.')]"
      ]
     },
     "execution_count": 17,
     "metadata": {},
     "output_type": "execute_result"
    }
   ],
   "source": [
    "unique_docs"
   ]
  },
  {
   "cell_type": "code",
   "execution_count": 20,
   "metadata": {},
   "outputs": [
    {
     "name": "stdout",
     "output_type": "stream",
     "text": [
      "\n",
      "=================DOCUMENT=================\n",
      "\n",
      "Bước 1: NSD có thể kích hoạt bằng các cách chọn kích hoạt tài khoản trên Trang giới thiệu ứng dụng VNeID\n",
      "\n",
      "\n",
      "{'source': 'data/vneid.md', 'languages': ['vie'], 'file_directory': 'data', 'filename': 'vneid.md', 'filetype': 'text/markdown', 'last_modified': '2025-03-31T13:53:22', 'parent_id': '472ac5ec2c06e78521e66518241e9052', 'category': 'UncategorizedText', 'element_id': '4b55048c9ee4c15e0ea7dd34b21fcdd7'}\n",
      "\n",
      "=================DOCUMENT=================\n",
      "\n",
      "Bước 1: NSD đăng nhập vào ứng dụng VNeID trên thiết bị di động.\n",
      "\n",
      "\n",
      "{'source': 'data/vneid.md', 'category_depth': 1, 'languages': ['vie'], 'file_directory': 'data', 'filename': 'vneid.md', 'filetype': 'text/markdown', 'last_modified': '2025-03-31T13:53:22', 'parent_id': 'd0328e758a8f268624f3bba7a0e044ec', 'category': 'ListItem', 'element_id': 'd99a96a66e22174d26c1fb4b162fe280'}\n",
      "\n",
      "=================DOCUMENT=================\n",
      "\n",
      "Bước 1: NSD ấn nút “Đăng nhập” trên giao diện giới thiệu ứng dụng VNeID. Hệ thống hiển thị màn hình Đăng nhập ứng dụng\n",
      "\n",
      "\n",
      "{'source': 'data/vneid.md', 'category_depth': 1, 'languages': ['vie'], 'file_directory': 'data', 'filename': 'vneid.md', 'filetype': 'text/markdown', 'last_modified': '2025-03-31T13:53:22', 'parent_id': '3a21ad7166c420fa2b7f6831af56fc24', 'category': 'ListItem', 'element_id': '78caba91818471baaafef0ff1d0b1561'}\n",
      "\n",
      "=================DOCUMENT=================\n",
      "\n",
      "Bước 1: NSD ấn nút “Đăng nhập” trên giao diện giới thiệu ứng dụng VNeID. Hệ thống hiển thị màn hình Đăng nhập ứng dụng\n",
      "\n",
      "\n",
      "{'source': 'data/vneid.md', 'category_depth': 1, 'languages': ['vie'], 'file_directory': 'data', 'filename': 'vneid.md', 'filetype': 'text/markdown', 'last_modified': '2025-03-31T13:53:22', 'parent_id': 'f4e53653b5c7e9d80271b91711fc346b', 'category': 'ListItem', 'element_id': 'c7d438e7887d46af8e5f1d5f4e3b64f6'}\n",
      "\n",
      "=================DOCUMENT=================\n",
      "\n",
      "Bước 1: NSD đăng nhập vào ứng dụng VNeID trên thiết bị di động\n",
      "\n",
      "\n",
      "{'source': 'data/vneid.md', 'category_depth': 1, 'languages': ['vie'], 'file_directory': 'data', 'filename': 'vneid.md', 'filetype': 'text/markdown', 'last_modified': '2025-03-31T13:53:22', 'parent_id': '70bb56a97478e5341f51f48f36daa0b8', 'category': 'ListItem', 'element_id': 'ab4fb3d61283b5d170ff506633bd1a96'}\n",
      "\n",
      "=================DOCUMENT=================\n",
      "\n",
      "Bước 2: Tại mục Tìm kiếm NSD gõ “VNeID”\n",
      "\n",
      "\n",
      "{'source': 'data/vneid.md', 'category_depth': 1, 'languages': ['vie'], 'file_directory': 'data', 'filename': 'vneid.md', 'filetype': 'text/markdown', 'last_modified': '2025-03-31T13:53:22', 'parent_id': 'a4414237d38fd755494cd3a4d8e5359f', 'category': 'ListItem', 'element_id': 'e09c57fc6c83feec9c10a302e7f465ae'}\n",
      "\n",
      "=================DOCUMENT=================\n",
      "\n",
      "Hình 2.6-1 Trang giới thiệu ứng dụng VNeID\n",
      "\n",
      "\n",
      "{'source': 'data/vneid.md', 'languages': ['vie'], 'file_directory': 'data', 'filename': 'vneid.md', 'filetype': 'text/markdown', 'last_modified': '2025-03-31T13:53:22', 'parent_id': '472ac5ec2c06e78521e66518241e9052', 'category': 'UncategorizedText', 'element_id': '285e6225f4bf5005943001b507d32307'}\n",
      "\n",
      "=================DOCUMENT=================\n",
      "\n",
      "Bước 3: NSD nhấn “Nhận” để tải ứng dụng VNeID về thiết bị di động\n",
      "\n",
      "\n",
      "{'source': 'data/vneid.md', 'category_depth': 1, 'languages': ['vie'], 'file_directory': 'data', 'filename': 'vneid.md', 'filetype': 'text/markdown', 'last_modified': '2025-03-31T13:53:22', 'parent_id': 'a4414237d38fd755494cd3a4d8e5359f', 'category': 'ListItem', 'element_id': '0dfcaaaba188a7b87ca7300aa39b0be5'}\n",
      "\n",
      "=================DOCUMENT=================\n",
      "\n",
      "Bước 3: NSD chọn “Mở” để mở ứng dụng định danh điện tử - VNeID vừa tải.\n",
      "\n",
      "\n",
      "{'source': 'data/vneid.md', 'languages': ['vie'], 'file_directory': 'data', 'filename': 'vneid.md', 'filetype': 'text/markdown', 'last_modified': '2025-03-31T13:53:22', 'parent_id': '0a1e019c700aff2b1dff755d71ec0b08', 'category': 'UncategorizedText', 'element_id': 'bca9de61f9093ec5d205b7852912e097'}\n"
     ]
    }
   ],
   "source": [
    "for doc in unique_docs:\n",
    "    print(\"\\n=================DOCUMENT=================\\n\")\n",
    "    print(doc.page_content)\n",
    "    print('\\n')\n",
    "    print(doc.metadata)"
   ]
  },
  {
   "cell_type": "code",
   "execution_count": null,
   "metadata": {},
   "outputs": [],
   "source": []
  }
 ],
 "metadata": {
  "kernelspec": {
   "display_name": "langchain",
   "language": "python",
   "name": "python3"
  },
  "language_info": {
   "codemirror_mode": {
    "name": "ipython",
    "version": 3
   },
   "file_extension": ".py",
   "mimetype": "text/x-python",
   "name": "python",
   "nbconvert_exporter": "python",
   "pygments_lexer": "ipython3",
   "version": "3.10.16"
  }
 },
 "nbformat": 4,
 "nbformat_minor": 2
}
