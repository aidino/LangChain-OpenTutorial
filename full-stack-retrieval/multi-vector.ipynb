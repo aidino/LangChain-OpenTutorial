{
 "cells": [
  {
   "cell_type": "markdown",
   "metadata": {},
   "source": [
    "# Multi-Vector 🦜🔗\n"
   ]
  },
  {
   "cell_type": "markdown",
   "metadata": {},
   "source": [
    "## Overview\n",
    "Multi-Vector là một phương pháp tiên tiến của giai đoạn Indexing (lập chỉ mục) trong retrieval (truy xuất).\n",
    "\n",
    "Thông thường, các tài liệu thô, được chia thành chunk (đoạn) của bạn có thể *không* phải là văn bản tối ưu để lấy embeddings (nhúng). \n",
    "\n",
    "Có thể xảy ra trường hợp một văn bản thay thế được suy ra từ các tài liệu gốc của bạn sẽ tốt hơn. Điều này có thể bao gồm summaries (tóm tắt), hypothetical questions (câu hỏi giả định), extractions (trích xuất) hoặc child documents (tài liệu con).\n",
    "\n",
    "Mục tiêu của multi-vector retrieval (truy xuất đa vector) là có thêm embeddings (nhúng) trong quá trình retrieval (truy xuất) của bạn, có thể phù hợp hơn với các queries (truy vấn) dự kiến của bạn.\n"
   ]
  },
  {
   "cell_type": "markdown",
   "metadata": {},
   "source": [
    "![](https://retrieval-tutorials.vercel.app/assets/images/MultiVector-a662f0115469e34ca0fc32eec9f9d9ca.gif)"
   ]
  },
  {
   "cell_type": "markdown",
   "metadata": {},
   "source": [
    "### Why is this helpful?​\n",
    "\n",
    "Điều này hữu ích khi có một dạng đã được xử lý hoặc suy ra từ các tài liệu gốc của bạn phù hợp hơn với quá trình search (tìm kiếm) của bạn. Hãy coi đây như một bước pre-processing (tiền xử lý) trên các tài liệu của bạn, nhằm mục đích phù hợp hơn với nhu cầu search (tìm kiếm) của bạn.\n"
   ]
  },
  {
   "cell_type": "code",
   "execution_count": 1,
   "metadata": {},
   "outputs": [],
   "source": [
    "from langchain.vectorstores import  FAISS\n",
    "from langchain_ollama.embeddings import OllamaEmbeddings\n",
    "\n",
    "embeddings = OllamaEmbeddings(model='bge-m3:latest')\n",
    "chapter_summaries_vectorstore =  FAISS.load_local(\"data/chapter_summaries_vector_store\", embeddings, allow_dangerous_deserialization=True)"
   ]
  },
  {
   "cell_type": "markdown",
   "metadata": {},
   "source": [
    "### Multi retriever"
   ]
  },
  {
   "cell_type": "code",
   "execution_count": null,
   "metadata": {},
   "outputs": [],
   "source": [
    "from langchain.retrievers.multi_vector import MultiVectorRetriever\n",
    "from langchain.storage import InMemoryStore\n",
    "\n",
    "id_key = \"doc_id\" # This is the key that we will tell the retriever to connect the summaries and original docs on\n",
    "\n",
    "docstore = InMemoryStore()\n",
    "\n",
    "retriever = MultiVectorRetriever(\n",
    "    vectorstore=chapter_summaries_vectorstore,\n",
    "    docstore=docstore,\n",
    "    id_key=id_key, # \"Hey, what should we join on?\"\n",
    ")"
   ]
  }
 ],
 "metadata": {
  "kernelspec": {
   "display_name": "langchain",
   "language": "python",
   "name": "python3"
  },
  "language_info": {
   "codemirror_mode": {
    "name": "ipython",
    "version": 3
   },
   "file_extension": ".py",
   "mimetype": "text/x-python",
   "name": "python",
   "nbconvert_exporter": "python",
   "pygments_lexer": "ipython3",
   "version": "3.10.16"
  }
 },
 "nbformat": 4,
 "nbformat_minor": 2
}
