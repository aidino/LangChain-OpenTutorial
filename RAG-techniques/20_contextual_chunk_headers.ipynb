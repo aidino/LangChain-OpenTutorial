{
 "cells": [
  {
   "cell_type": "markdown",
   "metadata": {},
   "source": [
    "# Contextual Chunk Headers (CCH)\n",
    "\n",
    "## Tổng quan\n",
    "\n",
    "Tiêu đề chunk theo ngữ cảnh (Contextual Chunk Headers - CCH) là một phương pháp tạo tiêu đề chunk chứa ngữ cảnh cấp cao hơn (ví dụ: ngữ cảnh cấp tài liệu hoặc cấp phần), và thêm các tiêu đề chunk đó vào đầu các chunk trước khi nhúng chúng. Điều này cung cấp cho các embedding một biểu diễn chính xác và đầy đủ hơn về nội dung và ý nghĩa của văn bản. Trong thử nghiệm của chúng tôi, tính năng này dẫn đến sự cải thiện đáng kể về chất lượng truy xuất. Ngoài việc tăng tỷ lệ truy xuất thông tin chính xác, CCH còn giảm tỷ lệ kết quả không liên quan xuất hiện trong kết quả tìm kiếm. Điều này làm giảm tỷ lệ LLM hiểu sai một đoạn văn bản trong các ứng dụng trò chuyện và tạo nội dung downstream.\n",
    "\n",
    "## Động lực\n",
    "\n",
    "Nhiều vấn đề mà các nhà phát triển gặp phải với RAG (Retrieval-Augmented Generation) đều quy về điều này: Các chunk riêng lẻ thường không chứa đủ ngữ cảnh để được hệ thống truy xuất hoặc LLM sử dụng đúng cách. Điều này dẫn đến việc không thể trả lời câu hỏi và, đáng lo ngại hơn, là ảo giác (hallucinations).\n",
    "\n",
    "Ví dụ về vấn đề này:\n",
    "- Các chunk thường đề cập đến chủ đề của chúng thông qua các tham chiếu và đại từ ngầm định. Điều này khiến chúng không được truy xuất khi cần thiết, hoặc không được LLM hiểu đúng cách.\n",
    "- Các chunk riêng lẻ thường chỉ có ý nghĩa trong ngữ cảnh của toàn bộ phần hoặc tài liệu, và có thể gây hiểu lầm khi đọc riêng lẻ.\n",
    "\n",
    "## Các thành phần chính\n",
    "\n",
    "#### Tiêu đề chunk theo ngữ cảnh (Contextual Chunk Headers)\n",
    "Ý tưởng ở đây là thêm ngữ cảnh cấp cao hơn vào chunk bằng cách thêm tiêu đề chunk vào đầu. Tiêu đề chunk này có thể đơn giản chỉ là tiêu đề tài liệu, hoặc có thể sử dụng kết hợp tiêu đề tài liệu, tóm tắt ngắn gọn tài liệu và toàn bộ hệ thống phân cấp tiêu đề phần và tiêu đề phần phụ.\n",
    "\n",
    "## Chi tiết phương pháp\n",
    "\n",
    "#### Tạo ngữ cảnh\n",
    "Trong bản trình diễn dưới đây, chúng tôi sử dụng LLM để tạo tiêu đề mô tả cho tài liệu. Điều này được thực hiện thông qua một prompt đơn giản, trong đó bạn truyền một phiên bản rút gọn của văn bản tài liệu và yêu cầu LLM tạo tiêu đề mô tả cho tài liệu. Nếu bạn đã có tiêu đề tài liệu mô tả đầy đủ, bạn có thể sử dụng trực tiếp chúng. Chúng tôi nhận thấy rằng tiêu đề tài liệu là loại ngữ cảnh cấp cao đơn giản và quan trọng nhất để đưa vào tiêu đề chunk.\n",
    "\n",
    "Các loại ngữ cảnh khác bạn có thể đưa vào tiêu đề chunk:\n",
    "- Tóm tắt ngắn gọn tài liệu\n",
    "- Tiêu đề phần/phần phụ\n",
    "    - Điều này giúp hệ thống truy xuất xử lý các truy vấn cho các phần hoặc chủ đề lớn hơn trong tài liệu.\n",
    "\n",
    "#### Nhúng các chunk với tiêu đề chunk\n",
    "Văn bản bạn nhúng cho mỗi chunk chỉ đơn giản là sự nối của tiêu đề chunk và văn bản chunk. Nếu bạn sử dụng reranker trong quá trình truy xuất, bạn sẽ muốn đảm bảo rằng bạn cũng sử dụng sự nối này ở đó.\n",
    "\n",
    "#### Thêm tiêu đề chunk vào kết quả tìm kiếm\n",
    "Bao gồm tiêu đề chunk khi trình bày kết quả tìm kiếm cho LLM cũng có lợi vì nó cung cấp cho LLM nhiều ngữ cảnh hơn và giảm khả năng LLM hiểu sai ý nghĩa của một chunk.\n"
   ]
  },
  {
   "cell_type": "markdown",
   "metadata": {},
   "source": [
    "![Your Technique Name](images/contextual_chunk_headers.svg)"
   ]
  },
  {
   "cell_type": "code",
   "execution_count": null,
   "metadata": {},
   "outputs": [],
   "source": []
  }
 ],
 "metadata": {
  "kernelspec": {
   "display_name": "langchain",
   "language": "python",
   "name": "python3"
  },
  "language_info": {
   "name": "python",
   "version": "3.10.16"
  }
 },
 "nbformat": 4,
 "nbformat_minor": 2
}
