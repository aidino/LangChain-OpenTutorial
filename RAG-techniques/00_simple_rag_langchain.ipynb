{
 "cells": [
  {
   "cell_type": "markdown",
   "metadata": {},
   "source": [
    "# 🌱 Foundational RAG Techniques\n",
    "\n",
    "**Tổng quan**\n",
    "\n",
    "Đoạn code này triển khai một hệ thống **Retrieval-Augmented Generation (RAG)** cơ bản để xử lý và truy vấn tài liệu PDF. Hệ thống mã hóa nội dung tài liệu thành một **vector store**, sau đó có thể được truy vấn để lấy thông tin liên quan.\n",
    "\n",
    "**Các thành phần chính**\n",
    "\n",
    "* Xử lý PDF và trích xuất văn bản\n",
    "* Chia nhỏ văn bản (**text chunking**) để xử lý dễ dàng\n",
    "* Tạo **vector store** sử dụng **FAISS** và **embeddings** của OpenAI\n",
    "* Thiết lập **retriever** để truy vấn các tài liệu đã xử lý\n",
    "* Đánh giá hệ thống RAG\n",
    "\n",
    "**Chi tiết phương pháp**\n",
    "\n",
    "* **Tiền xử lý tài liệu (Document Preprocessing)**\n",
    "    * PDF được tải bằng PyPDFLoader.\n",
    "    * Văn bản được chia thành các đoạn nhỏ (**chunks**) bằng RecursiveCharacterTextSplitter với kích thước đoạn và độ chồng lấp được chỉ định.\n",
    "* **Làm sạch văn bản (Text Cleaning)**\n",
    "    * Một hàm tùy chỉnh `replace_t_with_space` được áp dụng để làm sạch các đoạn văn bản. Điều này có thể giải quyết các vấn đề định dạng cụ thể trong PDF.\n",
    "* **Tạo Vector Store**\n",
    "    * **Embeddings** của OpenAI được sử dụng để tạo biểu diễn vector của các đoạn văn bản.\n",
    "    * Một **vector store** FAISS được tạo từ các **embeddings** này để tìm kiếm độ tương tự hiệu quả.\n",
    "* **Thiết lập Retriever**\n",
    "    * Một **retriever** được cấu hình để lấy 2 đoạn văn bản có liên quan nhất cho một truy vấn nhất định.\n",
    "* **Hàm mã hóa (Encoding Function)**\n",
    "    * Hàm `encode_pdf` bao gồm toàn bộ quá trình tải, chia đoạn, làm sạch và mã hóa PDF thành **vector store**.\n",
    "\n",
    "**Các tính năng chính**\n",
    "\n",
    "* **Thiết kế mô-đun (Modular Design)**: Quá trình mã hóa được đóng gói trong một hàm duy nhất để dễ dàng tái sử dụng.\n",
    "* **Chia đoạn có thể cấu hình (Configurable Chunking)**: Cho phép điều chỉnh kích thước đoạn và độ chồng lấp.\n",
    "* **Truy xuất hiệu quả (Efficient Retrieval)**: Sử dụng FAISS để tìm kiếm độ tương tự nhanh chóng.\n",
    "* **Đánh giá (Evaluation)**: Bao gồm một hàm để đánh giá hiệu suất của hệ thống RAG.\n",
    "\n",
    "**Ví dụ sử dụng**\n",
    "\n",
    "Đoạn code bao gồm một truy vấn thử nghiệm: \"What is the main cause of climate change?\". Điều này minh họa cách sử dụng **retriever** để lấy ngữ cảnh liên quan từ tài liệu đã xử lý.\n",
    "\n",
    "**Đánh giá**\n",
    "\n",
    "Hệ thống bao gồm một hàm `evaluate_rag` để đánh giá hiệu suất của **retriever**, mặc dù các chỉ số cụ thể được sử dụng không được nêu chi tiết trong đoạn code được cung cấp.\n",
    "\n",
    "**Lợi ích của phương pháp này**\n",
    "\n",
    "* **Khả năng mở rộng (Scalability)**: Có thể xử lý các tài liệu lớn bằng cách xử lý chúng theo từng đoạn.\n",
    "* **Tính linh hoạt (Flexibility)**: Dễ dàng điều chỉnh các tham số như kích thước đoạn và số lượng kết quả được truy xuất.\n",
    "* **Hiệu quả (Efficiency)**: Sử dụng FAISS để tìm kiếm độ tương tự nhanh chóng trong không gian nhiều chiều.\n",
    "* **Tích hợp với NLP nâng cao (Integration with Advanced NLP)**: Sử dụng **embeddings** OpenAI để biểu diễn văn bản hiện đại.\n",
    "\n",
    "**Kết luận**\n",
    "\n",
    "Hệ thống RAG đơn giản này cung cấp nền tảng vững chắc để xây dựng các hệ thống truy xuất thông tin và trả lời câu hỏi phức tạp hơn. Bằng cách mã hóa nội dung tài liệu thành một **vector store** có thể tìm kiếm, nó cho phép truy xuất hiệu quả thông tin liên quan để đáp ứng các truy vấn. Phương pháp này đặc biệt hữu ích cho các ứng dụng yêu cầu truy cập nhanh vào thông tin cụ thể trong các tài liệu lớn hoặc bộ sưu tập tài liệu.\n"
   ]
  },
  {
   "cell_type": "code",
   "execution_count": 8,
   "metadata": {},
   "outputs": [],
   "source": [
    "import os\n",
    "import sys\n",
    "from dotenv import load_dotenv\n",
    "load_dotenv(dotenv_path='.env')\n",
    "# sys.path.append(os.path.abspath(os.path.join(os.getcwd(), '..')))\n",
    "import helper_functions as helper\n",
    "import evaluate_rag as eval"
   ]
  },
  {
   "cell_type": "code",
   "execution_count": null,
   "metadata": {},
   "outputs": [],
   "source": [
    "PDF_FILE_PATH = \"data/Understanding_Climate_Change.pdf\"\n",
    "# VNEID = \"data/vneid.pdf\""
   ]
  },
  {
   "cell_type": "markdown",
   "metadata": {},
   "source": [
    "### Encode documents"
   ]
  },
  {
   "cell_type": "code",
   "execution_count": 20,
   "metadata": {},
   "outputs": [],
   "source": [
    "chunks_vector_store = helper.encode_pdf(PDF_FILE_PATH)"
   ]
  },
  {
   "cell_type": "markdown",
   "metadata": {},
   "source": [
    "### Create retrieve"
   ]
  },
  {
   "cell_type": "code",
   "execution_count": 21,
   "metadata": {},
   "outputs": [],
   "source": [
    "chunks_query_retrieve = chunks_vector_store.as_retriever(search_kwargs={\"k\": 2})"
   ]
  },
  {
   "cell_type": "markdown",
   "metadata": {},
   "source": [
    "### Test retriever"
   ]
  },
  {
   "cell_type": "code",
   "execution_count": 22,
   "metadata": {},
   "outputs": [
    {
     "name": "stdout",
     "output_type": "stream",
     "text": [
      "Context 1:\n",
      "Chapter 2: Causes of Climate Change \n",
      "Greenhouse Gases \n",
      "The primary cause of recent climate change is the increase in greenhouse gases in the \n",
      "atmosphere. Greenhouse gases, such as carbon dioxide (CO2), methane (CH4), and nitrous \n",
      "oxide (N2O), trap heat from the sun, creating a \"greenhouse effect.\" This effect is essential \n",
      "for life on Earth, as it keeps the planet warm enough to support life. However, human \n",
      "activities have intensified this natural process, leading to a warmer climate. \n",
      "Fossil Fuels \n",
      "Burning fossil fuels for energy releases large amounts of CO2. This includes coal, oil, and \n",
      "natural gas used for electricity, heating, and transportation. The industrial revolution marked \n",
      "the beginning of a significant increase in fossil fuel consumption, which continues to rise \n",
      "today. \n",
      "Coal\n",
      "\n",
      "\n",
      "Context 2:\n",
      "Most of these climate changes are attributed to very small variations in Earth's orbit that \n",
      "change the amount of solar energy our planet receives. During the Holocene epoch, which \n",
      "began at the end of the last ice age, human societies flourished, but the industrial era has seen \n",
      "unprecedented changes. \n",
      "Modern Observations \n",
      "Modern scientific observations indicate a rapid increase in global temperatures, sea levels, \n",
      "and extreme weather events. The Intergovernmental Panel on Climate Change (IPCC) has \n",
      "documented these changes extensively. Ice core samples, tree rings, and ocean sediments \n",
      "provide a historical record that scientists use to understand past climate conditions and \n",
      "predict future trends. The evidence overwhelmingly shows that recent changes are primarily \n",
      "driven by human activities, particularly the emission of greenhouse gases. \n",
      "Chapter 2: Causes of Climate Change \n",
      "Greenhouse Gases \n",
      "The primary cause of recent climate change is the increase in greenhouse gases in the\n",
      "\n",
      "\n"
     ]
    }
   ],
   "source": [
    "test_query = \"What is the main cause of climate change?\"\n",
    "# test_query = \"Cách đăng ký tài khoản mức 1?\"\n",
    "context = helper.retrieve_context_per_question(test_query, chunks_query_retrieve)\n",
    "helper.show_context(context)"
   ]
  },
  {
   "cell_type": "code",
   "execution_count": 23,
   "metadata": {},
   "outputs": [
    {
     "data": {
      "text/plain": [
       "{'questions': [\"1. What is the primary greenhouse gas responsible for trapping heat in the Earth's atmosphere and contributing to climate change?\",\n",
       "  '2. How do deforestation and land-use changes impact climate change?',\n",
       "  '3. What are some potential consequences of rising global temperatures due to climate change?',\n",
       "  '4. How do scientists measure and track changes in global temperatures over time to study climate change?',\n",
       "  '5. What are some strategies that individuals and communities can implement to mitigate the effects of climate change and reduce their carbon footprint?'],\n",
       " 'results': ['{\\n    \"Relevance\": 5,\\n    \"Completeness\": 4,\\n    \"Conciseness\": 3\\n}',\n",
       "  '{\\n    \"Relevance\": 5,\\n    \"Completeness\": 4,\\n    \"Conciseness\": 3\\n}',\n",
       "  '{\\n    \"Relevance\": 5,\\n    \"Completeness\": 4,\\n    \"Conciseness\": 3\\n}',\n",
       "  '{\\n    \"Relevance\": 5,\\n    \"Completeness\": 4,\\n    \"Conciseness\": 3\\n}',\n",
       "  '{\\n    \"Relevance\": 5,\\n    \"Completeness\": 4,\\n    \"Conciseness\": 3\\n}'],\n",
       " 'average_scores': None}"
      ]
     },
     "execution_count": 23,
     "metadata": {},
     "output_type": "execute_result"
    }
   ],
   "source": [
    "eval.evaluate_rag(chunks_query_retrieve)"
   ]
  },
  {
   "cell_type": "code",
   "execution_count": null,
   "metadata": {},
   "outputs": [],
   "source": []
  }
 ],
 "metadata": {
  "kernelspec": {
   "display_name": "langchain",
   "language": "python",
   "name": "python3"
  },
  "language_info": {
   "codemirror_mode": {
    "name": "ipython",
    "version": 3
   },
   "file_extension": ".py",
   "mimetype": "text/x-python",
   "name": "python",
   "nbconvert_exporter": "python",
   "pygments_lexer": "ipython3",
   "version": "3.10.16"
  }
 },
 "nbformat": 4,
 "nbformat_minor": 2
}
