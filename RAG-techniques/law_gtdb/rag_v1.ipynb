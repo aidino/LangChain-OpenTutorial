{
 "cells": [
  {
   "cell_type": "code",
   "execution_count": 1,
   "metadata": {},
   "outputs": [
    {
     "name": "stderr",
     "output_type": "stream",
     "text": [
      "/home/dino/miniconda3/envs/langchain/lib/python3.10/site-packages/deepeval/__init__.py:54: UserWarning: You are using deepeval version 2.5.8, however version 2.5.9 is available. You should consider upgrading via the \"pip install --upgrade deepeval\" command.\n",
      "  warnings.warn(\n",
      "/home/dino/Documents/LangChain-OpenTutorial/RAG-techniques/law_gtdb/evaluation.py:33: LangChainDeprecationWarning: As of langchain-core 0.3.0, LangChain uses pydantic v2 internally. The langchain_core.pydantic_v1 module was a compatibility shim for pydantic v1, and should no longer be used. Please update the code to import from Pydantic directly.\n",
      "\n",
      "For example, replace imports like: `from langchain_core.pydantic_v1 import BaseModel`\n",
      "with: `from pydantic import BaseModel`\n",
      "or the v1 compatibility namespace if you are working in a code base that has not been fully upgraded to pydantic 2 yet. \tfrom pydantic.v1 import BaseModel\n",
      "\n",
      "  from helper_functions import (\n"
     ]
    }
   ],
   "source": [
    "import os\n",
    "from langchain_ollama import ChatOllama\n",
    "from dotenv import load_dotenv\n",
    "load_dotenv(dotenv_path='../.env')\n",
    "\n",
    "import helper\n",
    "import evaluation\n",
    "\n",
    "\n",
    "llm_model_name='qwen2.5:7b'\n",
    "llm = ChatOllama(model=llm_model_name, temperature=0)\n"
   ]
  },
  {
   "cell_type": "code",
   "execution_count": 2,
   "metadata": {},
   "outputs": [],
   "source": [
    "PDF_FILE_PATH='data/law_gtdb_35.pdf'\n",
    "\n",
    "# encode document\n",
    "chunks_vectorstore = helper.encode_pdf(PDF_FILE_PATH, collection_name='GTDB')\n",
    "# create retrieve\n",
    "retriever = chunks_vectorstore.as_retriever(\n",
    "  search_type=\"similarity\",\n",
    "  search_kwargs={'k': 4}, # number of documents to retrieve\n",
    ")"
   ]
  },
  {
   "cell_type": "code",
   "execution_count": 3,
   "metadata": {},
   "outputs": [
    {
     "data": {
      "text/plain": [
       "[Document(metadata={'creationdate': '2024-09-20T10:02:58+07:00', 'creator': 'PyPDF', 'moddate': '2024-09-20T10:02:58+07:00', 'page': 65, 'page_label': '66', 'producer': 'PyPDF', 'source': 'data/law_gtdb_35.pdf', 'total_pages': 69}, page_content='trong hoạt động đường bộ.  \\n8. Hợp tác quốc tế trong hoạt động đường bộ. \\nĐiều 82. Trách nhiệm quản lý nhà nước về hoạt động đường bộ \\n1. Chính phủ thống nhất quản lý nhà nước về hoạt động đường bộ. \\n2. Bộ Giao thông vận tải là cơ quan chịu trách nhiệm giúp Chính phủ thực hiện \\nquản lý nhà nước về hoạt động đường bộ. \\n3. Bộ, cơ quan ngang Bộ,  trong phạm vi nhiệm vụ, quyền hạn của mình,  có \\ntrách nhiệm chủ trì, phối hợp với Bộ Giao thông vận tải thực hiện quản lý nhà \\nnước về hoạt động đường bộ. \\n4. Ủy ban nhân dân các cấp, trong phạm vi nhiệm vụ, quyền hạn của mình,  có \\ntrách nhiệm tổ chức thực hiện quản lý nhà nước về hoạt động đường bộ. \\nĐiều 83. Thanh tra đường bộ \\nThanh tra đường bộ có nhiệm vụ sau đây: \\n1. Thanh tra, kiểm tra , xử lý vi phạm  pháp luật về kết cấu hạ tầng đường bộ; \\nvận tải đường bộ tại đơn vị vận tải, bến xe, bãi đỗ xe, trạm dừng nghỉ, đơn vị thực \\nhiện dịch vụ hỗ trợ vận tải;'),\n",
       " Document(metadata={'creationdate': '2024-09-20T10:02:58+07:00', 'creator': 'PyPDF', 'moddate': '2024-09-20T10:02:58+07:00', 'page': 1, 'page_label': '2', 'producer': 'PyPDF', 'source': 'data/law_gtdb_35.pdf', 'total_pages': 69}, page_content='4 CÔNG BÁO/Số 983 + 984/Ngày 25-8-2024 \\n  \\nthông đường bộ, bảo đảm tầm nhìn xe chạy và hạn chế ảnh hưởng đến môi trường \\nxung quanh.  \\n6. Cơ quan quản lý đường bộ là cơ quan thuộc Bộ Giao thông vận tải giúp Bộ \\ntrưởng Bộ Giao thông vận tải thực hiện chức năng quản lý nhà nước về hoạt động \\nđường bộ; cơ quan chuyên môn thuộc Ủy ban nhân dân cấp tỉnh; cơ quan chuyên \\nmôn thuộc Ủy ban nhân dân cấp huyện; Ủy ban nhân dân cấp xã. \\n7. Người quản lý, sử dụng đường bộ là chủ sở hữu trực tiếp quản lý, sử dụng, \\nvận hành, khai thác công trình đường bộ hoặc tổ chức, cá nhân được giao quản lý, \\nsử dụng, vận hành, khai thác công trình đường bộ. \\nĐiều 3. Nguyên tắc hoạt động đường bộ \\n1. Bảo đảm giao thông thông suốt, an toàn, kết nối đồng bộ, hiệu quả, thân \\nthiện với môi trường, phục vụ nhu cầu vận tải hàng hóa và đi lại thuận tiện của \\nngười dân, góp phần phát triển kinh tế - xã hội, bảo đảm quốc phòng, an ninh và \\nbảo vệ môi trường, phòng, chống thiên tai, hội nhập quốc tế.'),\n",
       " Document(metadata={'creationdate': '2024-09-20T10:02:58+07:00', 'creator': 'PyPDF', 'moddate': '2024-09-20T10:02:58+07:00', 'page': 65, 'page_label': '66', 'producer': 'PyPDF', 'source': 'data/law_gtdb_35.pdf', 'total_pages': 69}, page_content='68 CÔNG BÁO/Số 983 + 984/Ngày 25-8-2024 \\n  \\nChương V \\nQUẢN LÝ NHÀ NƯỚC VỀ HOẠT ĐỘNG ĐƯỜNG BỘ \\n \\nĐiều 81. Nội dung quản lý nhà nước về hoạt động đường bộ  \\n1. Xây dựng, ban hành hoặc trình cơ quan có thẩm quyền ban hành và tổ chức \\nthực hiện chính sách, pháp luật; quy chuẩn, tiêu chuẩn kỹ thuật, định mức kinh tế - \\nkỹ thuật về hoạt động đường bộ. \\n2. Xây dựng, ban hành và tổ chức thực hiện quy hoạch, kế hoạch về hoạt động \\nđường bộ. \\n3. Tuyên truyền, phổ biến, giáo dục pháp luật trong hoạt động đường bộ.  \\n4. Đầu tư , xây dựng, quản lý, vận hành,  khai thác, bảo trì, bảo vệ kết cấu hạ \\ntầng đường bộ. \\n5. Quản lý vận tải và dịch vụ hỗ trợ vận tải đường bộ. \\n6. Tổ chức nghiên cứu, ứng dụng khoa học và công nghệ; đào tạo, bồi dưỡng \\nnguồn nhân lực trong hoạt động đường bộ.  \\n7. Kiểm tra, thanh tra, giải quyết khiếu nại, tố cáo; xử lý vi phạm pháp luật \\ntrong hoạt động đường bộ.  \\n8. Hợp tác quốc tế trong hoạt động đường bộ. \\nĐiều 82. Trách nhiệm quản lý nhà nước về hoạt động đường bộ'),\n",
       " Document(metadata={'creationdate': '2024-09-20T10:02:58+07:00', 'creator': 'PyPDF', 'moddate': '2024-09-20T10:02:58+07:00', 'page': 35, 'page_label': '36', 'producer': 'PyPDF', 'source': 'data/law_gtdb_35.pdf', 'total_pages': 69}, page_content='3. Bộ trưởng Bộ Giao thông vận tải quy định chi tiết Điều này. \\nĐiều 37. Trách nhiệm quản lý, vận hành,  khai thác và bảo trì kết cấu hạ \\ntầng đường bộ \\n1. Bộ Giao thông vận tải có trách nhiệm tổ chức quản lý, vận hành, khai thác, \\nbảo trì đối với quốc lộ quy định tại khoản 3 Điều 8 của Luật này và kết cấu hạ tầng \\nđường bộ thuộc phạm vi quản lý. \\n2. Ủy ban nhân dân các cấp có trách nhiệm tổ chức quản lý, vận hành, khai \\nthác và bảo trì đối với các loại đường bộ quy định tại khoản 4 Điều 8 của Luật này \\nvà kết cấu hạ tầng đường bộ thuộc phạm vi quản lý.  \\n3. Doanh nghiệp được Nhà nước giao đầu tư, xây dựng, quản lý, vận hành, khai \\nthác kết cấu hạ tầng đường bộ phải thực hiện việc quản lý, vận hành, khai thác, bảo \\ntrì theo quy định của Luật này và quy định khác của pháp luật có liên quan.')]"
      ]
     },
     "execution_count": 3,
     "metadata": {},
     "output_type": "execute_result"
    }
   ],
   "source": [
    "question = \"Cơ quan quản lý đường bộ là gì?\"\n",
    "retriever_docs = retriever.invoke(question)\n",
    "retriever_docs"
   ]
  },
  {
   "cell_type": "code",
   "execution_count": 4,
   "metadata": {},
   "outputs": [
    {
     "name": "stdout",
     "output_type": "stream",
     "text": [
      "('trong hoạt động đường bộ.  \\n'\n",
      " '8. Hợp tác quốc tế trong hoạt động đường bộ. \\n'\n",
      " 'Điều 82. Trách nhiệm quản lý nhà nước về hoạt động đường bộ \\n'\n",
      " '1. Chính phủ thống nhất quản lý nhà nước về hoạt động đường bộ. \\n'\n",
      " '2. Bộ Giao thông vận tải là cơ quan chịu trách nhiệm giúp Chính phủ thực '\n",
      " 'hiện \\n'\n",
      " 'quản lý nhà nước về hoạt động đường bộ. \\n'\n",
      " '3. Bộ, cơ quan ngang Bộ,  trong phạm vi nhiệm vụ, quyền hạn của mình,  có \\n'\n",
      " 'trách nhiệm chủ trì, phối hợp với Bộ Giao thông vận tải thực hiện quản lý '\n",
      " 'nhà \\n'\n",
      " 'nước về hoạt động đường bộ. \\n'\n",
      " '4. Ủy ban nhân dân các cấp, trong phạm vi nhiệm vụ, quyền hạn của mình,  '\n",
      " 'có \\n'\n",
      " 'trách nhiệm tổ chức thực hiện quản lý nhà nước về hoạt động đường bộ. \\n'\n",
      " 'Điều 83. Thanh tra đường bộ \\n'\n",
      " 'Thanh tra đường bộ có nhiệm vụ sau đây: \\n'\n",
      " '1. Thanh tra, kiểm tra , xử lý vi phạm  pháp luật về kết cấu hạ tầng đường '\n",
      " 'bộ; \\n'\n",
      " 'vận tải đường bộ tại đơn vị vận tải, bến xe, bãi đỗ xe, trạm dừng nghỉ, đơn '\n",
      " 'vị thực \\n'\n",
      " 'hiện dịch vụ hỗ trợ vận tải;')\n"
     ]
    }
   ],
   "source": [
    "import pprint\n",
    "pprint.pp(retriever_docs[0].page_content)"
   ]
  },
  {
   "cell_type": "markdown",
   "metadata": {},
   "source": [
    "### Check document relevancy"
   ]
  },
  {
   "cell_type": "code",
   "execution_count": 5,
   "metadata": {},
   "outputs": [],
   "source": [
    "from langchain_core.prompts import ChatPromptTemplate\n",
    "from pydantic import BaseModel, Field\n",
    "\n",
    "# Data model\n",
    "class GradeDocuments(BaseModel):\n",
    "    \"\"\"Binary score for relevance check on retrieved documents.\"\"\"\n",
    "\n",
    "    binary_score: str = Field(\n",
    "        description=\"Documents are relevant to the question, 'yes' or 'no'\"\n",
    "    )\n",
    "llm = ChatOllama(model=llm_model_name)\n",
    "structured_llm_grader = llm.with_structured_output(GradeDocuments)\n",
    "\n",
    "# Prompt\n",
    "system = \"\"\"You are a grader assessing relevance of a retrieved document to a user question. \\n \n",
    "    If the document contains keyword(s) or semantic meaning related to the user question, grade it as relevant. \\n\n",
    "    It does not need to be a stringent test. The goal is to filter out erroneous retrievals. \\n\n",
    "    Give a binary score 'yes' or 'no' score to indicate whether the document is relevant to the question.\"\"\"\n",
    "grade_prompt = ChatPromptTemplate.from_messages(\n",
    "    [\n",
    "        (\"system\", system),\n",
    "        (\"human\", \"Retrieved document: \\n\\n {document} \\n\\n User question: {question}\"),\n",
    "    ]\n",
    ")\n",
    "\n",
    "retrieval_grader = grade_prompt | structured_llm_grader"
   ]
  },
  {
   "cell_type": "code",
   "execution_count": 6,
   "metadata": {},
   "outputs": [
    {
     "name": "stdout",
     "output_type": "stream",
     "text": [
      "trong hoạt động đường bộ.  \n",
      "8. Hợp tác quốc tế trong hoạt động đường bộ. \n",
      "Điều 82. Trách nhiệm quản  ... \n",
      " --------------------------------------------------\n",
      "binary_score='yes' \n",
      "\n",
      "4 CÔNG BÁO/Số 983 + 984/Ngày 25-8-2024 \n",
      "  \n",
      "thông đường bộ, bảo đảm tầm nhìn xe chạy và hạn chế ảnh h ... \n",
      " --------------------------------------------------\n",
      "binary_score='yes' \n",
      "\n",
      "68 CÔNG BÁO/Số 983 + 984/Ngày 25-8-2024 \n",
      "  \n",
      "Chương V \n",
      "QUẢN LÝ NHÀ NƯỚC VỀ HOẠT ĐỘNG ĐƯỜNG BỘ \n",
      " \n",
      "Điều ... \n",
      " --------------------------------------------------\n",
      "binary_score='yes' \n",
      "\n",
      "3. Bộ trưởng Bộ Giao thông vận tải quy định chi tiết Điều này. \n",
      "Điều 37. Trách nhiệm quản lý, vận hà ... \n",
      " --------------------------------------------------\n",
      "binary_score='yes' \n",
      "\n"
     ]
    }
   ],
   "source": [
    "# Filter out the non-relevant docs\n",
    "docs_to_use = []\n",
    "for doc in retriever_docs:\n",
    "    print(doc.page_content[:100],'... \\n', '-'*50)\n",
    "    res = retrieval_grader.invoke({\"question\": question, \"document\": doc.page_content})\n",
    "    print(res,'\\n')\n",
    "    if res.binary_score == 'yes':\n",
    "        docs_to_use.append(doc)"
   ]
  },
  {
   "cell_type": "code",
   "execution_count": 10,
   "metadata": {},
   "outputs": [
    {
     "name": "stdout",
     "output_type": "stream",
     "text": [
      "{'creationdate': '2024-09-20T10:02:58+07:00', 'creator': 'PyPDF', 'moddate': '2024-09-20T10:02:58+07:00', 'page': 65, 'page_label': '66', 'producer': 'PyPDF', 'source': 'data/law_gtdb_35.pdf', 'total_pages': 69}\n"
     ]
    }
   ],
   "source": [
    "# chunks_vectorstore.delete_collection()\n",
    "print(docs_to_use[0].metadata)"
   ]
  },
  {
   "cell_type": "markdown",
   "metadata": {},
   "source": [
    "### Generate Result"
   ]
  },
  {
   "cell_type": "code",
   "execution_count": 11,
   "metadata": {},
   "outputs": [
    {
     "name": "stdout",
     "output_type": "stream",
     "text": [
      "Cơ quan quản lý đường bộ bao gồm cơ quan thuộc Bộ Giao thông vận tải, cơ quan chuyên môn thuộc Ủy ban nhân dân cấp tỉnh, huyện và xã, giúp thực hiện chức năng quản lý nhà nước về hoạt động đường bộ.\n"
     ]
    }
   ],
   "source": [
    "from langchain_core.output_parsers import StrOutputParser\n",
    "\n",
    "# Prompt\n",
    "system = \"\"\"You are an assistant for question-answering tasks. Answer the question based upon your knowledge. \n",
    "Use three-to-five sentences maximum and keep the answer concise.\"\"\"\n",
    "prompt = ChatPromptTemplate.from_messages(\n",
    "    [\n",
    "        (\"system\", system),\n",
    "        (\"human\", \"Retrieved documents: \\n\\n <docs>{documents}</docs> \\n\\n User question: <question>{question}</question>\"),\n",
    "    ]\n",
    ")\n",
    "\n",
    "# LLM\n",
    "llm = ChatOllama(model=llm_model_name, temperature=0)\n",
    "\n",
    "# Post-processing\n",
    "def format_docs(docs):\n",
    "    return \"\\n\".join(f\"<doc{i+1}>:\\nSource:{doc.metadata['source']}\\nContent:{doc.page_content}\\n</doc{i+1}>\\n\" for i, doc in enumerate(docs))\n",
    "\n",
    "# Chain\n",
    "rag_chain = prompt | llm | StrOutputParser()\n",
    "\n",
    "# Run\n",
    "generation = rag_chain.invoke({\"documents\":format_docs(docs_to_use), \"question\": question})\n",
    "print(generation)"
   ]
  },
  {
   "cell_type": "markdown",
   "metadata": {},
   "source": [
    "### Check for Halluciation"
   ]
  },
  {
   "cell_type": "code",
   "execution_count": 12,
   "metadata": {},
   "outputs": [
    {
     "name": "stdout",
     "output_type": "stream",
     "text": [
      "binary_score='yes'\n"
     ]
    }
   ],
   "source": [
    "# Data model\n",
    "class GradeHallucinations(BaseModel):\n",
    "    \"\"\"Binary score for hallucination present in 'generation' answer.\"\"\"\n",
    "\n",
    "    binary_score: str = Field(\n",
    "        ...,\n",
    "        description=\"Answer is grounded in the facts, 'yes' or 'no'\"\n",
    "    )\n",
    "\n",
    "# LLM with function call\n",
    "llm = ChatOllama(model=llm_model_name, temperature=0)\n",
    "structured_llm_grader = llm.with_structured_output(GradeHallucinations)\n",
    "\n",
    "# Prompt\n",
    "system = \"\"\"You are a grader assessing whether an LLM generation is grounded in / supported by a set of retrieved facts. \\n \n",
    "    Give a binary score 'yes' or 'no'. 'Yes' means that the answer is grounded in / supported by the set of facts.\"\"\"\n",
    "hallucination_prompt = ChatPromptTemplate.from_messages(\n",
    "    [\n",
    "        (\"system\", system),\n",
    "        (\"human\", \"Set of facts: \\n\\n <facts>{documents}</facts> \\n\\n LLM generation: <generation>{generation}</generation>\"),\n",
    "    ]\n",
    ")\n",
    "\n",
    "hallucination_grader = hallucination_prompt | structured_llm_grader\n",
    "\n",
    "response = hallucination_grader.invoke({\"documents\": format_docs(docs_to_use), \"generation\": generation})\n",
    "print(response)"
   ]
  },
  {
   "cell_type": "code",
   "execution_count": null,
   "metadata": {},
   "outputs": [],
   "source": []
  }
 ],
 "metadata": {
  "kernelspec": {
   "display_name": "langchain",
   "language": "python",
   "name": "python3"
  },
  "language_info": {
   "codemirror_mode": {
    "name": "ipython",
    "version": 3
   },
   "file_extension": ".py",
   "mimetype": "text/x-python",
   "name": "python",
   "nbconvert_exporter": "python",
   "pygments_lexer": "ipython3",
   "version": "3.10.16"
  }
 },
 "nbformat": 4,
 "nbformat_minor": 2
}
