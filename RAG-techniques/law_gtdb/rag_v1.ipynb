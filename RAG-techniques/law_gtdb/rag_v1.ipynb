{
 "cells": [
  {
   "cell_type": "code",
   "execution_count": 4,
   "metadata": {},
   "outputs": [],
   "source": [
    "import os\n",
    "from langchain_ollama import ChatOllama\n",
    "from dotenv import load_dotenv\n",
    "load_dotenv(dotenv_path='../.env')\n",
    "\n",
    "import helper\n",
    "import evaluation\n",
    "\n",
    "\n",
    "llm_model_name='qwen2.5:7b'\n",
    "llm = ChatOllama(model=llm_model_name, temperature=0)\n"
   ]
  },
  {
   "cell_type": "code",
   "execution_count": 5,
   "metadata": {},
   "outputs": [],
   "source": [
    "PDF_FILE_PATH='data/law_gtdb_35.pdf'\n",
    "\n",
    "# encode document\n",
    "chunks_vectorstore = helper.encode_pdf(PDF_FILE_PATH, collection_name='GTDB')\n",
    "# create retrieve\n",
    "retriever = chunks_vectorstore.as_retriever(\n",
    "  search_type=\"similarity\",\n",
    "  search_kwargs={'k': 4}, # number of documents to retrieve\n",
    ")"
   ]
  },
  {
   "cell_type": "code",
   "execution_count": null,
   "metadata": {},
   "outputs": [
    {
     "data": {
      "text/plain": [
       "[Document(metadata={'creationdate': '2024-09-20T10:02:58+07:00', 'creator': 'PyPDF', 'moddate': '2024-09-20T10:02:58+07:00', 'page': 7, 'page_label': '8', 'producer': 'PyPDF', 'source': 'data/law_gtdb_35.pdf', 'total_pages': 69}, page_content='10 CÔNG BÁO/Số 983 + 984/Ngày 25-8-2024 \\n  \\n4. Cấp kỹ thuật của đường bộ quy định tại điểm c khoản 2 Điều này thực hiện \\ntheo quy chuẩn kỹ thuật quốc gia do Bộ trưởng Bộ Xây dựng ban hành và tiêu \\nchuẩn kỹ thuật do cấp có thẩm quyền công bố. \\nĐiều 11. Đặt tên, đổi tên, số hiệu đường bộ \\n1. Việc đặt tên, số hiệu đường bộ được quy định như sau: \\na) Tên đường bộ được đặt theo tên danh nhân, người có công với đất nước; di \\ntích, sự kiện lịch sử, văn hóa; tên địa danh hoặc tên theo tập quán. Số hiệu đường \\nbộ được đặt theo số tự nhiên hoặc số tự nhiên kèm theo chữ cái nếu cần thiết. \\nTrường hợp đường đô thị trùng với đường khác thì sử dụng cả tên đường đô thị và \\ntên, số hiệu của đường khác; \\nb) Tên, số hiệu đường bộ tham gia vào mạng lưới đường bộ quốc tế thực hiện \\ntheo điều ước quốc tế giữa nước Cộng hòa xã hội chủ nghĩa Việt Nam với các quốc \\ngia, tổ chức quốc tế có liên quan. Đường bộ kết nối vào mạng lưới đường bộ quốc tế'),\n",
       " Document(metadata={'creationdate': '2024-09-20T10:02:58+07:00', 'creator': 'PyPDF', 'moddate': '2024-09-20T10:02:58+07:00', 'page': 7, 'page_label': '8', 'producer': 'PyPDF', 'source': 'data/law_gtdb_35.pdf', 'total_pages': 69}, page_content='theo điều ước quốc tế giữa nước Cộng hòa xã hội chủ nghĩa Việt Nam với các quốc \\ngia, tổ chức quốc tế có liên quan. Đường bộ kết nối vào mạng lưới đường bộ quốc tế \\nthì sử dụng cả tên, số hiệu đường bộ trong nước và tên, số hiệu đường bộ quốc tế. \\n2. Trường hợp có tuyến, đoạn tuyến đường bộ đi trùng nhau thì sử dụng tên, số \\nhiệu đường bộ thuộc cấp quản lý cao hơn, trừ trường hợp quy định tại điểm a \\nkhoản 1 Điều này. \\n3. Không bắt buộc đặt tên, số hiệu đường bộ đối với đường xã, đường thôn, \\nđường nội bộ, đường chuyên dùng; không bắt buộc đổi tên, số hiệu đường bộ trong \\ntrường hợp đường đó đi qua địa bàn được cấp có thẩm quyền quyết định giải thể, \\nnhập, chia, điều chỉnh địa giới hành chính của địa phương.  \\n4. Chính phủ quy định chi tiết Điều này. \\n \\nMục 2 \\nĐẤT DÀNH CHO KẾT CẤU HẠ TẦNG ĐƯỜNG BỘ, \\nBẢO VỆ KẾT CẤU HẠ TẦNG ĐƯỜNG BỘ \\n \\nĐiều 12. Quỹ đất dành cho kết cấu hạ tầng đường bộ \\n1. Quỹ đất dành cho kết cấu hạ tầng đường bộ phải phù hợp với quy hoạch'),\n",
       " Document(metadata={'creationdate': '2024-09-20T10:02:58+07:00', 'creator': 'PyPDF', 'moddate': '2024-09-20T10:02:58+07:00', 'page': 0, 'page_label': '1', 'producer': 'PyPDF', 'source': 'data/law_gtdb_35.pdf', 'total_pages': 69}, page_content='CÔNG BÁO/Số 983 + 984/Ngày 25-8-2024 3 \\n \\n \\nQUỐC HỘI \\n \\nCỘNG HÒA XÃ HỘI CHỦ NGHĨA VIỆT NAM \\nĐộc lập - Tự do - Hạnh phúc \\nLuật số: 35/2024/QH15  \\n \\nLUẬT \\nĐƯỜNG BỘ \\n \\nCăn cứ Hiến pháp nước Cộng hòa xã hội chủ nghĩa Việt Nam; \\nQuốc hội ban hành Luật Đường bộ. \\n \\nChương I \\nNHỮNG QUY ĐỊNH CHUNG \\n \\nĐiều 1. Phạm vi điều chỉnh  \\nLuật này quy định về hoạt động đường bộ và quản lý nhà nước về hoạt động \\nđường bộ.  \\nĐiều 2. Giải thích từ ngữ  \\nTrong Luật này, các từ ngữ dưới đây được hiểu như sau: \\n1. Hoạt động đường bộ bao gồm: hoạt động về quy hoạch, đầu tư, xây dựng, \\nquản lý, sử dụng, vận hành, khai thác, bảo trì, bảo vệ kết cấu hạ tầng đường bộ; \\nvận tải đường bộ.  \\n2. Đường bộ bao gồm: đường, cầu đường bộ, cống đường bộ, hầm đường bộ, \\nbến phà đường bộ, cầu phao đường bộ, đường cứu nạn và các công trình phụ trợ \\ngắn liền với đường bộ. \\n3. Công trình đường bộ bao gồm: đường bộ; công trình phục vụ công tác quản \\nlý, vận hành, khai thác đường bộ; công trình thuộc hệ thống quản lý giao thông'),\n",
       " Document(metadata={'creationdate': '2024-09-20T10:02:58+07:00', 'creator': 'PyPDF', 'moddate': '2024-09-20T10:02:58+07:00', 'page': 21, 'page_label': '22', 'producer': 'PyPDF', 'source': 'data/law_gtdb_35.pdf', 'total_pages': 69}, page_content='24 CÔNG BÁO/Số 983 + 984/Ngày 25-8-2024 \\n  \\n4. Nguyên tắc bố trí vạch kẻ đường được quy định như sau: \\na) Vạch kẻ đường là hình thức báo hiệu đường bộ được kẻ trên mặt đường và \\ntrên các công trình đường bộ; \\nb) Vạch kẻ đường có thể bố trí độc lập và có thể kết hợp với các biển báo hiệu \\nđường bộ hoặc đèn tín hiệu giao thông. \\n5. Nguyên tắc lắp,  đặt cọc tiêu, tường bảo vệ,  đinh phản quang, tiêu phản \\nquang, cột Km, cọc H, rào chắn, mốc lộ giới được quy định như sau: \\na) Cọc tiêu  được lắp đặt ở các đoạn đường nguy hiểm và vị trí cần thiết để  \\nhướng dẫn cho người tham gia giao thông đường bộ biết phần đường an toàn và \\nhướng đi của tuyến đường; \\nb) Đinh phản quang được lắp đặt trên mặt đường theo chiều dọc hoặc chiều \\nngang đường để dẫn hướng, phân làn đường; \\nc) Tiêu phản quang được lắp đặt tại các nơi mà tuyến đường có thể gây nhầm \\nlẫn về hướng đường để dẫn hướng xe chạy vào ban đêm hoặc trong điều kiện \\nsương mù, điều kiện hạn chế tầm nhìn;')]"
      ]
     },
     "execution_count": 6,
     "metadata": {},
     "output_type": "execute_result"
    },
    {
     "name": "stderr",
     "output_type": "stream",
     "text": [
      "Failed to multipart ingest runs: langsmith.utils.LangSmithError: Failed to POST https://api.smith.langchain.com/runs/multipart in LangSmith API. HTTPError('403 Client Error: Forbidden for url: https://api.smith.langchain.com/runs/multipart', '{\"error\":\"Forbidden\"}\\n')\n",
      "Failed to send compressed multipart ingest: langsmith.utils.LangSmithError: Failed to POST https://api.smith.langchain.com/runs/multipart in LangSmith API. HTTPError('403 Client Error: Forbidden for url: https://api.smith.langchain.com/runs/multipart', '{\"error\":\"Forbidden\"}\\n')\n",
      "Failed to send compressed multipart ingest: langsmith.utils.LangSmithError: Failed to POST https://api.smith.langchain.com/runs/multipart in LangSmith API. HTTPError('403 Client Error: Forbidden for url: https://api.smith.langchain.com/runs/multipart', '{\"error\":\"Forbidden\"}\\n')\n",
      "Failed to send compressed multipart ingest: langsmith.utils.LangSmithError: Failed to POST https://api.smith.langchain.com/runs/multipart in LangSmith API. HTTPError('403 Client Error: Forbidden for url: https://api.smith.langchain.com/runs/multipart', '{\"error\":\"Forbidden\"}\\n')\n",
      "Failed to send compressed multipart ingest: langsmith.utils.LangSmithError: Failed to POST https://api.smith.langchain.com/runs/multipart in LangSmith API. HTTPError('403 Client Error: Forbidden for url: https://api.smith.langchain.com/runs/multipart', '{\"error\":\"Forbidden\"}\\n')\n",
      "Failed to send compressed multipart ingest: langsmith.utils.LangSmithError: Failed to POST https://api.smith.langchain.com/runs/multipart in LangSmith API. HTTPError('403 Client Error: Forbidden for url: https://api.smith.langchain.com/runs/multipart', '{\"error\":\"Forbidden\"}\\n')\n",
      "Failed to send compressed multipart ingest: langsmith.utils.LangSmithError: Failed to POST https://api.smith.langchain.com/runs/multipart in LangSmith API. HTTPError('403 Client Error: Forbidden for url: https://api.smith.langchain.com/runs/multipart', '{\"error\":\"Forbidden\"}\\n')\n",
      "Failed to send compressed multipart ingest: langsmith.utils.LangSmithError: Failed to POST https://api.smith.langchain.com/runs/multipart in LangSmith API. HTTPError('403 Client Error: Forbidden for url: https://api.smith.langchain.com/runs/multipart', '{\"error\":\"Forbidden\"}\\n')\n",
      "Failed to send compressed multipart ingest: langsmith.utils.LangSmithError: Failed to POST https://api.smith.langchain.com/runs/multipart in LangSmith API. HTTPError('403 Client Error: Forbidden for url: https://api.smith.langchain.com/runs/multipart', '{\"error\":\"Forbidden\"}\\n')\n",
      "Failed to send compressed multipart ingest: langsmith.utils.LangSmithError: Failed to POST https://api.smith.langchain.com/runs/multipart in LangSmith API. HTTPError('403 Client Error: Forbidden for url: https://api.smith.langchain.com/runs/multipart', '{\"error\":\"Forbidden\"}\\n')\n"
     ]
    }
   ],
   "source": [
    "question = \"Quy định đặt tên đường bộ là gì?\"\n",
    "retriever_docs = retriever.invoke(question)\n",
    "retriever_docs"
   ]
  },
  {
   "cell_type": "code",
   "execution_count": 11,
   "metadata": {},
   "outputs": [
    {
     "data": {
      "text/plain": [
       "{'creationdate': '2024-09-20T10:02:58+07:00',\n",
       " 'creator': 'PyPDF',\n",
       " 'moddate': '2024-09-20T10:02:58+07:00',\n",
       " 'page': 7,\n",
       " 'page_label': '8',\n",
       " 'producer': 'PyPDF',\n",
       " 'source': 'data/law_gtdb_35.pdf',\n",
       " 'total_pages': 69}"
      ]
     },
     "execution_count": 11,
     "metadata": {},
     "output_type": "execute_result"
    }
   ],
   "source": [
    "retriever_docs[0].metadata"
   ]
  },
  {
   "cell_type": "code",
   "execution_count": 16,
   "metadata": {},
   "outputs": [
    {
     "name": "stdout",
     "output_type": "stream",
     "text": [
      "====== page: 8 ====== \n",
      " 10 CÔNG BÁO/Số 983 + 984/Ngày 25-8-2024 \n",
      "  \n",
      "4. Cấp kỹ thuật của đường bộ quy định tại điểm c khoản 2 Điều này thực hiện \n",
      "theo quy chuẩn kỹ thuật quốc gia do Bộ trưởng Bộ Xây dựng ban hành và tiêu \n",
      "chuẩn kỹ thuật do cấp có thẩm quyền công bố. \n",
      "Điều 11. Đặt tên, đổi tên, số hiệu đường bộ \n",
      "1. Việc đặt tên, số hiệu đường bộ được quy định như sau: \n",
      "a) Tên đường bộ được đặt theo tên danh nhân, người có công với đất nước; di \n",
      "tích, sự kiện lịch sử, văn hóa; tên địa danh hoặc tên theo tập quán. Số hiệu đường \n",
      "bộ được đặt theo số tự nhiên hoặc số tự nhiên kèm theo chữ cái nếu cần thiết. \n",
      "Trường hợp đường đô thị trùng với đường khác thì sử dụng cả tên đường đô thị và \n",
      "tên, số hiệu của đường khác; \n",
      "b) Tên, số hiệu đường bộ tham gia vào mạng lưới đường bộ quốc tế thực hiện \n",
      "theo điều ước quốc tế giữa nước Cộng hòa xã hội chủ nghĩa Việt Nam với các quốc \n",
      "gia, tổ chức quốc tế có liên quan. Đường bộ kết nối vào mạng lưới đường bộ quốc tế\n"
     ]
    }
   ],
   "source": [
    "print(f\"====== page: {retriever_docs[0].metadata['page_label']} ====== \\n {retriever_docs[0].page_content}\")"
   ]
  },
  {
   "cell_type": "code",
   "execution_count": 19,
   "metadata": {},
   "outputs": [
    {
     "name": "stdout",
     "output_type": "stream",
     "text": [
      "====== page: 1 ====== \n",
      " CÔNG BÁO/Số 983 + 984/Ngày 25-8-2024 3 \n",
      " \n",
      " \n",
      "QUỐC HỘI \n",
      " \n",
      "CỘNG HÒA XÃ HỘI CHỦ NGHĨA VIỆT NAM \n",
      "Độc lập - Tự do - Hạnh phúc \n",
      "Luật số: 35/2024/QH15  \n",
      " \n",
      "LUẬT \n",
      "ĐƯỜNG BỘ \n",
      " \n",
      "Căn cứ Hiến pháp nước Cộng hòa xã hội chủ nghĩa Việt Nam; \n",
      "Quốc hội ban hành Luật Đường bộ. \n",
      " \n",
      "Chương I \n",
      "NHỮNG QUY ĐỊNH CHUNG \n",
      " \n",
      "Điều 1. Phạm vi điều chỉnh  \n",
      "Luật này quy định về hoạt động đường bộ và quản lý nhà nước về hoạt động \n",
      "đường bộ.  \n",
      "Điều 2. Giải thích từ ngữ  \n",
      "Trong Luật này, các từ ngữ dưới đây được hiểu như sau: \n",
      "1. Hoạt động đường bộ bao gồm: hoạt động về quy hoạch, đầu tư, xây dựng, \n",
      "quản lý, sử dụng, vận hành, khai thác, bảo trì, bảo vệ kết cấu hạ tầng đường bộ; \n",
      "vận tải đường bộ.  \n",
      "2. Đường bộ bao gồm: đường, cầu đường bộ, cống đường bộ, hầm đường bộ, \n",
      "bến phà đường bộ, cầu phao đường bộ, đường cứu nạn và các công trình phụ trợ \n",
      "gắn liền với đường bộ. \n",
      "3. Công trình đường bộ bao gồm: đường bộ; công trình phục vụ công tác quản \n",
      "lý, vận hành, khai thác đường bộ; công trình thuộc hệ thống quản lý giao thông\n"
     ]
    }
   ],
   "source": [
    "print(f\"====== page: {retriever_docs[2].metadata['page_label']} ====== \\n {retriever_docs[2].page_content}\")"
   ]
  },
  {
   "cell_type": "markdown",
   "metadata": {},
   "source": [
    "### Check document relevancy"
   ]
  },
  {
   "cell_type": "code",
   "execution_count": 17,
   "metadata": {},
   "outputs": [],
   "source": [
    "from langchain_core.prompts import ChatPromptTemplate\n",
    "from pydantic import BaseModel, Field\n",
    "\n",
    "# Data model\n",
    "class GradeDocuments(BaseModel):\n",
    "    \"\"\"Binary score for relevance check on retrieved documents.\"\"\"\n",
    "\n",
    "    binary_score: str = Field(\n",
    "        description=\"Documents are relevant to the question, 'yes' or 'no'\"\n",
    "    )\n",
    "llm = ChatOllama(model=llm_model_name)\n",
    "structured_llm_grader = llm.with_structured_output(GradeDocuments)\n",
    "\n",
    "# Prompt\n",
    "system = \"\"\"You are a grader assessing relevance of a retrieved document to a user question. \\n \n",
    "    If the document contains keyword(s) or semantic meaning related to the user question, grade it as relevant. \\n\n",
    "    It does not need to be a stringent test. The goal is to filter out erroneous retrievals. \\n\n",
    "    Give a binary score 'yes' or 'no' score to indicate whether the document is relevant to the question.\"\"\"\n",
    "grade_prompt = ChatPromptTemplate.from_messages(\n",
    "    [\n",
    "        (\"system\", system),\n",
    "        (\"human\", \"Retrieved document: \\n\\n {document} \\n\\n User question: {question}\"),\n",
    "    ]\n",
    ")\n",
    "\n",
    "retrieval_grader = grade_prompt | structured_llm_grader"
   ]
  },
  {
   "cell_type": "code",
   "execution_count": 18,
   "metadata": {},
   "outputs": [
    {
     "name": "stdout",
     "output_type": "stream",
     "text": [
      "10 CÔNG BÁO/Số 983 + 984/Ngày 25-8-2024 \n",
      "  \n",
      "4. Cấp kỹ thuật của đường bộ quy định tại điểm c khoản 2 ... \n",
      " --------------------------------------------------\n",
      "binary_score='yes' \n",
      "\n",
      "theo điều ước quốc tế giữa nước Cộng hòa xã hội chủ nghĩa Việt Nam với các quốc \n",
      "gia, tổ chức quốc t ... \n",
      " --------------------------------------------------\n",
      "binary_score='yes' \n",
      "\n",
      "CÔNG BÁO/Số 983 + 984/Ngày 25-8-2024 3 \n",
      " \n",
      " \n",
      "QUỐC HỘI \n",
      " \n",
      "CỘNG HÒA XÃ HỘI CHỦ NGHĨA VIỆT NAM \n",
      "Độc lập  ... \n",
      " --------------------------------------------------\n",
      "binary_score='no' \n",
      "\n",
      "24 CÔNG BÁO/Số 983 + 984/Ngày 25-8-2024 \n",
      "  \n",
      "4. Nguyên tắc bố trí vạch kẻ đường được quy định như sau ... \n",
      " --------------------------------------------------\n",
      "binary_score='no' \n",
      "\n"
     ]
    }
   ],
   "source": [
    "# Filter out the non-relevant docs\n",
    "docs_to_use = []\n",
    "for doc in retriever_docs:\n",
    "    print(doc.page_content[:100],'... \\n', '-'*50)\n",
    "    res = retrieval_grader.invoke({\"question\": question, \"document\": doc.page_content})\n",
    "    print(res,'\\n')\n",
    "    if res.binary_score == 'yes':\n",
    "        docs_to_use.append(doc)"
   ]
  },
  {
   "cell_type": "code",
   "execution_count": 22,
   "metadata": {},
   "outputs": [
    {
     "data": {
      "text/plain": [
       "{'creationdate': '2024-09-20T10:02:58+07:00',\n",
       " 'creator': 'PyPDF',\n",
       " 'moddate': '2024-09-20T10:02:58+07:00',\n",
       " 'page': 7,\n",
       " 'page_label': '8',\n",
       " 'producer': 'PyPDF',\n",
       " 'source': 'data/law_gtdb_35.pdf',\n",
       " 'total_pages': 69}"
      ]
     },
     "execution_count": 22,
     "metadata": {},
     "output_type": "execute_result"
    }
   ],
   "source": [
    "# chunks_vectorstore.delete_collection()\n",
    "docs_to_use[0].metadata"
   ]
  },
  {
   "cell_type": "markdown",
   "metadata": {},
   "source": [
    "### Generate Result"
   ]
  },
  {
   "cell_type": "code",
   "execution_count": 23,
   "metadata": {},
   "outputs": [
    {
     "data": {
      "text/plain": [
       "'Theo quy định, việc đặt tên đường bộ được thực hiện theo các tiêu chí: tên đường có thể dựa trên danh nhân, người có công với đất nước; di tích lịch sử, văn hóa; địa danh hoặc tập quán. Số hiệu đường bộ thường là số tự nhiên, và khi cần thiết sẽ thêm chữ cái. Trường hợp đường đô thị trùng với đường khác, cả hai tên và số hiệu sẽ được sử dụng.'"
      ]
     },
     "execution_count": 23,
     "metadata": {},
     "output_type": "execute_result"
    }
   ],
   "source": [
    "from langchain_core.output_parsers import StrOutputParser\n",
    "\n",
    "# Prompt\n",
    "system = \"\"\"You are an assistant for question-answering tasks. Answer the question based upon your knowledge. \n",
    "Use three-to-five sentences maximum and keep the answer concise.\"\"\"\n",
    "prompt = ChatPromptTemplate.from_messages(\n",
    "    [\n",
    "        (\"system\", system),\n",
    "        (\"human\", \"Retrieved documents: \\n\\n <docs>{documents}</docs> \\n\\n User question: <question>{question}</question>\"),\n",
    "    ]\n",
    ")\n",
    "\n",
    "# LLM\n",
    "llm = ChatOllama(model=llm_model_name, temperature=0)\n",
    "\n",
    "# Post-processing\n",
    "def format_docs(docs):\n",
    "    return \"\\n\".join(f\"<doc{i+1}>:\\nSource:{doc.metadata['source']}\\nContent:{doc.page_content}\\n</doc{i+1}>\\n\" for i, doc in enumerate(docs))\n",
    "\n",
    "# Chain\n",
    "rag_chain = prompt | llm | StrOutputParser()\n",
    "\n",
    "# Run\n",
    "generation = rag_chain.invoke({\"documents\":format_docs(docs_to_use), \"question\": question})\n",
    "generation"
   ]
  },
  {
   "cell_type": "markdown",
   "metadata": {},
   "source": [
    "### Check for Halluciation"
   ]
  },
  {
   "cell_type": "code",
   "execution_count": 24,
   "metadata": {},
   "outputs": [
    {
     "name": "stdout",
     "output_type": "stream",
     "text": [
      "binary_score='yes'\n"
     ]
    }
   ],
   "source": [
    "# Data model\n",
    "class GradeHallucinations(BaseModel):\n",
    "    \"\"\"Binary score for hallucination present in 'generation' answer.\"\"\"\n",
    "\n",
    "    binary_score: str = Field(\n",
    "        ...,\n",
    "        description=\"Answer is grounded in the facts, 'yes' or 'no'\"\n",
    "    )\n",
    "\n",
    "# LLM with function call\n",
    "llm = ChatOllama(model=llm_model_name, temperature=0)\n",
    "structured_llm_grader = llm.with_structured_output(GradeHallucinations)\n",
    "\n",
    "# Prompt\n",
    "system = \"\"\"You are a grader assessing whether an LLM generation is grounded in / supported by a set of retrieved facts. \\n \n",
    "    Give a binary score 'yes' or 'no'. 'Yes' means that the answer is grounded in / supported by the set of facts.\"\"\"\n",
    "hallucination_prompt = ChatPromptTemplate.from_messages(\n",
    "    [\n",
    "        (\"system\", system),\n",
    "        (\"human\", \"Set of facts: \\n\\n <facts>{documents}</facts> \\n\\n LLM generation: <generation>{generation}</generation>\"),\n",
    "    ]\n",
    ")\n",
    "\n",
    "hallucination_grader = hallucination_prompt | structured_llm_grader\n",
    "\n",
    "response = hallucination_grader.invoke({\"documents\": format_docs(docs_to_use), \"generation\": generation})\n",
    "print(response)"
   ]
  },
  {
   "cell_type": "code",
   "execution_count": null,
   "metadata": {},
   "outputs": [],
   "source": []
  }
 ],
 "metadata": {
  "kernelspec": {
   "display_name": "langchain",
   "language": "python",
   "name": "python3"
  },
  "language_info": {
   "codemirror_mode": {
    "name": "ipython",
    "version": 3
   },
   "file_extension": ".py",
   "mimetype": "text/x-python",
   "name": "python",
   "nbconvert_exporter": "python",
   "pygments_lexer": "ipython3",
   "version": "3.10.16"
  }
 },
 "nbformat": 4,
 "nbformat_minor": 2
}
