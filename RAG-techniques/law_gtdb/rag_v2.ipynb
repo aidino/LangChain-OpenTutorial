{
 "cells": [
  {
   "cell_type": "markdown",
   "metadata": {},
   "source": [
    "# RAG v2: Apply simatic chunking"
   ]
  },
  {
   "cell_type": "code",
   "execution_count": 1,
   "metadata": {},
   "outputs": [],
   "source": [
    "# Basic setup\n",
    "import os\n",
    "from langchain_ollama import ChatOllama\n",
    "from langchain_ollama.embeddings import OllamaEmbeddings\n",
    "from langchain_community.vectorstores import Chroma\n",
    "\n",
    "llm_model_name='qwen2.5:7b'\n",
    "llm = ChatOllama(model=llm_model_name, temperature=0)\n",
    "\n",
    "embedding_model='bge-m3:latest'\n",
    "embeddings = OllamaEmbeddings(model=embedding_model)"
   ]
  },
  {
   "cell_type": "code",
   "execution_count": 5,
   "metadata": {},
   "outputs": [],
   "source": [
    "# Helper functions\n",
    "def replace_t_with_space(list_of_documents):\n",
    "    \"\"\"\n",
    "    Thay thế tất cả các ký tự tab ('\\t') bằng dấu cách trong nội dung trang của mỗi tài liệu\n",
    "\n",
    "    Args:\n",
    "        list_of_documents: Danh sách các đối tượng tài liệu, mỗi đối tượng có thuộc tính 'page_content'.\n",
    "\n",
    "    Returns:\n",
    "        Danh sách tài liệu đã được sửa đổi với các ký tự tab được thay thế bằng dấu cách.\n",
    "    \"\"\"\n",
    "\n",
    "    for doc in list_of_documents:\n",
    "        doc.page_content = doc.page_content.replace('\\t', ' ')  # Replace tabs with spaces\n",
    "    return list_of_documents\n",
    "  \n"
   ]
  },
  {
   "cell_type": "code",
   "execution_count": 3,
   "metadata": {},
   "outputs": [],
   "source": [
    "# Load pdf file and split file to chunks\n",
    "from langchain.document_loaders import PyPDFLoader\n",
    "from langchain.text_splitter import RecursiveCharacterTextSplitter\n",
    "from langchain_experimental.text_splitter import SemanticChunker\n",
    "\n",
    "PDF_FILE_PATH='data/law_gtdb_35.pdf'\n",
    "# chunk_size = 1000\n",
    "# chunk_overlap = chunk_size // 5\n",
    "\n",
    "loader = PyPDFLoader(PDF_FILE_PATH)\n",
    "documents = loader.load()\n",
    "\n",
    "text_splitter = SemanticChunker(\n",
    "    # Initialize the semantic chunker using OllamaEmbeddings's embedding model\n",
    "    OllamaEmbeddings(model=embedding_model),\n",
    "    # Set the split breakpoint type to percentile\n",
    "    breakpoint_threshold_type=\"percentile\",\n",
    "    breakpoint_threshold_amount=70,\n",
    ")\n",
    "\n",
    "\n",
    "docs = text_splitter.split_documents(documents)"
   ]
  },
  {
   "cell_type": "code",
   "execution_count": 4,
   "metadata": {},
   "outputs": [
    {
     "data": {
      "text/plain": [
       "Document(metadata={'producer': 'PyPDF', 'creator': 'PyPDF', 'creationdate': '2024-09-20T10:02:58+07:00', 'moddate': '2024-09-20T10:02:58+07:00', 'source': 'data/law_gtdb_35.pdf', 'total_pages': 69, 'page': 0, 'page_label': '1'}, page_content='CÔNG BÁO/Số 983 + 984/Ngày 25-8-2024 3 \\n \\n \\nQUỐC HỘI \\n \\nCỘNG HÒA XÃ HỘI CHỦ NGHĨA VIỆT NAM \\nĐộc lập - Tự do - Hạnh phúc \\nLuật số: 35/2024/QH15  \\n \\nLUẬT \\nĐƯỜNG BỘ \\n \\nCăn cứ Hiến pháp nước Cộng hòa xã hội chủ nghĩa Việt Nam; \\nQuốc hội ban hành Luật Đường bộ. Chương I \\nNHỮNG QUY ĐỊNH CHUNG \\n \\nĐiều 1.')"
      ]
     },
     "execution_count": 4,
     "metadata": {},
     "output_type": "execute_result"
    }
   ],
   "source": [
    "docs[0]"
   ]
  },
  {
   "cell_type": "code",
   "execution_count": 6,
   "metadata": {},
   "outputs": [],
   "source": [
    "cleaned_docs = replace_t_with_space(docs)"
   ]
  },
  {
   "cell_type": "code",
   "execution_count": 7,
   "metadata": {},
   "outputs": [],
   "source": [
    "# Save to vector store\n",
    "vectorstore = Chroma.from_documents(\n",
    "  documents=cleaned_docs,\n",
    "  collection_name='GTDB_35_v2',\n",
    "  embedding=embeddings)"
   ]
  },
  {
   "cell_type": "code",
   "execution_count": 8,
   "metadata": {},
   "outputs": [],
   "source": [
    "# create retrieve\n",
    "retriever = vectorstore.as_retriever(\n",
    "  search_type=\"similarity\",\n",
    "  search_kwargs={'k': 4}, # number of documents to retrieve\n",
    ")"
   ]
  },
  {
   "cell_type": "code",
   "execution_count": 9,
   "metadata": {},
   "outputs": [
    {
     "data": {
      "text/plain": [
       "[Document(metadata={'creationdate': '2024-09-20T10:02:58+07:00', 'creator': 'PyPDF', 'moddate': '2024-09-20T10:02:58+07:00', 'page': 7, 'page_label': '8', 'producer': 'PyPDF', 'source': 'data/law_gtdb_35.pdf', 'total_pages': 69}, page_content='Đặt tên, đổi tên, số hiệu đường bộ \\n1. Việc đặt tên, số hiệu đường bộ được quy định như sau: \\na) Tên đường bộ được đặt theo tên danh nhân, người có công với đất nước; di \\ntích, sự kiện lịch sử, văn hóa; tên địa danh hoặc tên theo tập quán. Số hiệu đường \\nbộ được đặt theo số tự nhiên hoặc số tự nhiên kèm theo chữ cái nếu cần thiết. Trường hợp đường đô thị trùng với đường khác thì sử dụng cả tên đường đô thị và \\ntên, số hiệu của đường khác; \\nb) Tên, số hiệu đường bộ tham gia vào mạng lưới đường bộ quốc tế thực hiện \\ntheo điều ước quốc tế giữa nước Cộng hòa xã hội chủ nghĩa Việt Nam với các quốc \\ngia, tổ chức quốc tế có liên quan. Đường bộ kết nối vào mạng lưới đường bộ quốc tế \\nthì sử dụng cả tên, số hiệu đường bộ trong nước và tên, số hiệu đường bộ quốc tế. 2. Trường hợp có tuyến, đoạn tuyến đường bộ đi trùng nhau thì sử dụng tên, số \\nhiệu đường bộ thuộc cấp quản lý cao hơn, trừ trường hợp quy định tại điểm a \\nkhoản 1 Điều này.'),\n",
       " Document(metadata={'creationdate': '2024-09-20T10:02:58+07:00', 'creator': 'PyPDF', 'moddate': '2024-09-20T10:02:58+07:00', 'page': 7, 'page_label': '8', 'producer': 'PyPDF', 'source': 'data/law_gtdb_35.pdf', 'total_pages': 69}, page_content='3. Không bắt buộc đặt tên, số hiệu đường bộ đối với đường xã, đường thôn, \\nđường nội bộ, đường chuyên dùng; không bắt buộc đổi tên, số hiệu đường bộ trong \\ntrường hợp đường đó đi qua địa bàn được cấp có thẩm quyền quyết định giải thể, \\nnhập, chia, điều chỉnh địa giới hành chính của địa phương. 4.'),\n",
       " Document(metadata={'creationdate': '2024-09-20T10:02:58+07:00', 'creator': 'PyPDF', 'moddate': '2024-09-20T10:02:58+07:00', 'page': 29, 'page_label': '30', 'producer': 'PyPDF', 'source': 'data/law_gtdb_35.pdf', 'total_pages': 69}, page_content='Bộ trưởng Bộ Giao thông vận tải quy định trình tự, thủ tục chấp thuận thiết kế \\nvà trình tự, thủ tục cấp phép thi công nút giao đối với đường quốc lộ đang khai thác; \\nỦy ban nhân dân cấp tỉnh quy định trình tự, thủ tục chấp thuận thiết kế và trình tự, \\nthủ tục cấp phép thi công nút giao đối với đường địa phương đang khai thác. Điều 31.'),\n",
       " Document(metadata={'creationdate': '2024-09-20T10:02:58+07:00', 'creator': 'PyPDF', 'moddate': '2024-09-20T10:02:58+07:00', 'page': 1, 'page_label': '2', 'producer': 'PyPDF', 'source': 'data/law_gtdb_35.pdf', 'total_pages': 69}, page_content='Thực hiện thống nhất trên cơ sở phân công, phân cấp trách nhiệm, quyền \\nhạn cụ thể, đồng thời có sự phối hợp chặt chẽ giữa các Bộ, ngành và chính quyền \\nđịa phương các cấp. 4. Mọi hành vi vi phạm pháp luật về hoạt động đường bộ phải được phát hiện, \\nngăn chặn kịp thời, xử lý nghiêm minh, đúng pháp luật. Điều 4.')]"
      ]
     },
     "execution_count": 9,
     "metadata": {},
     "output_type": "execute_result"
    }
   ],
   "source": [
    "question = \"Quy định đặt tên đường bộ là gì?\"\n",
    "retriever_docs = retriever.invoke(question)\n",
    "retriever_docs"
   ]
  },
  {
   "cell_type": "code",
   "execution_count": 10,
   "metadata": {},
   "outputs": [
    {
     "data": {
      "text/plain": [
       "{'creationdate': '2024-09-20T10:02:58+07:00',\n",
       " 'creator': 'PyPDF',\n",
       " 'moddate': '2024-09-20T10:02:58+07:00',\n",
       " 'page': 7,\n",
       " 'page_label': '8',\n",
       " 'producer': 'PyPDF',\n",
       " 'source': 'data/law_gtdb_35.pdf',\n",
       " 'total_pages': 69}"
      ]
     },
     "execution_count": 10,
     "metadata": {},
     "output_type": "execute_result"
    }
   ],
   "source": [
    "retriever_docs[0].metadata"
   ]
  },
  {
   "cell_type": "code",
   "execution_count": 11,
   "metadata": {},
   "outputs": [
    {
     "name": "stdout",
     "output_type": "stream",
     "text": [
      "====== page: 8 ====== \n",
      " Đặt tên, đổi tên, số hiệu đường bộ \n",
      "1. Việc đặt tên, số hiệu đường bộ được quy định như sau: \n",
      "a) Tên đường bộ được đặt theo tên danh nhân, người có công với đất nước; di \n",
      "tích, sự kiện lịch sử, văn hóa; tên địa danh hoặc tên theo tập quán. Số hiệu đường \n",
      "bộ được đặt theo số tự nhiên hoặc số tự nhiên kèm theo chữ cái nếu cần thiết. Trường hợp đường đô thị trùng với đường khác thì sử dụng cả tên đường đô thị và \n",
      "tên, số hiệu của đường khác; \n",
      "b) Tên, số hiệu đường bộ tham gia vào mạng lưới đường bộ quốc tế thực hiện \n",
      "theo điều ước quốc tế giữa nước Cộng hòa xã hội chủ nghĩa Việt Nam với các quốc \n",
      "gia, tổ chức quốc tế có liên quan. Đường bộ kết nối vào mạng lưới đường bộ quốc tế \n",
      "thì sử dụng cả tên, số hiệu đường bộ trong nước và tên, số hiệu đường bộ quốc tế. 2. Trường hợp có tuyến, đoạn tuyến đường bộ đi trùng nhau thì sử dụng tên, số \n",
      "hiệu đường bộ thuộc cấp quản lý cao hơn, trừ trường hợp quy định tại điểm a \n",
      "khoản 1 Điều này.\n"
     ]
    }
   ],
   "source": [
    "print(f\"====== page: {retriever_docs[0].metadata['page_label']} ====== \\n {retriever_docs[0].page_content}\")"
   ]
  },
  {
   "cell_type": "markdown",
   "metadata": {},
   "source": [
    "### Check document relevancy"
   ]
  },
  {
   "cell_type": "code",
   "execution_count": 12,
   "metadata": {},
   "outputs": [],
   "source": [
    "from langchain_core.prompts import ChatPromptTemplate\n",
    "from pydantic import BaseModel, Field\n",
    "\n",
    "# Data model\n",
    "class GradeDocuments(BaseModel):\n",
    "    \"\"\"Binary score for relevance check on retrieved documents.\"\"\"\n",
    "\n",
    "    binary_score: str = Field(\n",
    "        description=\"Documents are relevant to the question, 'yes' or 'no'\"\n",
    "    )\n",
    "llm = ChatOllama(model=llm_model_name)\n",
    "structured_llm_grader = llm.with_structured_output(GradeDocuments)\n",
    "\n",
    "# Prompt\n",
    "system = \"\"\"You are a grader assessing relevance of a retrieved document to a user question. \\n \n",
    "    If the document contains keyword(s) or semantic meaning related to the user question, grade it as relevant. \\n\n",
    "    It does not need to be a stringent test. The goal is to filter out erroneous retrievals. \\n\n",
    "    Give a binary score 'yes' or 'no' score to indicate whether the document is relevant to the question.\"\"\"\n",
    "grade_prompt = ChatPromptTemplate.from_messages(\n",
    "    [\n",
    "        (\"system\", system),\n",
    "        (\"human\", \"Retrieved document: \\n\\n {document} \\n\\n User question: {question}\"),\n",
    "    ]\n",
    ")\n",
    "\n",
    "retrieval_grader = grade_prompt | structured_llm_grader"
   ]
  },
  {
   "cell_type": "code",
   "execution_count": 13,
   "metadata": {},
   "outputs": [
    {
     "name": "stdout",
     "output_type": "stream",
     "text": [
      "Đặt tên, đổi tên, số hiệu đường bộ \n",
      "1. Việc đặt tên, số hiệu đường bộ được quy định như sau: \n",
      "a) Tên ... \n",
      " --------------------------------------------------\n",
      "binary_score='yes' \n",
      "\n",
      "3. Không bắt buộc đặt tên, số hiệu đường bộ đối với đường xã, đường thôn, \n",
      "đường nội bộ, đường chuyê ... \n",
      " --------------------------------------------------\n",
      "binary_score='no' \n",
      "\n",
      "Bộ trưởng Bộ Giao thông vận tải quy định trình tự, thủ tục chấp thuận thiết kế \n",
      "và trình tự, thủ tục ... \n",
      " --------------------------------------------------\n",
      "binary_score='no' \n",
      "\n",
      "Thực hiện thống nhất trên cơ sở phân công, phân cấp trách nhiệm, quyền \n",
      "hạn cụ thể, đồng thời có sự  ... \n",
      " --------------------------------------------------\n",
      "binary_score='no' \n",
      "\n"
     ]
    }
   ],
   "source": [
    "# Filter out the non-relevant docs\n",
    "docs_to_use = []\n",
    "for doc in retriever_docs:\n",
    "    print(doc.page_content[:100],'... \\n', '-'*50)\n",
    "    res = retrieval_grader.invoke({\"question\": question, \"document\": doc.page_content})\n",
    "    print(res,'\\n')\n",
    "    if res.binary_score == 'yes':\n",
    "        docs_to_use.append(doc)"
   ]
  },
  {
   "cell_type": "code",
   "execution_count": 15,
   "metadata": {},
   "outputs": [
    {
     "name": "stdout",
     "output_type": "stream",
     "text": [
      "====== page: 30 ====== \n",
      " Bộ trưởng Bộ Giao thông vận tải quy định trình tự, thủ tục chấp thuận thiết kế \n",
      "và trình tự, thủ tục cấp phép thi công nút giao đối với đường quốc lộ đang khai thác; \n",
      "Ủy ban nhân dân cấp tỉnh quy định trình tự, thủ tục chấp thuận thiết kế và trình tự, \n",
      "thủ tục cấp phép thi công nút giao đối với đường địa phương đang khai thác. Điều 31.\n"
     ]
    }
   ],
   "source": [
    "print(f\"====== page: {retriever_docs[2].metadata['page_label']} ====== \\n {retriever_docs[2].page_content}\")"
   ]
  },
  {
   "cell_type": "markdown",
   "metadata": {},
   "source": [
    "### Generate Result"
   ]
  },
  {
   "cell_type": "code",
   "execution_count": 16,
   "metadata": {},
   "outputs": [
    {
     "data": {
      "text/plain": [
       "'Quy định đặt tên đường bộ theo văn bản là: Tên đường được đặt theo danh nhân, địa danh, sự kiện lịch sử, hoặc tập quán; số hiệu được dùng số tự nhiên hoặc kết hợp với chữ cái. Tên và số hiệu của các tuyến đường đô thị trùng nhau sẽ sử dụng tên, số hiệu cấp quản lý cao hơn.'"
      ]
     },
     "execution_count": 16,
     "metadata": {},
     "output_type": "execute_result"
    }
   ],
   "source": [
    "from langchain_core.output_parsers import StrOutputParser\n",
    "\n",
    "# Prompt\n",
    "system = \"\"\"You are an assistant for question-answering tasks. Answer the question based upon your knowledge. \n",
    "Use three-to-five sentences maximum and keep the answer concise.\"\"\"\n",
    "prompt = ChatPromptTemplate.from_messages(\n",
    "    [\n",
    "        (\"system\", system),\n",
    "        (\"human\", \"Retrieved documents: \\n\\n <docs>{documents}</docs> \\n\\n User question: <question>{question}</question>\"),\n",
    "    ]\n",
    ")\n",
    "\n",
    "# LLM\n",
    "llm = ChatOllama(model=llm_model_name, temperature=0)\n",
    "\n",
    "# Post-processing\n",
    "def format_docs(docs):\n",
    "    return \"\\n\".join(f\"<doc{i+1}>:\\nSource:{doc.metadata['source']}\\nContent:{doc.page_content}\\n</doc{i+1}>\\n\" for i, doc in enumerate(docs))\n",
    "\n",
    "# Chain\n",
    "rag_chain = prompt | llm | StrOutputParser()\n",
    "\n",
    "# Run\n",
    "generation = rag_chain.invoke({\"documents\":format_docs(docs_to_use), \"question\": question})\n",
    "generation"
   ]
  },
  {
   "cell_type": "markdown",
   "metadata": {},
   "source": [
    "### Check for Halluciation"
   ]
  },
  {
   "cell_type": "code",
   "execution_count": 17,
   "metadata": {},
   "outputs": [
    {
     "name": "stdout",
     "output_type": "stream",
     "text": [
      "binary_score='yes'\n"
     ]
    }
   ],
   "source": [
    "# Data model\n",
    "class GradeHallucinations(BaseModel):\n",
    "    \"\"\"Binary score for hallucination present in 'generation' answer.\"\"\"\n",
    "\n",
    "    binary_score: str = Field(\n",
    "        ...,\n",
    "        description=\"Answer is grounded in the facts, 'yes' or 'no'\"\n",
    "    )\n",
    "\n",
    "# LLM with function call\n",
    "llm = ChatOllama(model=llm_model_name, temperature=0)\n",
    "structured_llm_grader = llm.with_structured_output(GradeHallucinations)\n",
    "\n",
    "# Prompt\n",
    "system = \"\"\"You are a grader assessing whether an LLM generation is grounded in / supported by a set of retrieved facts. \\n \n",
    "    Give a binary score 'yes' or 'no'. 'Yes' means that the answer is grounded in / supported by the set of facts.\"\"\"\n",
    "hallucination_prompt = ChatPromptTemplate.from_messages(\n",
    "    [\n",
    "        (\"system\", system),\n",
    "        (\"human\", \"Set of facts: \\n\\n <facts>{documents}</facts> \\n\\n LLM generation: <generation>{generation}</generation>\"),\n",
    "    ]\n",
    ")\n",
    "\n",
    "hallucination_grader = hallucination_prompt | structured_llm_grader\n",
    "\n",
    "response = hallucination_grader.invoke({\"documents\": format_docs(docs_to_use), \"generation\": generation})\n",
    "print(response)"
   ]
  },
  {
   "cell_type": "code",
   "execution_count": null,
   "metadata": {},
   "outputs": [],
   "source": []
  }
 ],
 "metadata": {
  "kernelspec": {
   "display_name": "langchain",
   "language": "python",
   "name": "python3"
  },
  "language_info": {
   "codemirror_mode": {
    "name": "ipython",
    "version": 3
   },
   "file_extension": ".py",
   "mimetype": "text/x-python",
   "name": "python",
   "nbconvert_exporter": "python",
   "pygments_lexer": "ipython3",
   "version": "3.10.16"
  }
 },
 "nbformat": 4,
 "nbformat_minor": 2
}
