{
 "cells": [
  {
   "cell_type": "markdown",
   "metadata": {},
   "source": [
    "# Choose chunk size\n",
    "\n",
    "```python\n",
    "faithfulness_new_prompt_template = \"\"\" Hãy cho biết liệu một thông tin nhất định có được hỗ trợ trực tiếp bởi ngữ cảnh hay không.\n",
    "    Bạn cần trả lời bằng YES hoặc NO.\n",
    "    Trả lời YES nếu bất kỳ phần nào của ngữ cảnh hỗ trợ rõ ràng thông tin, ngay cả khi phần lớn ngữ cảnh không liên quan. Nếu ngữ cảnh không hỗ trợ rõ ràng thông tin, hãy trả lời NO. Một số ví dụ được cung cấp bên dưới.\n",
    "\n",
    "    Thông tin: Bánh táo thường có hai lớp vỏ.\n",
    "    Ngữ cảnh: Bánh táo là một loại bánh trái cây trong đó thành phần nhân chính là táo.\n",
    "    Bánh táo thường được phục vụ với kem tươi đánh bông, kem ('bánh táo à la mode'), trứng sữa hoặc phô mai cheddar.\n",
    "    Nó thường có hai lớp vỏ, với lớp vỏ bánh ngọt cả trên và dưới nhân; lớp vỏ trên có thể đặc hoặc dạng lưới (đan xen các dải ngang).\n",
    "    Trả lời: YES\n",
    "\n",
    "    Thông tin: Bánh táo có vị tệ.\n",
    "    Ngữ cảnh: Bánh táo là một loại bánh trái cây trong đó thành phần nhân chính là táo.\n",
    "    Bánh táo thường được phục vụ với kem tươi đánh bông, kem ('bánh táo à la mode'), trứng sữa hoặc phô mai cheddar.\n",
    "    Nó thường có hai lớp vỏ, với lớp vỏ bánh ngọt cả trên và dưới nhân; lớp vỏ trên có thể đặc hoặc dạng lưới (đan xen các dải ngang).\n",
    "    Trả lời: NO\n",
    "\n",
    "    Thông tin: Paris là thủ đô của Pháp.\n",
    "    Ngữ cảnh: Tài liệu này mô tả một chuyến đi trong ngày ở Paris. Bạn sẽ ghé thăm các địa danh nổi tiếng như Tháp Eiffel, Bảo tàng Louvre và Nhà thờ Đức Bà.\n",
    "    Trả lời: NO\n",
    "\n",
    "    Thông tin: {query_str}\n",
    "    Ngữ cảnh: {context_str}\n",
    "    Trả lời:\n",
    "\n",
    "    \"\"\"\n",
    "\n",
    "```"
   ]
  },
  {
   "cell_type": "code",
   "execution_count": 4,
   "metadata": {},
   "outputs": [],
   "source": [
    "from langchain_core.prompts import PromptTemplate\n",
    "from langchain_ollama import ChatOllama\n",
    "from pydantic import BaseModel, Field\n",
    "\n",
    "llm_model_name='qwen2.5:7b'\n",
    "llm = ChatOllama(model=llm_model_name, temperature=0)\n",
    "\n",
    "class GradeChunk(BaseModel):\n",
    "    \"\"\"Binary score for relevance check on chunks.\"\"\"\n",
    "\n",
    "    binary_score: str = Field(\n",
    "        description=\"Piece of information is directly supported by the context, 'yes' or 'no'\"\n",
    "    )\n",
    "\n",
    "structured_llm_grader = llm.with_structured_output(GradeChunk)\n",
    "\n",
    "faithfulness_new_prompt_template = \"\"\" Please tell if a given piece of information is directly supported by the context.\n",
    "    You need to answer with either YES or NO.\n",
    "    Answer YES if any part of the context explicitly supports the information, even if most of the context is unrelated. If the context does not explicitly support the information, answer NO. Some examples are provided below.\n",
    "\n",
    "    Information: Apple pie is generally double-crusted.\n",
    "    Context: An apple pie is a fruit pie in which the principal filling ingredient is apples.\n",
    "    Apple pie is often served with whipped cream, ice cream ('apple pie à la mode'), custard, or cheddar cheese.\n",
    "    It is generally double-crusted, with pastry both above and below the filling; the upper crust may be solid or latticed (woven of crosswise strips).\n",
    "    Answer: YES\n",
    "\n",
    "    Information: Apple pies taste bad.\n",
    "    Context: An apple pie is a fruit pie in which the principal filling ingredient is apples.\n",
    "    Apple pie is often served with whipped cream, ice cream ('apple pie à la mode'), custard, or cheddar cheese.\n",
    "    It is generally double-crusted, with pastry both above and below the filling; the upper crust may be solid or latticed (woven of crosswise strips).\n",
    "    Answer: NO\n",
    "\n",
    "    Information: Paris is the capital of France.\n",
    "    Context: This document describes a day trip in Paris. You will visit famous landmarks like the Eiffel Tower, the Louvre Museum, and Notre-Dame Cathedral.\n",
    "    Answer: NO\n",
    "\n",
    "    Information: {query_str}\n",
    "    Context: {context_str}\n",
    "    Answer:\n",
    "\n",
    "    \"\"\"\n",
    "    \n",
    "prompt = PromptTemplate(\n",
    "    template=faithfulness_new_prompt_template, \n",
    "    input_variables=[\"query_str\", \"context_str\"])\n",
    "\n",
    "chunk_grader = prompt | structured_llm_grader\n",
    "    \n"
   ]
  },
  {
   "cell_type": "markdown",
   "metadata": {},
   "source": [
    "### Function to evaluate metrics for each chunk size"
   ]
  },
  {
   "cell_type": "code",
   "execution_count": null,
   "metadata": {},
   "outputs": [],
   "source": []
  }
 ],
 "metadata": {
  "kernelspec": {
   "display_name": "langchain",
   "language": "python",
   "name": "python3"
  },
  "language_info": {
   "codemirror_mode": {
    "name": "ipython",
    "version": 3
   },
   "file_extension": ".py",
   "mimetype": "text/x-python",
   "name": "python",
   "nbconvert_exporter": "python",
   "pygments_lexer": "ipython3",
   "version": "3.10.16"
  }
 },
 "nbformat": 4,
 "nbformat_minor": 2
}
