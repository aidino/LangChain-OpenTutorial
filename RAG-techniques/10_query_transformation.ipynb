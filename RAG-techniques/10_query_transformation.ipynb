{
 "cells": [
  {
   "cell_type": "markdown",
   "metadata": {},
   "source": [
    "# Query Transformations for Improved Retrieval in RAG Systems\n",
    "\n",
    "## Tổng Quan\n",
    "\n",
    "Đoạn mã này triển khai ba kỹ thuật biến đổi truy vấn để tăng cường quá trình truy xuất trong hệ thống Retrieval-Augmented Generation (RAG):\n",
    "\n",
    "1.  Viết lại Truy vấn (Query Rewriting)\n",
    "2.  Gợi ý Bước Lùi (Step-back Prompting)\n",
    "3.  Phân tách Truy vấn con (Sub-query Decomposition)\n",
    "\n",
    "Mỗi kỹ thuật nhằm mục đích cải thiện tính liên quan và toàn diện của thông tin được truy xuất bằng cách sửa đổi hoặc mở rộng truy vấn gốc.\n",
    "\n",
    "## Động Lực\n",
    "\n",
    "Hệ thống RAG thường gặp phải thách thức trong việc truy xuất thông tin phù hợp nhất, đặc biệt khi xử lý các truy vấn phức tạp hoặc mơ hồ. Các kỹ thuật biến đổi truy vấn này giải quyết vấn đề này bằng cách tái cấu trúc truy vấn để phù hợp hơn với các tài liệu liên quan hoặc để truy xuất thông tin toàn diện hơn.\n",
    "\n",
    "## Các Thành Phần Chính\n",
    "\n",
    "1.  Viết lại Truy vấn (Query Rewriting): Tái cấu trúc truy vấn để cụ thể và chi tiết hơn.\n",
    "2.  Gợi ý Bước Lùi (Step-back Prompting): Tạo ra các truy vấn rộng hơn để truy xuất ngữ cảnh tốt hơn.\n",
    "3.  Phân tách Truy vấn con (Sub-query Decomposition): Chia các truy vấn phức tạp thành các truy vấn con đơn giản hơn.\n",
    "\n",
    "## Chi Tiết Phương Pháp\n",
    "\n",
    "### 1. Viết lại Truy vấn (Query Rewriting)\n",
    "\n",
    "-   **Mục đích**: Làm cho truy vấn cụ thể và chi tiết hơn, cải thiện khả năng truy xuất thông tin liên quan.\n",
    "-   **Triển khai**:\n",
    "    -   Sử dụng mô hình GPT-4 với mẫu gợi ý tùy chỉnh.\n",
    "    -   Lấy truy vấn gốc và tái cấu trúc nó để cụ thể và chi tiết hơn.\n",
    "\n",
    "### 2. Gợi ý Bước Lùi (Step-back Prompting)\n",
    "\n",
    "-   **Mục đích**: Tạo ra các truy vấn rộng hơn, tổng quát hơn có thể giúp truy xuất thông tin nền tảng liên quan.\n",
    "-   **Triển khai**:\n",
    "    -   Sử dụng mô hình GPT-4 với mẫu gợi ý tùy chỉnh.\n",
    "    -   Lấy truy vấn gốc và tạo ra một truy vấn \"bước lùi\" tổng quát hơn.\n",
    "\n",
    "### 3. Phân tách Truy vấn con (Sub-query Decomposition)\n",
    "\n",
    "-   **Mục đích**: Chia các truy vấn phức tạp thành các truy vấn con đơn giản hơn để truy xuất thông tin toàn diện hơn.\n",
    "-   **Triển khai**:\n",
    "    -   Sử dụng mô hình GPT-4 với mẫu gợi ý tùy chỉnh.\n",
    "    -   Phân tách truy vấn gốc thành 2-4 truy vấn con đơn giản hơn.\n",
    "\n",
    "## Lợi Ích của Các Phương Pháp Này\n",
    "\n",
    "1.  **Cải thiện Tính Liên Quan**: Viết lại truy vấn giúp truy xuất thông tin cụ thể và liên quan hơn.\n",
    "2.  **Ngữ Cảnh Tốt Hơn**: Gợi ý bước lùi cho phép truy xuất ngữ cảnh và thông tin nền tảng rộng hơn.\n",
    "3.  **Kết Quả Toàn Diện**: Phân tách truy vấn con cho phép truy xuất thông tin bao gồm các khía cạnh khác nhau của một truy vấn phức tạp.\n",
    "4.  **Tính Linh Hoạt**: Mỗi kỹ thuật có thể được sử dụng độc lập hoặc kết hợp, tùy thuộc vào trường hợp sử dụng cụ thể.\n",
    "\n",
    "## Chi Tiết Triển Khai\n",
    "\n",
    "-   Tất cả các kỹ thuật đều sử dụng mô hình GPT-4 của OpenAI để biến đổi truy vấn.\n",
    "-   Các mẫu gợi ý tùy chỉnh được sử dụng để hướng dẫn mô hình tạo ra các biến đổi phù hợp.\n",
    "-   Đoạn mã cung cấp các hàm riêng biệt cho từng kỹ thuật biến đổi, cho phép tích hợp dễ dàng vào các hệ thống RAG hiện có.\n",
    "\n",
    "## Ví Dụ Trường Hợp Sử Dụng\n",
    "\n",
    "Đoạn mã minh họa từng kỹ thuật bằng truy vấn ví dụ:\n",
    "\"Tác động của biến đổi khí hậu đối với môi trường là gì?\"\n",
    "\n",
    "-   **Viết lại Truy vấn (Query Rewriting)** mở rộng điều này để bao gồm các khía cạnh cụ thể như thay đổi nhiệt độ và đa dạng sinh học.\n",
    "-   **Gợi ý Bước Lùi (Step-back Prompting)** khái quát hóa nó thành \"Ảnh hưởng chung của biến đổi khí hậu là gì?\"\n",
    "-   **Phân tách Truy vấn con (Sub-query Decomposition)** chia nó thành các câu hỏi về đa dạng sinh học, đại dương, kiểu thời tiết và môi trường trên cạn.\n",
    "\n",
    "## Kết Luận\n",
    "\n",
    "Các kỹ thuật biến đổi truy vấn này cung cấp các phương pháp mạnh mẽ để tăng cường khả năng truy xuất của hệ thống RAG. Bằng cách tái cấu trúc truy vấn theo nhiều cách khác nhau, chúng có thể cải thiện đáng kể tính liên quan, ngữ cảnh và tính toàn diện của thông tin được truy xuất. Các phương pháp này đặc biệt có giá trị trong các lĩnh vực mà truy vấn có thể phức tạp hoặc đa diện, chẳng hạn như nghiên cứu khoa học, phân tích pháp lý hoặc các nhiệm vụ tìm kiếm sự thật toàn diện.\n"
   ]
  },
  {
   "cell_type": "code",
   "execution_count": 4,
   "metadata": {},
   "outputs": [],
   "source": [
    "# Basic setup\n",
    "import os\n",
    "from langchain_ollama import ChatOllama\n",
    "from langchain_ollama.embeddings import OllamaEmbeddings\n",
    "from langchain_chroma import Chroma\n",
    "\n",
    "llm_model_name='qwen2.5:7b'\n",
    "llm = ChatOllama(model=llm_model_name, temperature=0)\n",
    "\n",
    "embedding_model='bge-m3:latest'\n",
    "embeddings = OllamaEmbeddings(model=embedding_model)"
   ]
  },
  {
   "cell_type": "code",
   "execution_count": 5,
   "metadata": {},
   "outputs": [],
   "source": [
    "# Helper functions\n",
    "def replace_t_with_space(list_of_documents):\n",
    "    \"\"\"\n",
    "    Thay thế tất cả các ký tự tab ('\\t') bằng dấu cách trong nội dung trang của mỗi tài liệu\n",
    "\n",
    "    Args:\n",
    "        list_of_documents: Danh sách các đối tượng tài liệu, mỗi đối tượng có thuộc tính 'page_content'.\n",
    "\n",
    "    Returns:\n",
    "        Danh sách tài liệu đã được sửa đổi với các ký tự tab được thay thế bằng dấu cách.\n",
    "    \"\"\"\n",
    "\n",
    "    for doc in list_of_documents:\n",
    "        doc.page_content = doc.page_content.replace('\\t', ' ')  # Replace tabs with spaces\n",
    "    return list_of_documents\n",
    "  "
   ]
  },
  {
   "cell_type": "code",
   "execution_count": 6,
   "metadata": {},
   "outputs": [],
   "source": [
    "# Load pdf file and split file to chunks\n",
    "from uuid import uuid4\n",
    "from langchain.document_loaders import PyPDFLoader\n",
    "from langchain.text_splitter import RecursiveCharacterTextSplitter\n",
    "from langchain_experimental.text_splitter import SemanticChunker\n",
    "from langchain_core.documents import Document\n",
    "\n",
    "# PDF_FILE_PATH='law_gtdb/data/law_gtdb_35.pdf'\n",
    "\n",
    "# print(\"Loading PDF file\")\n",
    "# loader = PyPDFLoader(PDF_FILE_PATH)\n",
    "# documents = loader.load()\n",
    "\n",
    "# print(\"Splitting document based on Semantic\")\n",
    "# text_splitter = SemanticChunker(\n",
    "#     OllamaEmbeddings(model=embedding_model),\n",
    "#     breakpoint_threshold_type=\"percentile\",\n",
    "#     breakpoint_threshold_amount=70,\n",
    "# )\n",
    "# docs = text_splitter.split_documents(documents)\n",
    "# cleaned_docs = replace_t_with_space(docs)\n",
    "\n",
    "\n",
    "vectorstore = Chroma(\n",
    "    collection_name=\"GTDB_35_v3\",\n",
    "    embedding_function=embeddings,\n",
    "    persist_directory=\"data/chroma_GTDB_35_db\",  # Where to save data locally, remove if not necessary\n",
    ")\n",
    "\n",
    "# print(\"Adding splitted documents to vector store\")\n",
    "# uuids = [str(uuid4()) for _ in range(len(cleaned_docs))]\n",
    "# vectorstore.add_documents(documents=cleaned_docs, ids=uuids)"
   ]
  },
  {
   "cell_type": "code",
   "execution_count": 7,
   "metadata": {},
   "outputs": [],
   "source": [
    "# create retrieve\n",
    "retriever = vectorstore.as_retriever(\n",
    "  search_type=\"similarity\",\n",
    "  search_kwargs={'k': 4}, # number of documents to retrieve\n",
    ")"
   ]
  },
  {
   "cell_type": "code",
   "execution_count": 8,
   "metadata": {},
   "outputs": [
    {
     "data": {
      "text/plain": [
       "[Document(id='ec27fa39-ec2a-4a16-a8fd-60bf32bf7d57', metadata={'creationdate': '2024-09-20T10:02:58+07:00', 'creator': 'PyPDF', 'moddate': '2024-09-20T10:02:58+07:00', 'page': 7, 'page_label': '8', 'producer': 'PyPDF', 'source': 'law_gtdb/data/law_gtdb_35.pdf', 'total_pages': 69}, page_content='Đặt tên, đổi tên, số hiệu đường bộ \\n1. Việc đặt tên, số hiệu đường bộ được quy định như sau: \\na) Tên đường bộ được đặt theo tên danh nhân, người có công với đất nước; di \\ntích, sự kiện lịch sử, văn hóa; tên địa danh hoặc tên theo tập quán. Số hiệu đường \\nbộ được đặt theo số tự nhiên hoặc số tự nhiên kèm theo chữ cái nếu cần thiết. Trường hợp đường đô thị trùng với đường khác thì sử dụng cả tên đường đô thị và \\ntên, số hiệu của đường khác; \\nb) Tên, số hiệu đường bộ tham gia vào mạng lưới đường bộ quốc tế thực hiện \\ntheo điều ước quốc tế giữa nước Cộng hòa xã hội chủ nghĩa Việt Nam với các quốc \\ngia, tổ chức quốc tế có liên quan. Đường bộ kết nối vào mạng lưới đường bộ quốc tế \\nthì sử dụng cả tên, số hiệu đường bộ trong nước và tên, số hiệu đường bộ quốc tế. 2. Trường hợp có tuyến, đoạn tuyến đường bộ đi trùng nhau thì sử dụng tên, số \\nhiệu đường bộ thuộc cấp quản lý cao hơn, trừ trường hợp quy định tại điểm a \\nkhoản 1 Điều này.'),\n",
       " Document(id='71d1f305-1314-4235-8468-01b306f6e9bd', metadata={'creationdate': '2024-09-20T10:02:58+07:00', 'creator': 'PyPDF', 'moddate': '2024-09-20T10:02:58+07:00', 'page': 7, 'page_label': '8', 'producer': 'PyPDF', 'source': 'law_gtdb/data/law_gtdb_35.pdf', 'total_pages': 69}, page_content='3. Không bắt buộc đặt tên, số hiệu đường bộ đối với đường xã, đường thôn, \\nđường nội bộ, đường chuyên dùng; không bắt buộc đổi tên, số hiệu đường bộ trong \\ntrường hợp đường đó đi qua địa bàn được cấp có thẩm quyền quyết định giải thể, \\nnhập, chia, điều chỉnh địa giới hành chính của địa phương. 4.'),\n",
       " Document(id='db29c460-7551-4d17-bc2a-d2674904c705', metadata={'creationdate': '2024-09-20T10:02:58+07:00', 'creator': 'PyPDF', 'moddate': '2024-09-20T10:02:58+07:00', 'page': 29, 'page_label': '30', 'producer': 'PyPDF', 'source': 'law_gtdb/data/law_gtdb_35.pdf', 'total_pages': 69}, page_content='Bộ trưởng Bộ Giao thông vận tải quy định trình tự, thủ tục chấp thuận thiết kế \\nvà trình tự, thủ tục cấp phép thi công nút giao đối với đường quốc lộ đang khai thác; \\nỦy ban nhân dân cấp tỉnh quy định trình tự, thủ tục chấp thuận thiết kế và trình tự, \\nthủ tục cấp phép thi công nút giao đối với đường địa phương đang khai thác. Điều 31.'),\n",
       " Document(id='8590c958-9a20-4a1a-9bdc-aa69c02c219d', metadata={'creationdate': '2024-09-20T10:02:58+07:00', 'creator': 'PyPDF', 'moddate': '2024-09-20T10:02:58+07:00', 'page': 1, 'page_label': '2', 'producer': 'PyPDF', 'source': 'law_gtdb/data/law_gtdb_35.pdf', 'total_pages': 69}, page_content='Thực hiện thống nhất trên cơ sở phân công, phân cấp trách nhiệm, quyền \\nhạn cụ thể, đồng thời có sự phối hợp chặt chẽ giữa các Bộ, ngành và chính quyền \\nđịa phương các cấp. 4. Mọi hành vi vi phạm pháp luật về hoạt động đường bộ phải được phát hiện, \\nngăn chặn kịp thời, xử lý nghiêm minh, đúng pháp luật. Điều 4.')]"
      ]
     },
     "execution_count": 8,
     "metadata": {},
     "output_type": "execute_result"
    }
   ],
   "source": [
    "question = \"Quy định đặt tên đường bộ là gì?\"\n",
    "retriever_docs = retriever.invoke(question)\n",
    "retriever_docs"
   ]
  },
  {
   "cell_type": "markdown",
   "metadata": {},
   "source": [
    "### 1 - Query Rewriting: Reformulating queries to improve retrieval.\n",
    "\n",
    "Tái cấu trúc truy vấn để cụ thể và chi tiết hơn."
   ]
  },
  {
   "cell_type": "code",
   "execution_count": 13,
   "metadata": {},
   "outputs": [],
   "source": [
    "from langchain_core.prompts import PromptTemplate\n",
    "\n",
    "rewrite_llm = ChatOllama(model='qwen2.5:7b', temperature=0.1)\n",
    "\n",
    "query_rewrite_template = \"\"\"You are an AI assistant tasked with reformulating user queries to improve retrieval in a RAG system. \n",
    "Given the original query, rewrite it to be more specific, detailed, and likely to retrieve relevant information.\n",
    "Please note that, the Rewritten query is the same language with original query\n",
    "\n",
    "Original query: {original_query}\n",
    "\n",
    "Rewritten query:\"\"\"\n",
    "\n",
    "query_rewrite_prompt = PromptTemplate(\n",
    "    input_variables=[\"original_query\"],\n",
    "    template=query_rewrite_template\n",
    ")\n",
    "\n",
    "# Create an LLMChain for query rewriting\n",
    "query_rewriter = query_rewrite_prompt | rewrite_llm\n",
    "\n",
    "def rewrite_query(original_query):\n",
    "    \"\"\"\n",
    "    Rewrite the original query to improve retrieval.\n",
    "    \n",
    "    Args:\n",
    "    original_query (str): The original user query\n",
    "    \n",
    "    Returns:\n",
    "    str: The rewritten query\n",
    "    \"\"\"\n",
    "    response = query_rewriter.invoke(original_query)\n",
    "    return response.content"
   ]
  },
  {
   "cell_type": "code",
   "execution_count": 14,
   "metadata": {},
   "outputs": [
    {
     "data": {
      "text/plain": [
       "'Quy định đặt tên cho các con đường bộ ở Việt Nam là gì?'"
      ]
     },
     "execution_count": 14,
     "metadata": {},
     "output_type": "execute_result"
    }
   ],
   "source": [
    "# Example\n",
    "original_query = \"Quy định đặt tên đường bộ là gì?\"\n",
    "rewrite_query = rewrite_query(original_query)\n",
    "rewrite_query"
   ]
  },
  {
   "cell_type": "markdown",
   "metadata": {},
   "source": [
    "### 2 - Step-back Prompting: Generating broader queries for better context retrieval.\n",
    "\n",
    "Tạo ra các truy vấn rộng hơn để truy xuất ngữ cảnh tốt hơn."
   ]
  },
  {
   "cell_type": "code",
   "execution_count": 15,
   "metadata": {},
   "outputs": [],
   "source": [
    "step_back_llm = ChatOllama(model='qwen2.5:7b', temperature=0.1)\n",
    "\n",
    "\n",
    "# Create a prompt template for step-back prompting\n",
    "step_back_template = \"\"\"You are an AI assistant tasked with generating broader, more general queries to improve context retrieval in a RAG system.\n",
    "Given the original query, generate a step-back query that is more general and can help retrieve relevant background information.\n",
    "Please note that, the step-back query is the same language with original query.\n",
    "\n",
    "Original query: {original_query}\n",
    "\n",
    "Step-back query:\"\"\"\n",
    "\n",
    "step_back_prompt = PromptTemplate(\n",
    "    input_variables=[\"original_query\"],\n",
    "    template=step_back_template\n",
    ")\n",
    "\n",
    "# Create an LLMChain for step-back prompting\n",
    "step_back_chain = step_back_prompt | step_back_llm\n",
    "\n",
    "def generate_step_back_query(original_query):\n",
    "    \"\"\"\n",
    "    Generate a step-back query to retrieve broader context.\n",
    "    \n",
    "    Args:\n",
    "    original_query (str): The original user query\n",
    "    \n",
    "    Returns:\n",
    "    str: The step-back query\n",
    "    \"\"\"\n",
    "    response = step_back_chain.invoke(original_query)\n",
    "    return response.content"
   ]
  },
  {
   "cell_type": "code",
   "execution_count": 16,
   "metadata": {},
   "outputs": [
    {
     "name": "stdout",
     "output_type": "stream",
     "text": [
      "Original query: Quy định đặt tên đường bộ là gì?\n",
      "\n",
      "Step-back query: Quy định về quản lý và sử dụng đường bộ bao gồm những nội dung nào?\n"
     ]
    }
   ],
   "source": [
    "# example query over the understanding climate change dataset\n",
    "original_query = \"Quy định đặt tên đường bộ là gì?\"\n",
    "step_back_query = generate_step_back_query(original_query)\n",
    "print(\"Original query:\", original_query)\n",
    "print(\"\\nStep-back query:\", step_back_query)"
   ]
  },
  {
   "cell_type": "markdown",
   "metadata": {},
   "source": [
    "### 3- Sub-query Decomposition: Breaking complex queries into simpler sub-queries.\n",
    "\n",
    "Chia các truy vấn phức tạp thành các truy vấn con đơn giản hơn."
   ]
  },
  {
   "cell_type": "code",
   "execution_count": 19,
   "metadata": {},
   "outputs": [],
   "source": [
    "sub_query_llm = ChatOllama(model='qwen2.5:7b', temperature=0.1)\n",
    "\n",
    "# Create a prompt template for sub-query decomposition\n",
    "subquery_decomposition_template = \"\"\"You are an AI assistant tasked with breaking down complex queries into simpler sub-queries for a RAG system.\n",
    "Given the original query, decompose it into 2-4 simpler sub-queries that, when answered together, would provide a comprehensive response to the original query.\n",
    "\n",
    "Original query: {original_query}\n",
    "\n",
    "example: What are the impacts of climate change on the environment?\n",
    "\n",
    "Sub-queries:\n",
    "1. What are the impacts of climate change on biodiversity?\n",
    "2. How does climate change affect the oceans?\n",
    "3. What are the effects of climate change on agriculture?\n",
    "4. What are the impacts of climate change on human health?\n",
    "\n",
    "Please note that, the sub-queries  is the same language with original query.\"\"\"\n",
    "\n",
    "\n",
    "subquery_decomposition_prompt = PromptTemplate(\n",
    "    input_variables=[\"original_query\"],\n",
    "    template=subquery_decomposition_template\n",
    ")\n",
    "\n",
    "# Create an LLMChain for sub-query decomposition\n",
    "subquery_decomposer_chain = subquery_decomposition_prompt | sub_query_llm\n",
    "\n",
    "def decompose_query(original_query: str):\n",
    "    \"\"\"\n",
    "    Decompose the original query into simpler sub-queries.\n",
    "    \n",
    "    Args:\n",
    "    original_query (str): The original complex query\n",
    "    \n",
    "    Returns:\n",
    "    List[str]: A list of simpler sub-queries\n",
    "    \"\"\"\n",
    "    response = subquery_decomposer_chain.invoke(original_query).content\n",
    "    sub_queries = [q.strip() for q in response.split('\\n') if q.strip() and not q.strip().startswith('Sub-queries:')]\n",
    "    return sub_queries"
   ]
  },
  {
   "cell_type": "code",
   "execution_count": 20,
   "metadata": {},
   "outputs": [
    {
     "name": "stdout",
     "output_type": "stream",
     "text": [
      "\n",
      "Sub-queries:\n",
      "Original query: Quy định đặt tên đường bộ là gì?\n",
      "1. What are the rules for naming roads in general?\n",
      "2. How do local regulations affect road naming practices?\n",
      "3. What considerations are made when naming a new road?\n"
     ]
    }
   ],
   "source": [
    "# example query over the understanding climate change dataset\n",
    "original_query = \"Quy định đặt tên đường bộ là gì?\"\n",
    "sub_queries = decompose_query(original_query)\n",
    "print(\"\\nSub-queries:\")\n",
    "for i, sub_query in enumerate(sub_queries, 1):\n",
    "    print(sub_query)"
   ]
  },
  {
   "cell_type": "code",
   "execution_count": null,
   "metadata": {},
   "outputs": [],
   "source": []
  }
 ],
 "metadata": {
  "kernelspec": {
   "display_name": "langchain",
   "language": "python",
   "name": "python3"
  },
  "language_info": {
   "codemirror_mode": {
    "name": "ipython",
    "version": 3
   },
   "file_extension": ".py",
   "mimetype": "text/x-python",
   "name": "python",
   "nbconvert_exporter": "python",
   "pygments_lexer": "ipython3",
   "version": "3.10.16"
  }
 },
 "nbformat": 4,
 "nbformat_minor": 2
}
