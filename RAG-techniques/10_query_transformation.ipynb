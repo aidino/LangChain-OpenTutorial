{
 "cells": [
  {
   "cell_type": "markdown",
   "metadata": {},
   "source": [
    "# Query Transformations for Improved Retrieval in RAG Systems\n",
    "\n",
    "## Tổng Quan\n",
    "\n",
    "Đoạn mã này triển khai ba kỹ thuật biến đổi truy vấn để tăng cường quá trình truy xuất trong hệ thống Retrieval-Augmented Generation (RAG):\n",
    "\n",
    "1.  Viết lại Truy vấn (Query Rewriting)\n",
    "2.  Gợi ý Bước Lùi (Step-back Prompting)\n",
    "3.  Phân tách Truy vấn con (Sub-query Decomposition)\n",
    "\n",
    "Mỗi kỹ thuật nhằm mục đích cải thiện tính liên quan và toàn diện của thông tin được truy xuất bằng cách sửa đổi hoặc mở rộng truy vấn gốc.\n",
    "\n",
    "## Động Lực\n",
    "\n",
    "Hệ thống RAG thường gặp phải thách thức trong việc truy xuất thông tin phù hợp nhất, đặc biệt khi xử lý các truy vấn phức tạp hoặc mơ hồ. Các kỹ thuật biến đổi truy vấn này giải quyết vấn đề này bằng cách tái cấu trúc truy vấn để phù hợp hơn với các tài liệu liên quan hoặc để truy xuất thông tin toàn diện hơn.\n",
    "\n",
    "## Các Thành Phần Chính\n",
    "\n",
    "1.  Viết lại Truy vấn (Query Rewriting): Tái cấu trúc truy vấn để cụ thể và chi tiết hơn.\n",
    "2.  Gợi ý Bước Lùi (Step-back Prompting): Tạo ra các truy vấn rộng hơn để truy xuất ngữ cảnh tốt hơn.\n",
    "3.  Phân tách Truy vấn con (Sub-query Decomposition): Chia các truy vấn phức tạp thành các truy vấn con đơn giản hơn.\n",
    "\n",
    "## Chi Tiết Phương Pháp\n",
    "\n",
    "### 1. Viết lại Truy vấn (Query Rewriting)\n",
    "\n",
    "-   **Mục đích**: Làm cho truy vấn cụ thể và chi tiết hơn, cải thiện khả năng truy xuất thông tin liên quan.\n",
    "-   **Triển khai**:\n",
    "    -   Sử dụng mô hình GPT-4 với mẫu gợi ý tùy chỉnh.\n",
    "    -   Lấy truy vấn gốc và tái cấu trúc nó để cụ thể và chi tiết hơn.\n",
    "\n",
    "### 2. Gợi ý Bước Lùi (Step-back Prompting)\n",
    "\n",
    "-   **Mục đích**: Tạo ra các truy vấn rộng hơn, tổng quát hơn có thể giúp truy xuất thông tin nền tảng liên quan.\n",
    "-   **Triển khai**:\n",
    "    -   Sử dụng mô hình GPT-4 với mẫu gợi ý tùy chỉnh.\n",
    "    -   Lấy truy vấn gốc và tạo ra một truy vấn \"bước lùi\" tổng quát hơn.\n",
    "\n",
    "### 3. Phân tách Truy vấn con (Sub-query Decomposition)\n",
    "\n",
    "-   **Mục đích**: Chia các truy vấn phức tạp thành các truy vấn con đơn giản hơn để truy xuất thông tin toàn diện hơn.\n",
    "-   **Triển khai**:\n",
    "    -   Sử dụng mô hình GPT-4 với mẫu gợi ý tùy chỉnh.\n",
    "    -   Phân tách truy vấn gốc thành 2-4 truy vấn con đơn giản hơn.\n",
    "\n",
    "## Lợi Ích của Các Phương Pháp Này\n",
    "\n",
    "1.  **Cải thiện Tính Liên Quan**: Viết lại truy vấn giúp truy xuất thông tin cụ thể và liên quan hơn.\n",
    "2.  **Ngữ Cảnh Tốt Hơn**: Gợi ý bước lùi cho phép truy xuất ngữ cảnh và thông tin nền tảng rộng hơn.\n",
    "3.  **Kết Quả Toàn Diện**: Phân tách truy vấn con cho phép truy xuất thông tin bao gồm các khía cạnh khác nhau của một truy vấn phức tạp.\n",
    "4.  **Tính Linh Hoạt**: Mỗi kỹ thuật có thể được sử dụng độc lập hoặc kết hợp, tùy thuộc vào trường hợp sử dụng cụ thể.\n",
    "\n",
    "## Chi Tiết Triển Khai\n",
    "\n",
    "-   Tất cả các kỹ thuật đều sử dụng mô hình GPT-4 của OpenAI để biến đổi truy vấn.\n",
    "-   Các mẫu gợi ý tùy chỉnh được sử dụng để hướng dẫn mô hình tạo ra các biến đổi phù hợp.\n",
    "-   Đoạn mã cung cấp các hàm riêng biệt cho từng kỹ thuật biến đổi, cho phép tích hợp dễ dàng vào các hệ thống RAG hiện có.\n",
    "\n",
    "## Ví Dụ Trường Hợp Sử Dụng\n",
    "\n",
    "Đoạn mã minh họa từng kỹ thuật bằng truy vấn ví dụ:\n",
    "\"Tác động của biến đổi khí hậu đối với môi trường là gì?\"\n",
    "\n",
    "-   **Viết lại Truy vấn (Query Rewriting)** mở rộng điều này để bao gồm các khía cạnh cụ thể như thay đổi nhiệt độ và đa dạng sinh học.\n",
    "-   **Gợi ý Bước Lùi (Step-back Prompting)** khái quát hóa nó thành \"Ảnh hưởng chung của biến đổi khí hậu là gì?\"\n",
    "-   **Phân tách Truy vấn con (Sub-query Decomposition)** chia nó thành các câu hỏi về đa dạng sinh học, đại dương, kiểu thời tiết và môi trường trên cạn.\n",
    "\n",
    "## Kết Luận\n",
    "\n",
    "Các kỹ thuật biến đổi truy vấn này cung cấp các phương pháp mạnh mẽ để tăng cường khả năng truy xuất của hệ thống RAG. Bằng cách tái cấu trúc truy vấn theo nhiều cách khác nhau, chúng có thể cải thiện đáng kể tính liên quan, ngữ cảnh và tính toàn diện của thông tin được truy xuất. Các phương pháp này đặc biệt có giá trị trong các lĩnh vực mà truy vấn có thể phức tạp hoặc đa diện, chẳng hạn như nghiên cứu khoa học, phân tích pháp lý hoặc các nhiệm vụ tìm kiếm sự thật toàn diện.\n"
   ]
  },
  {
   "cell_type": "code",
   "execution_count": 3,
   "metadata": {},
   "outputs": [],
   "source": [
    "# Basic setup\n",
    "import os\n",
    "from langchain_ollama import ChatOllama\n",
    "from langchain_ollama.embeddings import OllamaEmbeddings\n",
    "from langchain_chroma import Chroma\n",
    "\n",
    "llm_model_name='qwen2.5:7b'\n",
    "llm = ChatOllama(model=llm_model_name, temperature=0)\n",
    "\n",
    "embedding_model='bge-m3:latest'\n",
    "embeddings = OllamaEmbeddings(model=embedding_model)"
   ]
  },
  {
   "cell_type": "code",
   "execution_count": 5,
   "metadata": {},
   "outputs": [],
   "source": [
    "# Load vectorstore saved in rag_v2.ipynb\n",
    "vectorstore = Chroma(\n",
    "    collection_name='GTDB_35_v2',\n",
    "    embedding_function=embeddings\n",
    ")\n",
    "retriever = vectorstore.as_retriever(\n",
    "  search_type=\"similarity\",\n",
    "  search_kwargs={'k': 2}, # number of documents to retrieve\n",
    ")"
   ]
  },
  {
   "cell_type": "code",
   "execution_count": 6,
   "metadata": {},
   "outputs": [
    {
     "data": {
      "text/plain": [
       "[]"
      ]
     },
     "execution_count": 6,
     "metadata": {},
     "output_type": "execute_result"
    }
   ],
   "source": [
    "# test vector store\n",
    "question = \"Quy định đặt tên đường bộ là gì?\"\n",
    "retriever_docs = retriever.invoke(question)\n",
    "retriever_docs"
   ]
  },
  {
   "cell_type": "code",
   "execution_count": null,
   "metadata": {},
   "outputs": [],
   "source": []
  }
 ],
 "metadata": {
  "kernelspec": {
   "display_name": "langchain",
   "language": "python",
   "name": "python3"
  },
  "language_info": {
   "codemirror_mode": {
    "name": "ipython",
    "version": 3
   },
   "file_extension": ".py",
   "mimetype": "text/x-python",
   "name": "python",
   "nbconvert_exporter": "python",
   "pygments_lexer": "ipython3",
   "version": "3.10.16"
  }
 },
 "nbformat": 4,
 "nbformat_minor": 2
}
