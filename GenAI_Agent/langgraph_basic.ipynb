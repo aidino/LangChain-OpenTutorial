{
 "cells": [
  {
   "cell_type": "markdown",
   "metadata": {},
   "source": [
    "# 🚀 LangGraph Quickstart¶\n",
    "\n",
    "Trong hướng dẫn này, chúng ta sẽ xây dựng một chatbot hỗ trợ trong LangGraph có thể:\n",
    "\n",
    "- ✅ Trả lời các câu hỏi thường gặp bằng cách tìm kiếm trên web\n",
    "- ✅ Duy trì trạng thái hội thoại giữa các lần gọi\n",
    "- ✅ Định tuyến các truy vấn phức tạp đến con người để xem xét\n",
    "- ✅ Sử dụng trạng thái tùy chỉnh để kiểm soát hành vi của nó\n",
    "- ✅ Tua lại và khám phá các đường dẫn hội thoại thay thế\n",
    "\n",
    "Chúng ta sẽ bắt đầu với một chatbot cơ bản và dần dần thêm các khả năng phức tạp hơn, giới thiệu các khái niệm chính của LangGraph trên đường đi. Hãy cùng bắt đầu! 🌟\n"
   ]
  },
  {
   "cell_type": "markdown",
   "metadata": {},
   "source": [
    "## Setup"
   ]
  },
  {
   "cell_type": "code",
   "execution_count": 1,
   "metadata": {},
   "outputs": [],
   "source": [
    "import os\n",
    "import langgraph\n",
    "from langchain_ollama import ChatOllama"
   ]
  },
  {
   "cell_type": "markdown",
   "metadata": {},
   "source": [
    "### Part 1: Build a Basic Chatbot\n",
    "\n",
    "Chúng ta sẽ bắt đầu bằng cách tạo một chatbot đơn giản sử dụng LangGraph. Chatbot này sẽ phản hồi trực tiếp các tin nhắn của người dùng. Mặc dù đơn giản, nó sẽ minh họa các khái niệm cốt lõi của việc xây dựng với LangGraph. Đến cuối phần này, bạn sẽ có một chatbot thô sơ.\n",
    "\n",
    "Bắt đầu bằng cách tạo một `StateGraph`. Đối tượng `StateGraph` định nghĩa cấu trúc của chatbot của chúng ta như một \"máy trạng thái\" (state machine). Chúng ta sẽ thêm `nodes` để đại diện cho `llm` và các functions mà chatbot có thể gọi, và `edges` để chỉ định cách bot nên chuyển đổi giữa các functions này.\n"
   ]
  },
  {
   "cell_type": "code",
   "execution_count": 2,
   "metadata": {},
   "outputs": [],
   "source": [
    "from typing import Annotated # được sử dụng để thêm metadata vào chú thích.\n",
    "from typing_extensions import TypedDict # được sử dụng để tạo các dictionary types với các khóa và giá trị được chú thích.\n",
    "\n",
    "from langgraph.graph import StateGraph, START, END\n",
    "from langgraph.graph.message import add_messages\n",
    "\n",
    "# Định nghĩa một lớp State kế thừa từ TypedDict. \n",
    "# Điều này có nghĩa là State là một kiểu từ điển với các khóa và giá trị được chú thích kiểu.\n",
    "class State(TypedDict):\n",
    "  # messages: Đây là một khóa trong từ điển State.\n",
    "  # Annotated[list, add_messages]: Điều này có nghĩa là giá trị của khóa messages là một danh sách (list).\n",
    "  # add_messages: Đây là metadata được thêm vào chú thích kiểu. \n",
    "  # Nó cho biết rằng danh sách messages sẽ được sử dụng để lưu trữ các thông điệp và hàm add_messages sẽ được sử dụng để thêm các thông điệp vào danh sách.\n",
    "  messages: Annotated[list, add_messages]\n",
    "  \n",
    "graph_builder = StateGraph(State)\n"
   ]
  },
  {
   "cell_type": "markdown",
   "metadata": {},
   "source": [
    "Đồ thị của chúng ta giờ đây có thể xử lý hai nhiệm vụ chính:\n",
    "\n",
    "* Mỗi **node** có thể nhận **State** hiện tại làm đầu vào và xuất ra bản cập nhật cho state đó.\n",
    "* Các bản cập nhật cho **message** sẽ được thêm vào danh sách hiện có thay vì ghi đè, nhờ hàm **add\\_messages** dựng sẵn được sử dụng với cú pháp **Annotated**."
   ]
  },
  {
   "cell_type": "markdown",
   "metadata": {},
   "source": [
    "> Khi định nghĩa một đồ thị, bước đầu tiên là định nghĩa **State** của nó. **State** bao gồm schema của đồ thị và các **reducer function** xử lý cập nhật state. Trong ví dụ của chúng ta, **State** là một **TypedDict** với một key: **messages**. **reducer function** **add\\_messages** được sử dụng để thêm các message mới vào danh sách thay vì ghi đè. Các key không có chú thích reducer sẽ ghi đè các giá trị trước đó.\n"
   ]
  },
  {
   "cell_type": "markdown",
   "metadata": {},
   "source": [
    "Next, add a \"chatbot\" node. Nodes represent units of work. They are typically regular python functions."
   ]
  },
  {
   "cell_type": "code",
   "execution_count": 3,
   "metadata": {},
   "outputs": [],
   "source": [
    "llm_model_name='qwen2.5:7b'\n",
    "llm = ChatOllama(model=llm_model_name, temperature=0)\n",
    "\n",
    "def chatbot(state: State):\n",
    "  return {\"messages\": [llm.invoke(state['messages'])]}\n",
    "\n",
    "graph_builder.add_node(\"chatbot\", chatbot)"
   ]
  },
  {
   "cell_type": "markdown",
   "metadata": {},
   "source": [
    "Notice how the chatbot node function takes the current State as input and returns a dictionary containing an updated messages list under the key `\"messages\"`. This is the basic pattern for all `LangGraph` node functions.\n",
    "\n",
    "The `add_messages` function in our `State` will append the llm's response messages to whatever messages are already in the state."
   ]
  },
  {
   "cell_type": "markdown",
   "metadata": {},
   "source": [
    "Next, add an entry point. This tells our graph where to start its work each time we run it."
   ]
  },
  {
   "cell_type": "code",
   "execution_count": 4,
   "metadata": {},
   "outputs": [],
   "source": [
    "graph_builder.add_edge(START, \"chatbot\")"
   ]
  },
  {
   "cell_type": "code",
   "execution_count": 5,
   "metadata": {},
   "outputs": [],
   "source": [
    "graph_builder.add_edge('chatbot', END)"
   ]
  },
  {
   "cell_type": "markdown",
   "metadata": {},
   "source": [
    "Finally, we'll want to be able to run our graph. To do so, call `\"compile()\"` on the graph builder. This creates a `\"CompiledGraph\"` we can use invoke on our state."
   ]
  },
  {
   "cell_type": "code",
   "execution_count": 6,
   "metadata": {},
   "outputs": [],
   "source": [
    "graph = graph_builder.compile()"
   ]
  },
  {
   "cell_type": "markdown",
   "metadata": {},
   "source": [
    "You can visualize the graph using the `get_graph` method and one of the \"`draw`\" methods, like `draw_ascii` or `draw_png`. The draw methods each require additional dependencies."
   ]
  },
  {
   "cell_type": "code",
   "execution_count": 7,
   "metadata": {},
   "outputs": [
    {
     "data": {
      "image/png": "[encoded data removed]",
      "text/plain": [
       "<IPython.core.display.Image object>"
      ]
     },
     "metadata": {},
     "output_type": "display_data"
    }
   ],
   "source": [
    "from IPython.display import Image, display\n",
    "\n",
    "try:\n",
    "  display(Image(graph.get_graph().draw_mermaid_png()))\n",
    "except:\n",
    "  pass"
   ]
  },
  {
   "cell_type": "markdown",
   "metadata": {},
   "source": [
    "Now let's run the chatbot!\n",
    "\n",
    "Tip: You can exit the chat loop at any time by typing \"`quit`\", \"`exit`\", or \"`q`\"."
   ]
  },
  {
   "cell_type": "code",
   "execution_count": 14,
   "metadata": {},
   "outputs": [],
   "source": [
    "def stream_graph_updates(user_input: str):\n",
    "  for event in graph.stream({\"messages\": [{\"role\": \"user\", \"content\": user_input}]}):\n",
    "    # print(f\"event values: {event.values()}\")\n",
    "    for value in event.values():\n",
    "        print(\"Assistant:\", value[\"messages\"][-1].content)\n",
    "\n",
    "\n",
    "# while True:\n",
    "#     try:\n",
    "#         user_input = input(\"User: \")\n",
    "#         if user_input.lower() in [\"quit\", \"exit\", \"q\"]:\n",
    "#             print(\"Goodbye!\")\n",
    "#             break\n",
    "\n",
    "#         stream_graph_updates(user_input)\n",
    "#     except:\n",
    "#         # fallback if input() is not available\n",
    "#         user_input = \"What do you know about LangGraph?\"\n",
    "#         print(\"User: \" + user_input)\n",
    "#         stream_graph_updates(user_input)\n",
    "#         break"
   ]
  },
  {
   "cell_type": "code",
   "execution_count": 15,
   "metadata": {},
   "outputs": [
    {
     "name": "stdout",
     "output_type": "stream",
     "text": [
      "Assistant: Hello! How can I assist you today?\n"
     ]
    }
   ],
   "source": [
    "stream_graph_updates(\"Hello world\")"
   ]
  },
  {
   "cell_type": "markdown",
   "metadata": {},
   "source": [
    "### Full code"
   ]
  },
  {
   "cell_type": "code",
   "execution_count": 16,
   "metadata": {},
   "outputs": [],
   "source": [
    "from typing import Annotated\n",
    "\n",
    "from langchain_ollama import ChatOllama\n",
    "from typing_extensions import TypedDict\n",
    "\n",
    "from langgraph.graph import StateGraph\n",
    "from langgraph.graph.message import add_messages\n",
    "\n",
    "\n",
    "class State(TypedDict):\n",
    "    messages: Annotated[list, add_messages]\n",
    "\n",
    "\n",
    "graph_builder = StateGraph(State)\n",
    "\n",
    "\n",
    "llm_model_name='qwen2.5:7b'\n",
    "llm = ChatOllama(model=llm_model_name, temperature=0)\n",
    "\n",
    "\n",
    "def chatbot(state: State):\n",
    "    return {\"messages\": [llm.invoke(state[\"messages\"])]}\n",
    "\n",
    "\n",
    "# The first argument is the unique node name\n",
    "# The second argument is the function or object that will be called whenever\n",
    "# the node is used.\n",
    "graph_builder.add_node(\"chatbot\", chatbot)\n",
    "graph_builder.set_entry_point(\"chatbot\")\n",
    "graph_builder.set_finish_point(\"chatbot\")\n",
    "graph = graph_builder.compile()"
   ]
  },
  {
   "cell_type": "markdown",
   "metadata": {},
   "source": [
    "### Part 2: 🛠️ Enhancing the Chatbot with Tools\n",
    "\n",
    "To handle queries our chatbot can't answer \"from memory\", we'll integrate a web search tool. Our bot can use this tool to find relevant information and provide better responses.\n",
    "\n",
    "Requirements\n",
    "Before we start, make sure you have the necessary packages installed and API keys set up:\n",
    "\n",
    "First, install the requirements to use the Tavily Search Engine, and set your `TAVILY_API_KEY`.\n",
    "\n",
    "```bash\n",
    "pip install -U tavily-python langchain_community\n",
    "```"
   ]
  },
  {
   "cell_type": "code",
   "execution_count": null,
   "metadata": {},
   "outputs": [],
   "source": [
    "from langchain_community.tools.tavily_search import TavilySearchResults\n",
    "\n",
    "tool = TavilySearchResults(max_results=2)\n",
    "tools = [tool]\n"
   ]
  }
 ],
 "metadata": {
  "kernelspec": {
   "display_name": "agent",
   "language": "python",
   "name": "python3"
  },
  "language_info": {
   "codemirror_mode": {
    "name": "ipython",
    "version": 3
   },
   "file_extension": ".py",
   "mimetype": "text/x-python",
   "name": "python",
   "nbconvert_exporter": "python",
   "pygments_lexer": "ipython3",
   "version": "3.10.16"
  }
 },
 "nbformat": 4,
 "nbformat_minor": 2
}
