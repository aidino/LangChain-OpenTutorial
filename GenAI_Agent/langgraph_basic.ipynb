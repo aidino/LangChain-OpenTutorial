{
 "cells": [
  {
   "cell_type": "markdown",
   "metadata": {},
   "source": [
    "# 🚀 LangGraph Quickstart¶\n",
    "\n",
    "Trong hướng dẫn này, chúng ta sẽ xây dựng một chatbot hỗ trợ trong LangGraph có thể:\n",
    "\n",
    "- ✅ Trả lời các câu hỏi thường gặp bằng cách tìm kiếm trên web\n",
    "- ✅ Duy trì trạng thái hội thoại giữa các lần gọi\n",
    "- ✅ Định tuyến các truy vấn phức tạp đến con người để xem xét\n",
    "- ✅ Sử dụng trạng thái tùy chỉnh để kiểm soát hành vi của nó\n",
    "- ✅ Tua lại và khám phá các đường dẫn hội thoại thay thế\n",
    "\n",
    "Chúng ta sẽ bắt đầu với một chatbot cơ bản và dần dần thêm các khả năng phức tạp hơn, giới thiệu các khái niệm chính của LangGraph trên đường đi. Hãy cùng bắt đầu! 🌟\n"
   ]
  },
  {
   "cell_type": "markdown",
   "metadata": {},
   "source": [
    "## Setup"
   ]
  },
  {
   "cell_type": "code",
   "execution_count": 1,
   "metadata": {},
   "outputs": [],
   "source": [
    "import os\n",
    "import langgraph\n",
    "from langchain_ollama import ChatOllama"
   ]
  },
  {
   "cell_type": "markdown",
   "metadata": {},
   "source": [
    "### Part 1: Build a Basic Chatbot\n",
    "\n",
    "Chúng ta sẽ bắt đầu bằng cách tạo một chatbot đơn giản sử dụng LangGraph. Chatbot này sẽ phản hồi trực tiếp các tin nhắn của người dùng. Mặc dù đơn giản, nó sẽ minh họa các khái niệm cốt lõi của việc xây dựng với LangGraph. Đến cuối phần này, bạn sẽ có một chatbot thô sơ.\n",
    "\n",
    "Bắt đầu bằng cách tạo một `StateGraph`. Đối tượng `StateGraph` định nghĩa cấu trúc của chatbot của chúng ta như một \"máy trạng thái\" (state machine). Chúng ta sẽ thêm `nodes` để đại diện cho `llm` và các functions mà chatbot có thể gọi, và `edges` để chỉ định cách bot nên chuyển đổi giữa các functions này.\n"
   ]
  },
  {
   "cell_type": "code",
   "execution_count": 2,
   "metadata": {},
   "outputs": [],
   "source": [
    "from typing import Annotated # được sử dụng để thêm metadata vào chú thích.\n",
    "from typing_extensions import TypedDict # được sử dụng để tạo các dictionary types với các khóa và giá trị được chú thích.\n",
    "\n",
    "from langgraph.graph import StateGraph, START, END\n",
    "from langgraph.graph.message import add_messages\n",
    "\n",
    "# Định nghĩa một lớp State kế thừa từ TypedDict. \n",
    "# Điều này có nghĩa là State là một kiểu từ điển với các khóa và giá trị được chú thích kiểu.\n",
    "class State(TypedDict):\n",
    "  # messages: Đây là một khóa trong từ điển State.\n",
    "  # Annotated[list, add_messages]: Điều này có nghĩa là giá trị của khóa messages là một danh sách (list).\n",
    "  # add_messages: Đây là metadata được thêm vào chú thích kiểu. \n",
    "  # Nó cho biết rằng danh sách messages sẽ được sử dụng để lưu trữ các thông điệp và hàm add_messages sẽ được sử dụng để thêm các thông điệp vào danh sách.\n",
    "  messages: Annotated[list, add_messages]\n",
    "  \n",
    "graph_builder = StateGraph(State)\n"
   ]
  },
  {
   "cell_type": "markdown",
   "metadata": {},
   "source": [
    "Đồ thị của chúng ta giờ đây có thể xử lý hai nhiệm vụ chính:\n",
    "\n",
    "* Mỗi **node** có thể nhận **State** hiện tại làm đầu vào và xuất ra bản cập nhật cho state đó.\n",
    "* Các bản cập nhật cho **message** sẽ được thêm vào danh sách hiện có thay vì ghi đè, nhờ hàm **add\\_messages** dựng sẵn được sử dụng với cú pháp **Annotated**."
   ]
  },
  {
   "cell_type": "markdown",
   "metadata": {},
   "source": [
    "> Khi định nghĩa một đồ thị, bước đầu tiên là định nghĩa **State** của nó. **State** bao gồm schema của đồ thị và các **reducer function** xử lý cập nhật state. Trong ví dụ của chúng ta, **State** là một **TypedDict** với một key: **messages**. **reducer function** **add\\_messages** được sử dụng để thêm các message mới vào danh sách thay vì ghi đè. Các key không có chú thích reducer sẽ ghi đè các giá trị trước đó.\n"
   ]
  },
  {
   "cell_type": "markdown",
   "metadata": {},
   "source": [
    "Next, add a \"chatbot\" node. Nodes represent units of work. They are typically regular python functions."
   ]
  },
  {
   "cell_type": "code",
   "execution_count": 3,
   "metadata": {},
   "outputs": [
    {
     "data": {
      "text/plain": [
       "<langgraph.graph.state.StateGraph at 0x10b433610>"
      ]
     },
     "execution_count": 3,
     "metadata": {},
     "output_type": "execute_result"
    }
   ],
   "source": [
    "llm_model_name='qwen2.5:7b'\n",
    "llm = ChatOllama(model=llm_model_name, temperature=0)\n",
    "\n",
    "def chatbot(state: State):\n",
    "  return {\"messages\": [llm.invoke(state['messages'])]}\n",
    "\n",
    "graph_builder.add_node(\"chatbot\", chatbot)"
   ]
  },
  {
   "cell_type": "markdown",
   "metadata": {},
   "source": [
    "Notice how the chatbot node function takes the current State as input and returns a dictionary containing an updated messages list under the key `\"messages\"`. This is the basic pattern for all `LangGraph` node functions.\n",
    "\n",
    "The `add_messages` function in our `State` will append the llm's response messages to whatever messages are already in the state."
   ]
  },
  {
   "cell_type": "markdown",
   "metadata": {},
   "source": [
    "Next, add an entry point. This tells our graph where to start its work each time we run it."
   ]
  },
  {
   "cell_type": "code",
   "execution_count": 4,
   "metadata": {},
   "outputs": [
    {
     "data": {
      "text/plain": [
       "<langgraph.graph.state.StateGraph at 0x10b433610>"
      ]
     },
     "execution_count": 4,
     "metadata": {},
     "output_type": "execute_result"
    }
   ],
   "source": [
    "graph_builder.add_edge(START, \"chatbot\")"
   ]
  },
  {
   "cell_type": "code",
   "execution_count": 5,
   "metadata": {},
   "outputs": [
    {
     "data": {
      "text/plain": [
       "<langgraph.graph.state.StateGraph at 0x10b433610>"
      ]
     },
     "execution_count": 5,
     "metadata": {},
     "output_type": "execute_result"
    }
   ],
   "source": [
    "graph_builder.add_edge('chatbot', END)"
   ]
  },
  {
   "cell_type": "markdown",
   "metadata": {},
   "source": [
    "Finally, we'll want to be able to run our graph. To do so, call `\"compile()\"` on the graph builder. This creates a `\"CompiledGraph\"` we can use invoke on our state."
   ]
  },
  {
   "cell_type": "code",
   "execution_count": 6,
   "metadata": {},
   "outputs": [],
   "source": [
    "graph = graph_builder.compile()"
   ]
  },
  {
   "cell_type": "markdown",
   "metadata": {},
   "source": [
    "You can visualize the graph using the `get_graph` method and one of the \"`draw`\" methods, like `draw_ascii` or `draw_png`. The draw methods each require additional dependencies."
   ]
  },
  {
   "cell_type": "code",
   "execution_count": 7,
   "metadata": {},
   "outputs": [
    {
     "data": {
      "image/png": "[encoded data removed]",
      "text/plain": [
       "<IPython.core.display.Image object>"
      ]
     },
     "metadata": {},
     "output_type": "display_data"
    }
   ],
   "source": [
    "from IPython.display import Image, display\n",
    "\n",
    "try:\n",
    "  display(Image(graph.get_graph().draw_mermaid_png()))\n",
    "except:\n",
    "  pass"
   ]
  },
  {
   "cell_type": "markdown",
   "metadata": {},
   "source": [
    "Now let's run the chatbot!\n",
    "\n",
    "Tip: You can exit the chat loop at any time by typing \"`quit`\", \"`exit`\", or \"`q`\"."
   ]
  },
  {
   "cell_type": "code",
   "execution_count": 8,
   "metadata": {},
   "outputs": [],
   "source": [
    "def stream_graph_updates(user_input: str):\n",
    "  for event in graph.stream({\"messages\": [{\"role\": \"user\", \"content\": user_input}]}):\n",
    "    # print(f\"event values: {event.values()}\")\n",
    "    for value in event.values():\n",
    "        print(\"Assistant:\", value[\"messages\"][-1].content)\n",
    "\n",
    "\n",
    "# while True:\n",
    "#     try:\n",
    "#         user_input = input(\"User: \")\n",
    "#         if user_input.lower() in [\"quit\", \"exit\", \"q\"]:\n",
    "#             print(\"Goodbye!\")\n",
    "#             break\n",
    "\n",
    "#         stream_graph_updates(user_input)\n",
    "#     except:\n",
    "#         # fallback if input() is not available\n",
    "#         user_input = \"What do you know about LangGraph?\"\n",
    "#         print(\"User: \" + user_input)\n",
    "#         stream_graph_updates(user_input)\n",
    "#         break"
   ]
  },
  {
   "cell_type": "code",
   "execution_count": 9,
   "metadata": {},
   "outputs": [
    {
     "name": "stdout",
     "output_type": "stream",
     "text": [
      "Assistant: Hello! How can I assist you today?\n"
     ]
    }
   ],
   "source": [
    "stream_graph_updates(\"Hello world\")"
   ]
  },
  {
   "cell_type": "markdown",
   "metadata": {},
   "source": [
    "### Full code"
   ]
  },
  {
   "cell_type": "code",
   "execution_count": 10,
   "metadata": {},
   "outputs": [],
   "source": [
    "from typing import Annotated\n",
    "\n",
    "from langchain_ollama import ChatOllama\n",
    "from typing_extensions import TypedDict\n",
    "\n",
    "from langgraph.graph import StateGraph\n",
    "from langgraph.graph.message import add_messages\n",
    "\n",
    "\n",
    "class State(TypedDict):\n",
    "    messages: Annotated[list, add_messages]\n",
    "\n",
    "\n",
    "graph_builder = StateGraph(State)\n",
    "\n",
    "\n",
    "llm_model_name='qwen2.5:7b'\n",
    "llm = ChatOllama(model=llm_model_name, temperature=0)\n",
    "\n",
    "\n",
    "def chatbot(state: State):\n",
    "    return {\"messages\": [llm.invoke(state[\"messages\"])]}\n",
    "\n",
    "\n",
    "# The first argument is the unique node name\n",
    "# The second argument is the function or object that will be called whenever\n",
    "# the node is used.\n",
    "graph_builder.add_node(\"chatbot\", chatbot)\n",
    "graph_builder.set_entry_point(\"chatbot\")\n",
    "graph_builder.set_finish_point(\"chatbot\")\n",
    "graph = graph_builder.compile()"
   ]
  },
  {
   "cell_type": "markdown",
   "metadata": {},
   "source": [
    "### Part 2: 🛠️ Enhancing the Chatbot with Tools\n",
    "\n",
    "To handle queries our chatbot can't answer \"from memory\", we'll integrate a web search tool. Our bot can use this tool to find relevant information and provide better responses.\n",
    "\n",
    "Requirements\n",
    "Before we start, make sure you have the necessary packages installed and API keys set up:\n",
    "\n",
    "First, install the requirements to use the Tavily Search Engine, and set your `TAVILY_API_KEY`.\n",
    "\n",
    "```bash\n",
    "pip install -U tavily-python langchain_community\n",
    "```"
   ]
  },
  {
   "cell_type": "code",
   "execution_count": 11,
   "metadata": {},
   "outputs": [],
   "source": [
    "from langchain_community.tools.tavily_search import TavilySearchResults\n",
    "from dotenv import load_dotenv\n",
    "load_dotenv(dotenv_path='.env')\n",
    "\n",
    "tool = TavilySearchResults(max_results=2)\n",
    "tools = [tool]\n"
   ]
  },
  {
   "cell_type": "code",
   "execution_count": 12,
   "metadata": {},
   "outputs": [
    {
     "data": {
      "text/plain": [
       "[{'title': 'LangGraph Glossary - GitHub Pages',\n",
       "  'url': 'https://langchain-ai.github.io/langgraph/concepts/low_level/',\n",
       "  'content': 'In LangGraph, nodes are typically python functions (sync or async) where the first positional argument is the state, and (optionally), the second positional argument is a \"config\", containing optional configurable parameters (such as a thread_id).\\nSimilar to NetworkX, you add these nodes to a graph using the add_node method:\\n[](https://langchain-ai.github.io/langgraph/concepts/low_level/#__codelineno-7-1)from langchain_core.runnables import RunnableConfig [...] By composing Nodes and Edges, you can create complex, looping workflows that evolve the State over time. The real power, though, comes from how LangGraph manages that State. To emphasize: Nodes and Edges are nothing more than Python functions - they can contain an LLM or just good ol\\' Python code.\\nIn short: nodes do the work. edges tell what to do next.',\n",
       "  'score': 0.8535788385819522},\n",
       " {'title': 'A Comprehensive Guide About Langgraph: Code Included - Ionio',\n",
       "  'url': 'https://www.ionio.ai/blog/a-comprehensive-guide-about-langgraph-code-included',\n",
       "  'content': 'Now let’s take a look at each component of langgraph in detail 🚀\\nNodes\\nA node can be any function or tool your agent uses in langgraph and these nodes are connected with other nodes using edges. Every workflow ends with a “END” node in langgraph which shows the end of workflow. You also need to define a starting node which will be the starting point of your workflow. Optionally, you can also define an ending node if you know the ending point of your workflow. [...] Workflow Automation: \\xa0LangGraph can automate complex workflows that involve multiple steps and decision points. By defining the steps as nodes in the graph and the decision logic as edges, LangGraph can handle complex tasks easily. Langgraph can also make complex RAG systems easy to visualize and implement.',\n",
       "  'score': 0.8506746043278085}]"
      ]
     },
     "execution_count": 12,
     "metadata": {},
     "output_type": "execute_result"
    }
   ],
   "source": [
    "tool.invoke(\"what is a node in langgraph\")"
   ]
  },
  {
   "cell_type": "code",
   "execution_count": 13,
   "metadata": {},
   "outputs": [],
   "source": [
    "from langchain_community.tools import DuckDuckGoSearchResults\n",
    "\n",
    "ddTool = DuckDuckGoSearchResults(max_results=2)\n",
    "ddTool.invoke(\"what is a node in langgraph\")\n",
    "\n",
    "ddtools = [ddTool]"
   ]
  },
  {
   "cell_type": "code",
   "execution_count": 14,
   "metadata": {},
   "outputs": [
    {
     "data": {
      "text/plain": [
       "<langgraph.graph.state.StateGraph at 0x10b129d80>"
      ]
     },
     "execution_count": 14,
     "metadata": {},
     "output_type": "execute_result"
    }
   ],
   "source": [
    "from typing import Annotated\n",
    "from langchain_ollama import ChatOllama\n",
    "from typing_extensions import TypedDict\n",
    "from langgraph.graph import StateGraph, START, END\n",
    "from langgraph.graph.message import add_messages\n",
    "\n",
    "class State(TypedDict):\n",
    "    messages: Annotated[list, add_messages]\n",
    "\n",
    "graph_builder = StateGraph(State)\n",
    "\n",
    "llm = ChatOllama(model='qwen2.5:7b', temperature=0)\n",
    "llm_with_tools = llm.bind_tools(tools)\n",
    "\n",
    "def chatbot(state: State):\n",
    "    return {\"messages\": [llm_with_tools.invoke(state[\"messages\"])]}\n",
    "\n",
    "graph_builder.add_node(\"chatbot\", chatbot)\n"
   ]
  },
  {
   "cell_type": "markdown",
   "metadata": {},
   "source": [
    "Tiếp theo, chúng ta cần tạo một hàm để thực sự chạy các công cụ nếu chúng được gọi. Chúng ta sẽ làm điều này bằng cách thêm các công cụ vào một node mới.\n",
    "\n",
    "Dưới đây, chúng ta triển khai một `BasicToolNode` để kiểm tra tin nhắn gần đây nhất trong trạng thái và gọi các công cụ nếu tin nhắn chứa `tool_calls`. Nó dựa vào hỗ trợ `tool_calling` của LLM, có sẵn trong Anthropic, OpenAI, Google Gemini và một số nhà cung cấp LLM khác.\n",
    "\n",
    "Sau này, chúng ta sẽ thay thế nó bằng `ToolNode` được xây dựng sẵn của LangGraph để tăng tốc độ, nhưng việc tự xây dựng nó trước tiên sẽ rất hữu ích.\n"
   ]
  },
  {
   "cell_type": "code",
   "execution_count": 15,
   "metadata": {},
   "outputs": [
    {
     "data": {
      "text/plain": [
       "<langgraph.graph.state.StateGraph at 0x10b129d80>"
      ]
     },
     "execution_count": 15,
     "metadata": {},
     "output_type": "execute_result"
    }
   ],
   "source": [
    "import json\n",
    "\n",
    "from langchain_core.messages import ToolMessage\n",
    "\n",
    "\n",
    "class BasicToolNode:\n",
    "    \"\"\"A node that runs the tools requested in the last AIMessage.\"\"\"\n",
    "\n",
    "    def __init__(self, tools: list) -> None:\n",
    "        self.tools_by_name = {tool.name: tool for tool in tools}\n",
    "\n",
    "    def __call__(self, inputs: dict):\n",
    "        if messages := inputs.get(\"messages\", []):\n",
    "            message = messages[-1]\n",
    "        else:\n",
    "            raise ValueError(\"No message found in input\")\n",
    "        outputs = []\n",
    "        for tool_call in message.tool_calls:\n",
    "            tool_result = self.tools_by_name[tool_call[\"name\"]].invoke(\n",
    "                tool_call[\"args\"]\n",
    "            )\n",
    "            outputs.append(\n",
    "                ToolMessage(\n",
    "                    content=json.dumps(tool_result),\n",
    "                    name=tool_call[\"name\"],\n",
    "                    tool_call_id=tool_call[\"id\"],\n",
    "                )\n",
    "            )\n",
    "        return {\"messages\": outputs}\n",
    "\n",
    "\n",
    "tool_node = BasicToolNode(tools=[tool])\n",
    "graph_builder.add_node(\"tools\", tool_node)\n"
   ]
  },
  {
   "cell_type": "markdown",
   "metadata": {},
   "source": [
    "Với node `tool` đã được thêm vào, chúng ta có thể định nghĩa `conditional_edges`.\n",
    "\n",
    "Nhớ rằng `edges` định tuyến luồng điều khiển từ một node này sang node tiếp theo. `Conditional edges` thường chứa các câu lệnh \"if\" để định tuyến đến các node khác nhau tùy thuộc vào trạng thái đồ thị hiện tại. Các hàm này nhận `state` đồ thị hiện tại và trả về một chuỗi hoặc danh sách các chuỗi chỉ ra node nào sẽ được gọi tiếp theo.\n",
    "\n",
    "Dưới đây, hãy định nghĩa một hàm router gọi là `route_tools`, kiểm tra `tool_calls` trong đầu ra của chatbot. Cung cấp hàm này cho đồ thị bằng cách gọi `add_conditional_edges`, cho đồ thị biết rằng bất cứ khi nào node `chatbot` hoàn thành, hãy kiểm tra hàm này để xem nên đi đâu tiếp theo.\n",
    "\n",
    "Điều kiện sẽ định tuyến đến `tools` nếu có `tool calls` và `END` nếu không.\n",
    "\n",
    "Sau này, chúng ta sẽ thay thế điều này bằng `tools_condition` được xây dựng sẵn để ngắn gọn hơn, nhưng việc tự triển khai trước tiên sẽ làm mọi thứ rõ ràng hơn.\n"
   ]
  },
  {
   "cell_type": "code",
   "execution_count": 16,
   "metadata": {},
   "outputs": [],
   "source": [
    "def route_tools(state: State,):\n",
    "    \"\"\"\n",
    "    Use in the conditional_edge to route to the ToolNode if the last message\n",
    "    has tool calls. Otherwise, route to the end.\n",
    "    \"\"\"\n",
    "    if isinstance(state, list):\n",
    "        ai_message = state[-1]\n",
    "    elif messages := state.get(\"messages\", []):\n",
    "        ai_message = messages[-1]\n",
    "    else:\n",
    "        raise ValueError(f\"No messages found in input state to tool_edge: {state}\")\n",
    "    if hasattr(ai_message, \"tool_calls\") and len(ai_message.tool_calls) > 0:\n",
    "        return \"tools\"\n",
    "    return END\n",
    "\n",
    "\n",
    "# The `tools_condition` function returns \"tools\" if the chatbot asks to use a tool, and \"END\" if\n",
    "# it is fine directly responding. This conditional routing defines the main agent loop.\n",
    "graph_builder.add_conditional_edges(\n",
    "    \"chatbot\",\n",
    "    route_tools,\n",
    "    # The following dictionary lets you tell the graph to interpret the condition's outputs as a specific node\n",
    "    # It defaults to the identity function, but if you\n",
    "    # want to use a node named something else apart from \"tools\",\n",
    "    # You can update the value of the dictionary to something else\n",
    "    # e.g., \"tools\": \"my_tools\"\n",
    "    {\"tools\": \"tools\", END: END},\n",
    ")\n",
    "# Any time a tool is called, we return to the chatbot to decide the next step\n",
    "graph_builder.add_edge(\"tools\", \"chatbot\")\n",
    "graph_builder.add_edge(START, \"chatbot\")\n",
    "graph = graph_builder.compile()"
   ]
  },
  {
   "cell_type": "code",
   "execution_count": 17,
   "metadata": {},
   "outputs": [
    {
     "data": {
      "image/png": "[encoded data removed]",
      "text/plain": [
       "<IPython.core.display.Image object>"
      ]
     },
     "metadata": {},
     "output_type": "display_data"
    }
   ],
   "source": [
    "from IPython.display import Image, display\n",
    "\n",
    "try:\n",
    "    display(Image(graph.get_graph().draw_mermaid_png()))\n",
    "except Exception:\n",
    "    # This requires some extra dependencies and is optional\n",
    "    pass"
   ]
  },
  {
   "cell_type": "markdown",
   "metadata": {},
   "source": [
    "Now we can ask the bot questions outside its training data.\n"
   ]
  },
  {
   "cell_type": "code",
   "execution_count": null,
   "metadata": {},
   "outputs": [
    {
     "name": "stdout",
     "output_type": "stream",
     "text": [
      "Assistant: \n",
      "Assistant: [{\"title\": \"LangChain: Build AI Solutions with Node.js - A Comprehensive Guide\", \"url\": \"https://medium.com/widle-studio/building-ai-solutions-with-langchain-and-node-js-a-comprehensive-guide-widle-studio-4812753aedff\", \"content\": \"1. Understanding LangChain\\n1.1 What is LangChain?\\nLangChain is a Node.js library that empowers developers with powerful natural language processing capabilities. It leverages advanced AI algorithms and models to perform tasks like text tokenization, part-of-speech tagging, named entity recognition, language translation, and sentiment analysis. Developers can build sophisticated NLP applications effortlessly with the simplicity and efficiency of LangChain's APIs.\\n1.2 Key Features of LangChain [...] Before we start using LangChain, we need to have Node.js installed on our system. Node.js is a JavaScript runtime that enables us to run JavaScript code outside the browser. Visit the official Node.js website (https://nodejs.org) and download the latest stable version for your operating system. Once installed, verify the installation by running node -v in your terminal.\\n2.2 Initializing a Node.js Project [...] In the rapidly evolving landscape of artificial intelligence (AI) and natural language processing (NLP), developers seek powerful tools that simplify the creation of AI-driven solutions. LangChain is an exciting and innovative library that offers a wide range of NLP capabilities to developers using Node.js. In this comprehensive guide, we will explore the world of LangChain and demonstrate how to build AI solutions effortlessly with its powerful features.\\nTable of Contents:\", \"score\": 0.8300716143333333}, {\"title\": \"Beginners guide to Langchain: Graphs, States, Nodes, and Edges\", \"url\": \"https://medium.com/@umang91999/beginners-guide-to-langchain-graphs-states-nodes-and-edges-3ca7f3de5bfe\", \"content\": \"All messages generated during a single runtime session are stored in the messages channel of the MessageState. This includes HumanMessages, ToolMessages and, AIMessages.\\nNodes\\nNodes are just Python functions with a State object parameter. They perform an operation and update the channel of the assigned State parameter.\\nLet\\u2019s try to understand with a simple example. Lets take 3 nodes\\ndef node_1(state: State):\\n    print('----node1----')\", \"score\": 0.77154861}]\n",
      "Assistant: Based on the search results, it seems that there are two main contexts in which \"node\" is discussed in relation to LangChain:\n",
      "\n",
      "1. **LangChain as a Node.js Library for NLP:**\n",
      "   - LangChain is described as a Node.js library that provides developers with powerful natural language processing (NLP) capabilities.\n",
      "   - It includes features such as text tokenization, part-of-speech tagging, named entity recognition, language translation, and sentiment analysis.\n",
      "\n",
      "2. **Nodes in the Context of Graphs and States:**\n",
      "   - In this context, \"node\" refers to a concept used in graph theory or data structures within LangChain.\n",
      "   - Nodes are described as Python functions that perform operations and update channels (like messages) associated with a State object.\n",
      "\n",
      "If you're looking for information on how nodes are used specifically in the context of LangChain's graph-based approach, it seems like the second article provides more relevant details. Would you like me to elaborate further based on this information?\n",
      "Assistant: \n",
      "Assistant: [{\"title\": \"How does climate change affect biodiversity? - Royal Society\", \"url\": \"https://royalsociety.org/news-resources/projects/biodiversity/climate-change-and-biodiversity/\", \"content\": \"If current rates of warming continue, by 2030 global temperatures could increase by more than 1.5\\u00b0C (2.7\\u00b0F) compared to before the industrial revolution. A major impact of\\u00a0 climate change on biodiversity is the increase in the intensity and frequency of fires, storms or periods of drought. In Australia at the end of 2019 and start of 2020, 97,000km2 of forest and surrounding habitats were destroyed by intense fires that are now known to have been made worse by climate change. This adds to the [...] The environmental changes being driven by climate change are disturbing natural habitats and species in ways that are still only becoming clear. There are signs that rising temperatures are affecting biodiversity, while changing rainfall patterns, extreme weather events, and ocean acidification are putting pressure on species already threatened by other human activities.\", \"score\": 0.9039262643329657}, {\"title\": \"Biodiversity - our strongest natural defense against climate change\", \"url\": \"https://www.un.org/en/climatechange/science/climate-issues/biodiversity\", \"content\": \"But climate change is playing an increasingly important role in the decline of biodiversity. Climate change has altered marine, terrestrial, and freshwater ecosystems around the world. It has caused the loss of local species, increased diseases, and driven mass mortality of plants and animals, resulting in the first climate-driven extinctions.\", \"score\": 0.902125053472988}]\n",
      "User: What do you know about LangGraph?\n",
      "Assistant: \n",
      "Assistant: [{\"title\": \"LangGraph Quickstart - GitHub Pages\", \"url\": \"https://langchain-ai.github.io/langgraph/tutorials/introduction/\", \"content\": \"[](https://langchain-ai.github.io/langgraph/tutorials/introduction/#__codelineno-9-1)Assistant: LangGraph is a library designed to help build stateful multi-agent applications using language models. It provides tools for creating workflows and state machines to coordinate multiple AI agents or language model interactions. LangGraph is built on top of LangChain, leveraging its components while adding graph-based coordination capabilities. It's particularly useful for developing more complex, [...] [](https://langchain-ai.github.io/langgraph/tutorials/introduction/#__codelineno-21-6)   LangGraph is a library designed for building stateful, multi-actor applications with Large Language Models (LLMs). It's particularly useful for creating agent and multi-agent workflows.\\n[](https://langchain-ai.github.io/langgraph/tutorials/introduction/#__codelineno-21-7)\\n[](https://langchain-ai.github.io/langgraph/tutorials/introduction/#__codelineno-21-8)2. Developer: [...] [](https://langchain-ai.github.io/langgraph/tutorials/introduction/#__codelineno-48-19)LangGraph is likely a framework or library designed specifically for creating AI agents with advanced capabilities. Here are a few points to consider based on this recommendation:\\n[](https://langchain-ai.github.io/langgraph/tutorials/introduction/#__codelineno-48-20)\", \"score\": 0.9032571072124412}, {\"title\": \"langchain-ai/langgraph: Build resilient language agents as graphs.\", \"url\": \"https://github.com/langchain-ai/langgraph\", \"content\": \"Note\\nLooking for the JS version? See the JS repo and the JS docs.\\nLangGraph \\u2014 used by Replit, Uber, LinkedIn, GitLab and more \\u2014 is a low-level orchestration framework for building controllable agents. While langchain provides integrations and composable components to streamline LLM application development, the LangGraph library enables agent orchestration \\u2014 offering customizable architectures, long-term memory, and human-in-the-loop to reliably handle complex tasks.\\nshell [...] LangGraph is built for developers who want to build powerful, adaptable AI agents. Developers choose LangGraph for: [...] While LangGraph is our open-source agent orchestration framework, enterprises that need scalable agent deployment can benefit from LangGraph Platform.\\nLangGraph Platform can help engineering teams:\", \"score\": 0.8625389469131455}]\n",
      "Assistant: LangGraph is a library designed to facilitate the development of stateful, multi-actor applications using Large Language Models (LLMs). It's particularly useful for creating agent and multi-agent workflows. LangGraph builds on top of LangChain, adding graph-based coordination capabilities.\n",
      "\n",
      "Here are some key points about LangGraph:\n",
      "1. **Purpose**: It is used for building resilient language agents as graphs.\n",
      "2. **Use Cases**: LangGraph can be employed in various applications where multiple AI agents or LLM interactions need to be coordinated effectively.\n",
      "3. **Community and Adoption**: The library has been adopted by several notable companies such as Replit, Uber, LinkedIn, and GitLab.\n",
      "\n",
      "LangGraph is suitable for developers looking to create powerful, adaptable AI agents with advanced capabilities. It offers customizable architectures, long-term memory, and human-in-the-loop features to handle complex tasks reliably.\n",
      "\n",
      "For more detailed information, you can visit the official LangGraph documentation or GitHub repository: [LangGraph Quickstart](https://langchain-ai.github.io/langgraph/tutorials/introduction/) and [GitHub Repository](https://github.com/langchain-ai/langgraph).\n"
     ]
    }
   ],
   "source": [
    "def stream_graph_updates(user_input: str):\n",
    "    for event in graph.stream({\"messages\": [{\"role\": \"user\", \"content\": user_input}]}):\n",
    "        # print(f\"event values: {event.values()}\")\n",
    "        for value in event.values():\n",
    "            print(\"Assistant:\", value[\"messages\"][-1].content)\n",
    "        \n",
    "while True:\n",
    "    try:\n",
    "        user_input = input(\"User: \")\n",
    "        if user_input.lower() in [\"quit\", \"exit\", \"q\"]:\n",
    "            print(\"Goodbye!\")\n",
    "            break\n",
    "\n",
    "        stream_graph_updates(user_input)\n",
    "    except:\n",
    "        # fallback if input() is not available\n",
    "        user_input = \"What do you know about LangGraph?\"\n",
    "        print(\"User: \" + user_input)\n",
    "        stream_graph_updates(user_input)\n",
    "        break"
   ]
  },
  {
   "cell_type": "markdown",
   "metadata": {},
   "source": [
    "### Full code"
   ]
  },
  {
   "cell_type": "code",
   "execution_count": 2,
   "metadata": {},
   "outputs": [],
   "source": [
    "from typing import Annotated\n",
    "\n",
    "from langchain_ollama import ChatOllama\n",
    "from langchain_community.tools.tavily_search import TavilySearchResults\n",
    "from langchain_core.messages import BaseMessage\n",
    "from typing_extensions import TypedDict\n",
    "\n",
    "from langgraph.graph import StateGraph\n",
    "from langgraph.graph.message import add_messages\n",
    "from langgraph.prebuilt import ToolNode, tools_condition\n",
    "from dotenv import load_dotenv\n",
    "load_dotenv()\n",
    "\n",
    "\n",
    "class State(TypedDict):\n",
    "    messages: Annotated[list, add_messages]\n",
    "\n",
    "\n",
    "graph_builder = StateGraph(State)\n",
    "\n",
    "\n",
    "tool = TavilySearchResults(max_results=2)\n",
    "tools = [tool]\n",
    "llm = ChatOllama(model='qwen2.5:7b', temperature=0)\n",
    "llm_with_tools = llm.bind_tools(tools)\n",
    "\n",
    "\n",
    "def chatbot(state: State):\n",
    "    return {\"messages\": [llm_with_tools.invoke(state[\"messages\"])]}\n",
    "\n",
    "\n",
    "graph_builder.add_node(\"chatbot\", chatbot)\n",
    "\n",
    "tool_node = ToolNode(tools=[tool])\n",
    "graph_builder.add_node(\"tools\", tool_node)\n",
    "\n",
    "graph_builder.add_conditional_edges(\n",
    "    \"chatbot\",\n",
    "    tools_condition,\n",
    ")\n",
    "# Any time a tool is called, we return to the chatbot to decide the next step\n",
    "graph_builder.add_edge(\"tools\", \"chatbot\")\n",
    "graph_builder.set_entry_point(\"chatbot\")\n",
    "graph = graph_builder.compile()"
   ]
  },
  {
   "cell_type": "markdown",
   "metadata": {},
   "source": [
    "### Part 3: Adding Memory to the Chatbot\n",
    "\n",
    "Chatbot của chúng tôi giờ đây có thể sử dụng các công cụ để trả lời câu hỏi của người dùng, nhưng nó không ghi nhớ ngữ cảnh của các tương tác trước đó. Điều này hạn chế khả năng của nó trong việc có các cuộc hội thoại mạch lạc, nhiều lượt.\n",
    "\n",
    "LangGraph giải quyết vấn đề này thông qua **checkpointing** liên tục. Nếu bạn cung cấp một **checkpointer** khi biên dịch đồ thị và một **thread_id** khi gọi đồ thị của bạn, LangGraph sẽ tự động lưu trạng thái sau mỗi bước. Khi bạn gọi lại đồ thị bằng cùng **thread_id**, đồ thị sẽ tải trạng thái đã lưu của nó, cho phép chatbot tiếp tục từ nơi nó đã dừng lại.\n",
    "\n",
    "Chúng ta sẽ thấy sau này rằng **checkpointing** mạnh mẽ hơn nhiều so với bộ nhớ trò chuyện đơn giản - nó cho phép bạn lưu và tiếp tục trạng thái phức tạp bất cứ lúc nào để phục hồi lỗi, quy trình làm việc có sự tham gia của con người (human-in-the-loop), tương tác du hành thời gian (time travel interactions) và hơn thế nữa. Nhưng trước khi chúng ta đi quá xa, hãy thêm checkpointing để cho phép các cuộc hội thoại nhiều lượt.\n",
    "\n",
    "Để bắt đầu, hãy tạo một **MemorySaver** checkpointer.\n"
   ]
  },
  {
   "cell_type": "code",
   "execution_count": null,
   "metadata": {},
   "outputs": [],
   "source": []
  }
 ],
 "metadata": {
  "kernelspec": {
   "display_name": "langchain",
   "language": "python",
   "name": "python3"
  },
  "language_info": {
   "codemirror_mode": {
    "name": "ipython",
    "version": 3
   },
   "file_extension": ".py",
   "mimetype": "text/x-python",
   "name": "python",
   "nbconvert_exporter": "python",
   "pygments_lexer": "ipython3",
   "version": "3.10.16"
  }
 },
 "nbformat": 4,
 "nbformat_minor": 2
}
