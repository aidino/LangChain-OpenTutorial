{
 "cells": [
  {
   "cell_type": "markdown",
   "metadata": {},
   "source": [
    "# Agent Phân tích Dữ liệu Đơn giản\n",
    "\n",
    "## Tổng quan\n",
    "Hướng dẫn này sẽ hướng dẫn bạn cách tạo một agent phân tích dữ liệu được hỗ trợ bởi AI, có thể diễn giải và trả lời các câu hỏi về tập dữ liệu bằng ngôn ngữ tự nhiên. Nó kết hợp các mô hình ngôn ngữ với các công cụ thao tác dữ liệu để cho phép khám phá dữ liệu trực quan.\n",
    "\n",
    "## Động lực\n",
    "Phân tích dữ liệu thường đòi hỏi kiến thức chuyên môn, hạn chế khả năng tiếp cận thông tin chi tiết cho người dùng không có kỹ thuật. Bằng cách tạo một agent AI hiểu các truy vấn bằng ngôn ngữ tự nhiên, chúng ta có thể dân chủ hóa việc phân tích dữ liệu, cho phép bất kỳ ai trích xuất thông tin có giá trị từ các tập dữ liệu phức tạp mà không cần biết lập trình hoặc các công cụ thống kê.\n",
    "\n",
    "## Các Thành phần Chính\n",
    "1. Mô hình Ngôn ngữ (Language Model): Xử lý các truy vấn ngôn ngữ tự nhiên và tạo ra các phản hồi giống con người.\n",
    "2. Framework Thao tác Dữ liệu (Data Manipulation Framework): Xử lý các hoạt động và phân tích tập dữ liệu.\n",
    "3. Framework Agent (Agent Framework): Kết nối mô hình ngôn ngữ với các công cụ thao tác dữ liệu.\n",
    "4. Tập Dữ liệu Tổng hợp (Synthetic Dataset): Đại diện cho dữ liệu thế giới thực cho mục đích trình diễn.\n",
    "\n",
    "## Phương pháp\n",
    "1. Tạo một tập dữ liệu tổng hợp đại diện cho dữ liệu bán xe hơi.\n",
    "2. Xây dựng một agent kết hợp mô hình ngôn ngữ với khả năng phân tích dữ liệu.\n",
    "3. Triển khai một hàm xử lý truy vấn để xử lý các câu hỏi bằng ngôn ngữ tự nhiên.\n",
    "4. Trình diễn khả năng của agent với các truy vấn ví dụ.\n",
    "\n",
    "## Kết luận\n",
    "Phương pháp phân tích dữ liệu này mang lại những lợi ích đáng kể:\n",
    "- Khả năng tiếp cận cho người dùng không có kỹ thuật.\n",
    "- Tính linh hoạt trong việc xử lý các loại truy vấn khác nhau.\n",
    "- Khám phá dữ liệu ad-hoc hiệu quả.\n",
    "\n",
    "Bằng cách làm cho thông tin chi tiết về dữ liệu dễ tiếp cận hơn, phương pháp này có khả năng thay đổi cách các tổ chức tận dụng dữ liệu của họ để ra quyết định trong nhiều lĩnh vực và ngành công nghiệp khác nhau.\n"
   ]
  },
  {
   "cell_type": "code",
   "execution_count": 6,
   "metadata": {},
   "outputs": [],
   "source": [
    "import os \n",
    "from langchain_experimental.agents.agent_toolkits import create_pandas_dataframe_agent\n",
    "from langchain.agents import AgentType\n",
    "from langchain_ollama import  ChatOllama\n",
    "import pandas as pd \n",
    "import numpy as np \n",
    "from datetime import datetime, timedelta\n",
    "\n",
    "np.random.seed(42)\n",
    "llm_model_name='qwen2.5:7b'"
   ]
  },
  {
   "cell_type": "code",
   "execution_count": 3,
   "metadata": {},
   "outputs": [
    {
     "data": {
      "text/html": [
       "<div>\n",
       "<style scoped>\n",
       "    .dataframe tbody tr th:only-of-type {\n",
       "        vertical-align: middle;\n",
       "    }\n",
       "\n",
       "    .dataframe tbody tr th {\n",
       "        vertical-align: top;\n",
       "    }\n",
       "\n",
       "    .dataframe thead th {\n",
       "        text-align: right;\n",
       "    }\n",
       "</style>\n",
       "<table border=\"1\" class=\"dataframe\">\n",
       "  <thead>\n",
       "    <tr style=\"text-align: right;\">\n",
       "      <th></th>\n",
       "      <th>Date</th>\n",
       "      <th>Make</th>\n",
       "      <th>Model</th>\n",
       "      <th>Color</th>\n",
       "      <th>Year</th>\n",
       "      <th>Price</th>\n",
       "      <th>Mileage</th>\n",
       "      <th>EngineSize</th>\n",
       "      <th>FuelEfficiency</th>\n",
       "      <th>SalesPerson</th>\n",
       "    </tr>\n",
       "  </thead>\n",
       "  <tbody>\n",
       "    <tr>\n",
       "      <th>0</th>\n",
       "      <td>2022-01-01</td>\n",
       "      <td>Mercedes</td>\n",
       "      <td>Sedan</td>\n",
       "      <td>Green</td>\n",
       "      <td>2022</td>\n",
       "      <td>57952.65</td>\n",
       "      <td>5522.0</td>\n",
       "      <td>2.0</td>\n",
       "      <td>24.7</td>\n",
       "      <td>Alice</td>\n",
       "    </tr>\n",
       "    <tr>\n",
       "      <th>1</th>\n",
       "      <td>2022-01-02</td>\n",
       "      <td>Chevrolet</td>\n",
       "      <td>Hatchback</td>\n",
       "      <td>Red</td>\n",
       "      <td>2021</td>\n",
       "      <td>58668.22</td>\n",
       "      <td>94238.0</td>\n",
       "      <td>1.6</td>\n",
       "      <td>26.2</td>\n",
       "      <td>Bob</td>\n",
       "    </tr>\n",
       "    <tr>\n",
       "      <th>2</th>\n",
       "      <td>2022-01-03</td>\n",
       "      <td>Audi</td>\n",
       "      <td>Truck</td>\n",
       "      <td>White</td>\n",
       "      <td>2019</td>\n",
       "      <td>69187.87</td>\n",
       "      <td>7482.0</td>\n",
       "      <td>2.0</td>\n",
       "      <td>28.0</td>\n",
       "      <td>David</td>\n",
       "    </tr>\n",
       "    <tr>\n",
       "      <th>3</th>\n",
       "      <td>2022-01-04</td>\n",
       "      <td>Nissan</td>\n",
       "      <td>Hatchback</td>\n",
       "      <td>Black</td>\n",
       "      <td>2016</td>\n",
       "      <td>40004.44</td>\n",
       "      <td>43846.0</td>\n",
       "      <td>3.5</td>\n",
       "      <td>24.8</td>\n",
       "      <td>David</td>\n",
       "    </tr>\n",
       "    <tr>\n",
       "      <th>4</th>\n",
       "      <td>2022-01-05</td>\n",
       "      <td>Mercedes</td>\n",
       "      <td>Hatchback</td>\n",
       "      <td>Red</td>\n",
       "      <td>2016</td>\n",
       "      <td>63983.07</td>\n",
       "      <td>52988.0</td>\n",
       "      <td>2.5</td>\n",
       "      <td>24.1</td>\n",
       "      <td>Alice</td>\n",
       "    </tr>\n",
       "  </tbody>\n",
       "</table>\n",
       "</div>"
      ],
      "text/plain": [
       "        Date       Make      Model  Color  Year     Price  Mileage  \\\n",
       "0 2022-01-01   Mercedes      Sedan  Green  2022  57952.65   5522.0   \n",
       "1 2022-01-02  Chevrolet  Hatchback    Red  2021  58668.22  94238.0   \n",
       "2 2022-01-03       Audi      Truck  White  2019  69187.87   7482.0   \n",
       "3 2022-01-04     Nissan  Hatchback  Black  2016  40004.44  43846.0   \n",
       "4 2022-01-05   Mercedes  Hatchback    Red  2016  63983.07  52988.0   \n",
       "\n",
       "   EngineSize  FuelEfficiency SalesPerson  \n",
       "0         2.0            24.7       Alice  \n",
       "1         1.6            26.2         Bob  \n",
       "2         2.0            28.0       David  \n",
       "3         3.5            24.8       David  \n",
       "4         2.5            24.1       Alice  "
      ]
     },
     "execution_count": 3,
     "metadata": {},
     "output_type": "execute_result"
    }
   ],
   "source": [
    "# Generate sample data\n",
    "# Generate sample data\n",
    "n_rows = 1000\n",
    "\n",
    "# Generate dates\n",
    "start_date = datetime(2022, 1, 1)\n",
    "dates = [start_date + timedelta(days=i) for i in range(n_rows)]\n",
    "\n",
    "# Define data categories\n",
    "makes = ['Toyota', 'Honda', 'Ford', 'Chevrolet', 'Nissan', 'BMW', 'Mercedes', 'Audi', 'Hyundai', 'Kia']\n",
    "models = ['Sedan', 'SUV', 'Truck', 'Hatchback', 'Coupe', 'Van']\n",
    "colors = ['Red', 'Blue', 'Black', 'White', 'Silver', 'Gray', 'Green']\n",
    "\n",
    "# Create the dataset\n",
    "data = {\n",
    "    'Date': dates,\n",
    "    'Make': np.random.choice(makes, n_rows),\n",
    "    'Model': np.random.choice(models, n_rows),\n",
    "    'Color': np.random.choice(colors, n_rows),\n",
    "    'Year': np.random.randint(2015, 2023, n_rows),\n",
    "    'Price': np.random.uniform(20000, 80000, n_rows).round(2),\n",
    "    'Mileage': np.random.uniform(0, 100000, n_rows).round(0),\n",
    "    'EngineSize': np.random.choice([1.6, 2.0, 2.5, 3.0, 3.5, 4.0], n_rows),\n",
    "    'FuelEfficiency': np.random.uniform(20, 40, n_rows).round(1),\n",
    "    'SalesPerson': np.random.choice(['Alice', 'Bob', 'Charlie', 'David', 'Eva'], n_rows)\n",
    "}\n",
    "\n",
    "# Create DataFrame and sort by date\n",
    "df = pd.DataFrame(data).sort_values('Date')\n",
    "\n",
    "df.head()"
   ]
  },
  {
   "cell_type": "code",
   "execution_count": 4,
   "metadata": {},
   "outputs": [
    {
     "name": "stdout",
     "output_type": "stream",
     "text": [
      "\n",
      "DataFrame info:\n",
      "<class 'pandas.core.frame.DataFrame'>\n",
      "RangeIndex: 1000 entries, 0 to 999\n",
      "Data columns (total 10 columns):\n",
      " #   Column          Non-Null Count  Dtype         \n",
      "---  ------          --------------  -----         \n",
      " 0   Date            1000 non-null   datetime64[ns]\n",
      " 1   Make            1000 non-null   object        \n",
      " 2   Model           1000 non-null   object        \n",
      " 3   Color           1000 non-null   object        \n",
      " 4   Year            1000 non-null   int64         \n",
      " 5   Price           1000 non-null   float64       \n",
      " 6   Mileage         1000 non-null   float64       \n",
      " 7   EngineSize      1000 non-null   float64       \n",
      " 8   FuelEfficiency  1000 non-null   float64       \n",
      " 9   SalesPerson     1000 non-null   object        \n",
      "dtypes: datetime64[ns](1), float64(4), int64(1), object(4)\n",
      "memory usage: 78.2+ KB\n"
     ]
    }
   ],
   "source": [
    "print(\"\\nDataFrame info:\")\n",
    "df.info()\n"
   ]
  },
  {
   "cell_type": "code",
   "execution_count": 5,
   "metadata": {},
   "outputs": [
    {
     "name": "stdout",
     "output_type": "stream",
     "text": [
      "\n",
      "Summary statistics:\n",
      "                      Date         Year         Price       Mileage  \\\n",
      "count                 1000  1000.000000   1000.000000   1000.000000   \n",
      "mean   2023-05-15 12:00:00  2018.445000  51145.360800  48484.643000   \n",
      "min    2022-01-01 00:00:00  2015.000000  20026.570000     19.000000   \n",
      "25%    2022-09-07 18:00:00  2017.000000  36859.940000  23191.500000   \n",
      "50%    2023-05-15 12:00:00  2018.000000  52215.155000  47506.000000   \n",
      "75%    2024-01-20 06:00:00  2020.000000  65741.147500  73880.250000   \n",
      "max    2024-09-26 00:00:00  2022.000000  79972.640000  99762.000000   \n",
      "std                    NaN     2.256117  17041.610861  29103.404593   \n",
      "\n",
      "        EngineSize  FuelEfficiency  \n",
      "count  1000.000000     1000.000000  \n",
      "mean      2.744500       29.688500  \n",
      "min       1.600000       20.000000  \n",
      "25%       2.000000       24.500000  \n",
      "50%       2.500000       29.700000  \n",
      "75%       3.500000       34.700000  \n",
      "max       4.000000       40.000000  \n",
      "std       0.839389        5.896316  \n"
     ]
    }
   ],
   "source": [
    "print(\"\\nSummary statistics:\")\n",
    "print(df.describe())"
   ]
  },
  {
   "cell_type": "code",
   "execution_count": 8,
   "metadata": {},
   "outputs": [
    {
     "name": "stdout",
     "output_type": "stream",
     "text": [
      "Data Analysis Agent is ready. You can now ask questions about the data.\n"
     ]
    }
   ],
   "source": [
    "# Create data analysis agent\n",
    "agent = create_pandas_dataframe_agent(\n",
    "    ChatOllama(model=llm_model_name, temperature=0),\n",
    "    df,\n",
    "    verbose=True,\n",
    "    allow_dangerous_code=True,\n",
    "    agent_type=AgentType.ZERO_SHOT_REACT_DESCRIPTION\n",
    ")\n",
    "\n",
    "print(\"Data Analysis Agent is ready. You can now ask questions about the data.\")"
   ]
  },
  {
   "cell_type": "code",
   "execution_count": 10,
   "metadata": {},
   "outputs": [],
   "source": [
    "def ask_agent(question):\n",
    "    \"\"\"Function to ask questions to the agent and display the response\"\"\"\n",
    "    response = agent.run({\n",
    "        \"input\": question,\n",
    "        \"agent_scratchpad\": f\"Human: {question}\\nAI: To answer this question, I need to use Python to analyze the dataframe. I'll use the python_repl_ast tool.\\n\\nAction: python_repl_ast\\nAction Input: \",\n",
    "    })\n",
    "    print(f\"Question: {question}\")\n",
    "    print(f\"Answer: {response}\")\n",
    "    print(\"---\")"
   ]
  },
  {
   "cell_type": "code",
   "execution_count": 11,
   "metadata": {},
   "outputs": [
    {
     "name": "stderr",
     "output_type": "stream",
     "text": [
      "/var/folders/66/6rbnzyf91v9d5v8nb46hmn0h0000gn/T/ipykernel_37186/610968568.py:3: LangChainDeprecationWarning: The method `Chain.run` was deprecated in langchain 0.1.0 and will be removed in 1.0. Use :meth:`~invoke` instead.\n",
      "  response = agent.run({\n"
     ]
    },
    {
     "name": "stdout",
     "output_type": "stream",
     "text": [
      "\n",
      "\n",
      "\u001b[1m> Entering new AgentExecutor chain...\u001b[0m\n",
      "\u001b[32;1m\u001b[1;3mThought: I need to count the number of rows in the dataframe.\n",
      "Action: python_repl_ast\n",
      "Action Input: df.shape[0]\u001b[0m\u001b[36;1m\u001b[1;3m1000\u001b[0m\u001b[32;1m\u001b[1;3mThe observation indicates that there are 1000 rows in the dataset.\n",
      "Final Answer: There are 1000 rows in this dataset.\u001b[0m\n",
      "\n",
      "\u001b[1m> Finished chain.\u001b[0m\n",
      "Question: How many rows are in this dataset?\n",
      "Answer: There are 1000 rows in this dataset.\n",
      "---\n"
     ]
    }
   ],
   "source": [
    "ask_agent(\"How many rows are in this dataset?\")"
   ]
  },
  {
   "cell_type": "code",
   "execution_count": 12,
   "metadata": {},
   "outputs": [
    {
     "name": "stdout",
     "output_type": "stream",
     "text": [
      "\n",
      "\n",
      "\u001b[1m> Entering new AgentExecutor chain...\u001b[0m\n",
      "\u001b[32;1m\u001b[1;3mThought: To determine who the best seller is, I need to count how many sales each person made and then identify the person with the highest count.\n",
      "Action: python_repl_ast\n",
      "Action Input: df['SalesPerson'].value_counts()\u001b[0m\u001b[36;1m\u001b[1;3mSalesPerson\n",
      "Alice      216\n",
      "Bob        213\n",
      "David      200\n",
      "Eva        187\n",
      "Charlie    184\n",
      "Name: count, dtype: int64\u001b[0m\u001b[32;1m\u001b[1;3mFinal Answer: Based on the sales counts, Alice is the best seller with 216 sales.\u001b[0m\n",
      "\n",
      "\u001b[1m> Finished chain.\u001b[0m\n",
      "Question: Who is the best seller?\n",
      "Answer: Based on the sales counts, Alice is the best seller with 216 sales.\n",
      "---\n"
     ]
    }
   ],
   "source": [
    "ask_agent(\"Who is the best seller?\")"
   ]
  },
  {
   "cell_type": "code",
   "execution_count": 13,
   "metadata": {},
   "outputs": [
    {
     "name": "stdout",
     "output_type": "stream",
     "text": [
      "\n",
      "\n",
      "\u001b[1m> Entering new AgentExecutor chain...\u001b[0m\n",
      "\u001b[32;1m\u001b[1;3mThought: 我需要找出销售最多的汽车品牌。这涉及到按品牌分组并计算每种品牌的数量。\n",
      "Action: python_repl_ast\n",
      "Action Input: df['Make'].value_counts()\u001b[0m\u001b[36;1m\u001b[1;3mMake\n",
      "Toyota       118\n",
      "Ford         110\n",
      "Nissan       107\n",
      "Kia          107\n",
      "Audi         100\n",
      "BMW           96\n",
      "Mercedes      94\n",
      "Chevrolet     94\n",
      "Hyundai       91\n",
      "Honda         83\n",
      "Name: count, dtype: int64\u001b[0m\u001b[32;1m\u001b[1;3mAction: python_repl_ast\n",
      "Action Input: df['Make'].value_counts().idxmax()\u001b[0m\u001b[36;1m\u001b[1;3mToyota\u001b[0m\u001b[32;1m\u001b[1;3mFinal Answer: 销售最多的是Toyota品牌。\u001b[0m\n",
      "\n",
      "\u001b[1m> Finished chain.\u001b[0m\n",
      "Question: Hãng xe nào bán được nhiều nhất?\n",
      "Answer: 销售最多的是Toyota品牌。\n",
      "---\n"
     ]
    }
   ],
   "source": [
    "ask_agent(\"Hãng xe nào bán được nhiều nhất?\")"
   ]
  },
  {
   "cell_type": "code",
   "execution_count": null,
   "metadata": {},
   "outputs": [],
   "source": []
  }
 ],
 "metadata": {
  "kernelspec": {
   "display_name": "langchain",
   "language": "python",
   "name": "python3"
  },
  "language_info": {
   "codemirror_mode": {
    "name": "ipython",
    "version": 3
   },
   "file_extension": ".py",
   "mimetype": "text/x-python",
   "name": "python",
   "nbconvert_exporter": "python",
   "pygments_lexer": "ipython3",
   "version": "3.10.16"
  }
 },
 "nbformat": 4,
 "nbformat_minor": 2
}
