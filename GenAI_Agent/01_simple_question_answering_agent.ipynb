{
 "cells": [
  {
   "cell_type": "markdown",
   "metadata": {},
   "source": [
    "# Simple Question-Answering Agent Tutorial\n",
    "\n",
    "## Tổng quan\n",
    "Hướng dẫn này giới thiệu một agent Hỏi-Đáp (QA) cơ bản sử dụng LangChain và mô hình ngôn ngữ của OpenAI. Agent này được thiết kế để hiểu các truy vấn của người dùng và cung cấp các câu trả lời ngắn gọn, phù hợp.\n",
    "\n",
    "## Động lực\n",
    "Trong kỷ nguyên của các tương tác được điều khiển bởi AI, việc tạo ra một agent QA đơn giản đóng vai trò là bước đệm cơ bản hướng tới các hệ thống AI phức tạp hơn. Dự án này nhằm mục đích:\n",
    "- Thể hiện những điều cơ bản của việc hỏi đáp được điều khiển bởi AI\n",
    "- Giới thiệu các khái niệm chính trong việc xây dựng các agent AI\n",
    "- Cung cấp nền tảng cho các kiến trúc agent tiên tiến hơn\n",
    "\n",
    "## Các Thành Phần Chính\n",
    "1. **Mô Hình Ngôn Ngữ (Language Model)**: Sử dụng mô hình GPT của OpenAI để hiểu và tạo ngôn ngữ tự nhiên.\n",
    "2. **Mẫu Prompt (Prompt Template)**: Định nghĩa cấu trúc và ngữ cảnh cho các phản hồi của agent.\n",
    "3. **LLMChain**: Kết hợp mô hình ngôn ngữ và mẫu prompt để xử lý hợp lý.\n",
    "\n",
    "## Chi Tiết Phương Pháp\n",
    "\n",
    "### 1. Thiết Lập và Khởi Tạo\n",
    "- Nhập các thư viện cần thiết (LangChain, dotenv)\n",
    "- Tải các biến môi trường để quản lý khóa API\n",
    "- Khởi tạo mô hình ngôn ngữ OpenAI\n",
    "\n",
    "### 2. Định Nghĩa Mẫu Prompt\n",
    "- Tạo một mẫu hướng dẫn AI về vai trò và định dạng phản hồi của nó\n",
    "- Sử dụng lớp `PromptTemplate` để cấu trúc đầu vào\n",
    "\n",
    "### 3. Tạo LLMChain\n",
    "- Kết hợp mô hình ngôn ngữ và mẫu prompt vào một `LLMChain`\n",
    "- Chuỗi này quản lý luồng từ đầu vào của người dùng đến phản hồi của AI\n",
    "\n",
    "### 4. Triển Khai Hàm Hỏi-Đáp\n",
    "- Định nghĩa một hàm nhận câu hỏi của người dùng làm đầu vào\n",
    "- Sử dụng `LLMChain` để xử lý câu hỏi và tạo câu trả lời\n",
    "\n",
    "### 5. Tương Tác Người Dùng\n",
    "- Trong môi trường Jupyter notebook, cung cấp các ô cho:\n",
    "  - Ví dụ sử dụng với một câu hỏi được xác định trước\n",
    "  - Đầu vào tương tác cho các câu hỏi của người dùng\n",
    "\n",
    "## Kết luận\n",
    "Agent Hỏi-Đáp Đơn Giản này đóng vai trò là điểm khởi đầu vào thế giới của các agent AI. Bằng cách hiểu và triển khai mô hình cơ bản này, bạn đã đặt nền móng cho các hệ thống tinh vi hơn. Các cải tiến trong tương lai có thể bao gồm:\n",
    "- Thêm bộ nhớ để duy trì ngữ cảnh trên nhiều câu hỏi\n",
    "- Tích hợp các cơ sở tri thức bên ngoài để có các phản hồi nhiều thông tin hơn\n",
    "- Triển khai các quy trình ra quyết định phức tạp hơn\n",
    "\n",
    "Khi bạn tiến bộ qua các hướng dẫn nâng cao hơn trong kho lưu trữ này, bạn sẽ xây dựng dựa trên những khái niệm cơ bản này để tạo ra các agent AI ngày càng có khả năng và thông minh.\n"
   ]
  },
  {
   "cell_type": "code",
   "execution_count": 1,
   "metadata": {},
   "outputs": [],
   "source": [
    "import os\n",
    "from langchain_ollama import ChatOllama\n",
    "from langchain_core.prompts import PromptTemplate\n",
    "\n",
    "llm = ChatOllama(model='qwen2.5:7b', temperature=0, num_predict=1000)"
   ]
  },
  {
   "cell_type": "code",
   "execution_count": 2,
   "metadata": {},
   "outputs": [],
   "source": [
    "# Define the prompt template\n",
    "template = \"\"\"\n",
    "You are a helpful AI assistant. Your task is to answer the user's question to the best of your ability.\n",
    "\n",
    "User's question: {question}\n",
    "\n",
    "Please provide a clear and concise answer:\n",
    "\"\"\"\n",
    "\n",
    "prompt = PromptTemplate(template=template, input_variables=[\"question\"])"
   ]
  },
  {
   "cell_type": "code",
   "execution_count": null,
   "metadata": {},
   "outputs": [],
   "source": [
    "# Create the LLMChain\n"
   ]
  }
 ],
 "metadata": {
  "kernelspec": {
   "display_name": "langchain",
   "language": "python",
   "name": "python3"
  },
  "language_info": {
   "codemirror_mode": {
    "name": "ipython",
    "version": 3
   },
   "file_extension": ".py",
   "mimetype": "text/x-python",
   "name": "python",
   "nbconvert_exporter": "python",
   "pygments_lexer": "ipython3",
   "version": "3.10.16"
  }
 },
 "nbformat": 4,
 "nbformat_minor": 2
}
